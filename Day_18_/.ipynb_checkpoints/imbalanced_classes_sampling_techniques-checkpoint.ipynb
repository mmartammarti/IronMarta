{
 "cells": [
  {
   "cell_type": "markdown",
   "id": "bd05fdd2",
   "metadata": {},
   "source": [
    "## Logistic Regression on a customer churn data set- telecoms subs"
   ]
  },
  {
   "cell_type": "code",
   "execution_count": null,
   "id": "99a4eadf",
   "metadata": {},
   "outputs": [],
   "source": [
    "import pandas as pd\n",
    "import numpy as np\n",
    "\n",
    "# import plotting libraries\n",
    "import seaborn as sns\n",
    "import matplotlib.pyplot as plt\n",
    "\n",
    "# import sklearn libraries\n",
    "from sklearn.linear_model import LogisticRegression\n",
    "from sklearn.preprocessing import StandardScaler\n",
    "from sklearn.metrics import confusion_matrix\n",
    "from sklearn.metrics import plot_confusion_matrix \n",
    "from sklearn.model_selection import train_test_split"
   ]
  },
  {
   "cell_type": "markdown",
   "id": "c968be79",
   "metadata": {},
   "source": [
    "### Load Data "
   ]
  },
  {
   "cell_type": "code",
   "execution_count": null,
   "id": "f299c4c8",
   "metadata": {},
   "outputs": [],
   "source": [
    "churnData = pd.read_csv('customer_churn.csv') \n",
    "churnData.head(5)"
   ]
  },
  {
   "cell_type": "markdown",
   "id": "3b096671",
   "metadata": {},
   "source": [
    "### Business question \n",
    "\n",
    "Can we predict if a customer account will churn ? "
   ]
  },
  {
   "cell_type": "markdown",
   "id": "d4e6e48e",
   "metadata": {},
   "source": [
    "### Normal intermediate steps \n",
    "\n",
    "we are skipping these steps of the process to focus on the data imbalance alone \n",
    "\n",
    "+ EDA \n",
    "\n",
    "+ Data cleaning \n",
    "\n",
    "+ Feature selection and engineering \n",
    "\n",
    "we will attempt to predict churn using just a few numerical features, and see what the baseline model gives us in terms of accuracy in class predictions"
   ]
  },
  {
   "cell_type": "markdown",
   "id": "6ce6ad2b",
   "metadata": {},
   "source": [
    "### Separate the dependent and independent variables "
   ]
  },
  {
   "cell_type": "code",
   "execution_count": null,
   "id": "54fccfd1",
   "metadata": {},
   "outputs": [],
   "source": [
    "X = churnData[['tenure', 'SeniorCitizen','MonthlyCharges']]\n",
    "y = (churnData.Churn == 'Yes').astype(int)"
   ]
  },
  {
   "cell_type": "code",
   "execution_count": null,
   "id": "234e0611",
   "metadata": {},
   "outputs": [],
   "source": [
    "X.info()"
   ]
  },
  {
   "cell_type": "markdown",
   "id": "09af30a8",
   "metadata": {},
   "source": [
    "### Scale the numerical data "
   ]
  },
  {
   "cell_type": "code",
   "execution_count": null,
   "id": "9f99d77e",
   "metadata": {},
   "outputs": [],
   "source": [
    "transformer = StandardScaler().fit(X)\n",
    "scaled_x = transformer.transform(X)"
   ]
  },
  {
   "cell_type": "code",
   "execution_count": null,
   "id": "566a870f",
   "metadata": {},
   "outputs": [],
   "source": [
    "scaled_x"
   ]
  },
  {
   "cell_type": "markdown",
   "id": "25c2581b",
   "metadata": {},
   "source": [
    "### Confirm the imbalance in our target label "
   ]
  },
  {
   "cell_type": "code",
   "execution_count": null,
   "id": "34b57566",
   "metadata": {},
   "outputs": [],
   "source": [
    "y.value_counts()"
   ]
  },
  {
   "cell_type": "markdown",
   "id": "24a408b5",
   "metadata": {},
   "source": [
    "https://www.kdnuggets.com/2020/01/5-most-useful-techniques-handle-imbalanced-datasets.html"
   ]
  },
  {
   "cell_type": "markdown",
   "id": "214cd323",
   "metadata": {},
   "source": [
    "### Modeling including model validation with train-test-split"
   ]
  },
  {
   "cell_type": "code",
   "execution_count": null,
   "id": "458322fa",
   "metadata": {},
   "outputs": [],
   "source": [
    "# train test split \n",
    "X_train, X_test, y_train, y_test = train_test_split(scaled_x, y, test_size=0.3, random_state=100)"
   ]
  },
  {
   "cell_type": "code",
   "execution_count": null,
   "id": "70414e11",
   "metadata": {},
   "outputs": [],
   "source": [
    "# define and train a LogisticRegression model\n",
    "classification = LogisticRegression(random_state=0, solver='lbfgs',\n",
    "                        multi_class='ovr').fit(X_train, y_train)\n",
    "\n",
    "# creating predictions based on our trained model\n",
    "y_pred=model.predict(X_test)"
   ]
  },
  {
   "cell_type": "markdown",
   "id": "72fd8ab8",
   "metadata": {},
   "source": [
    "### Evaluate the baseline model with confusion matrix "
   ]
  },
  {
   "cell_type": "code",
   "execution_count": null,
   "id": "41e7e251",
   "metadata": {},
   "outputs": [],
   "source": [
    "# confusion matrix \n",
    "confusion_matrix(y_pred, y_test)\n",
    "plot_confusion_matrix(classification,X_test, y_test)\n",
    "plt.show()"
   ]
  },
  {
   "cell_type": "markdown",
   "id": "36540dec",
   "metadata": {},
   "source": [
    "Observation: It's evident that our model is way better in predicting the `Churn=False` customers correctly than the ones that have churned - because of the heavy misbalance within the target variable of `5174` (Did not churn) to `1869` (have churned)"
   ]
  },
  {
   "cell_type": "code",
   "execution_count": null,
   "id": "8aa75d8b",
   "metadata": {},
   "outputs": [],
   "source": [
    "model.score(scaled_x, y)"
   ]
  },
  {
   "cell_type": "code",
   "execution_count": null,
   "id": "073f76c6",
   "metadata": {},
   "outputs": [],
   "source": [
    "# % confusion matrix heat map\n",
    "\n",
    "# shortened name\n",
    "cnfmat = confusion_matrix(y_pred, y_test)\n",
    "\n",
    "# creating a Dataframe out of our confusion matrix, easier to plot in seaborn. \n",
    "df_cm = pd.DataFrame(cnfmat, columns=np.unique(y_test), index = np.unique(y_test))\n",
    "\n",
    "# column and index names to our df\n",
    "df_cm.index.name = 'Actual (Churn?)'\n",
    "df_cm.columns.name = 'Predicted (Churn?)'\n",
    "\n",
    "# set the fontsize for my plot\n",
    "sns.set(font_scale=1)\n",
    "\n",
    "# set plot size\n",
    "fig, ax = plt.subplots(figsize=(8,8))\n",
    "\n",
    "# this function formatter is necessary to create a custom function which formats our values as % \n",
    "from matplotlib.ticker import FuncFormatter\n",
    "fmt = lambda x,pos: '{:.0%}'.format(x)\n",
    "\n",
    "# plot the heatmap for our confusion matrix\n",
    "sns.heatmap(df_cm/df_cm.sum().sum(),  # plot the number of values as percentage of all values in the confusion matrix\n",
    "            annot=True,\n",
    "            fmt='.0%',\n",
    "            cmap='hot',\n",
    "            annot_kws={\"size\":15},\n",
    "            cbar_kws={'format': FuncFormatter(fmt)}\n",
    "           );"
   ]
  },
  {
   "cell_type": "markdown",
   "id": "6f35a879",
   "metadata": {},
   "source": [
    "### applying SMOTE - (oversample the minority class of the target label)"
   ]
  },
  {
   "cell_type": "code",
   "execution_count": null,
   "id": "4eb29ece",
   "metadata": {},
   "outputs": [],
   "source": []
  },
  {
   "cell_type": "code",
   "execution_count": null,
   "id": "dc1a18e7",
   "metadata": {},
   "outputs": [],
   "source": []
  },
  {
   "cell_type": "code",
   "execution_count": null,
   "id": "57ffe63e",
   "metadata": {},
   "outputs": [],
   "source": []
  },
  {
   "cell_type": "markdown",
   "id": "d06a9d68",
   "metadata": {},
   "source": [
    "### Model again and plot the confusion matrix (same code as above)"
   ]
  },
  {
   "cell_type": "code",
   "execution_count": null,
   "id": "1c1fedf5",
   "metadata": {},
   "outputs": [],
   "source": []
  },
  {
   "cell_type": "code",
   "execution_count": null,
   "id": "d7755037",
   "metadata": {},
   "outputs": [],
   "source": []
  },
  {
   "cell_type": "code",
   "execution_count": null,
   "id": "359093e0",
   "metadata": {},
   "outputs": [],
   "source": []
  },
  {
   "cell_type": "markdown",
   "id": "8ae9b378",
   "metadata": {},
   "source": [
    "Observation\n",
    "\n",
    "- \n",
    "- \n",
    "- \n"
   ]
  },
  {
   "cell_type": "markdown",
   "id": "bfef4f76",
   "metadata": {},
   "source": [
    "### Applying TomekLinks to downsample majority class "
   ]
  },
  {
   "cell_type": "code",
   "execution_count": null,
   "id": "c582552b",
   "metadata": {},
   "outputs": [],
   "source": []
  },
  {
   "cell_type": "code",
   "execution_count": null,
   "id": "0a9c2350",
   "metadata": {},
   "outputs": [],
   "source": []
  },
  {
   "cell_type": "code",
   "execution_count": null,
   "id": "b04e6834",
   "metadata": {},
   "outputs": [],
   "source": []
  },
  {
   "cell_type": "code",
   "execution_count": null,
   "id": "73a71661",
   "metadata": {},
   "outputs": [],
   "source": []
  },
  {
   "cell_type": "code",
   "execution_count": null,
   "id": "4286a804",
   "metadata": {},
   "outputs": [],
   "source": []
  },
  {
   "cell_type": "markdown",
   "id": "cc9067b6",
   "metadata": {},
   "source": [
    "Observation:\n",
    "\n",
    "- \n",
    "- \n",
    "- \n"
   ]
  },
  {
   "cell_type": "markdown",
   "id": "9694f29a",
   "metadata": {},
   "source": [
    "### which method to use ? \n",
    "\n",
    "* if you're unsure which method to use then, give [this article](https://machinelearningmastery.com/data-sampling-methods-for-imbalanced-classification/) a read. \n",
    "* In practice it was shown that combining several sampling techniques often yields the bet result so you can also explore hybrid methods in [this article](https://machinelearningmastery.com/random-oversampling-and-undersampling-for-imbalanced-classification/) to try to improve on the SMOTE result in this notebook"
   ]
  },
  {
   "cell_type": "code",
   "execution_count": null,
   "id": "0a9b7b11",
   "metadata": {},
   "outputs": [],
   "source": []
  }
 ],
 "metadata": {
  "kernelspec": {
   "display_name": "Python 3",
   "language": "python",
   "name": "python3"
  },
  "language_info": {
   "codemirror_mode": {
    "name": "ipython",
    "version": 3
   },
   "file_extension": ".py",
   "mimetype": "text/x-python",
   "name": "python",
   "nbconvert_exporter": "python",
   "pygments_lexer": "ipython3",
   "version": "3.8.8"
  }
 },
 "nbformat": 4,
 "nbformat_minor": 5
}
