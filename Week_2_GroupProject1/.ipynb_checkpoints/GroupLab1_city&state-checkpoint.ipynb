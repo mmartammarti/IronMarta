{
 "cells": [
  {
   "cell_type": "markdown",
   "id": "c86e1598",
   "metadata": {},
   "source": [
    "# Group Lab 1"
   ]
  },
  {
   "cell_type": "markdown",
   "id": "fb9ee18a",
   "metadata": {},
   "source": [
    "Processing what we have"
   ]
  },
  {
   "cell_type": "code",
   "execution_count": 51,
   "id": "1ede9eb1",
   "metadata": {},
   "outputs": [],
   "source": [
    "# pandas, numpy, matplotlib, %matplotlib inline, seaborn \n",
    "\n",
    "import pandas as pd \n",
    "import numpy as np \n",
    "import matplotlib.pyplot as plt\n",
    "import seaborn as sns \n",
    "import re\n",
    "%matplotlib inline "
   ]
  },
  {
   "cell_type": "code",
   "execution_count": 52,
   "id": "1df6bb32",
   "metadata": {},
   "outputs": [],
   "source": [
    "#import the model\n",
    "\n",
    "from sklearn import linear_model\n",
    "\n",
    "#import evaluation metrics\n",
    "from sklearn.metrics import mean_squared_error, r2_score "
   ]
  },
  {
   "cell_type": "code",
   "execution_count": 53,
   "id": "41237a6e",
   "metadata": {},
   "outputs": [],
   "source": [
    "data=pd.read_csv('alldata.csv')"
   ]
  },
  {
   "cell_type": "code",
   "execution_count": 54,
   "id": "957931fb",
   "metadata": {},
   "outputs": [
    {
     "data": {
      "text/html": [
       "<div>\n",
       "<style scoped>\n",
       "    .dataframe tbody tr th:only-of-type {\n",
       "        vertical-align: middle;\n",
       "    }\n",
       "\n",
       "    .dataframe tbody tr th {\n",
       "        vertical-align: top;\n",
       "    }\n",
       "\n",
       "    .dataframe thead th {\n",
       "        text-align: right;\n",
       "    }\n",
       "</style>\n",
       "<table border=\"1\" class=\"dataframe\">\n",
       "  <thead>\n",
       "    <tr style=\"text-align: right;\">\n",
       "      <th></th>\n",
       "      <th>position</th>\n",
       "      <th>company</th>\n",
       "      <th>description</th>\n",
       "      <th>reviews</th>\n",
       "      <th>location</th>\n",
       "    </tr>\n",
       "  </thead>\n",
       "  <tbody>\n",
       "    <tr>\n",
       "      <th>0</th>\n",
       "      <td>Development Director</td>\n",
       "      <td>ALS TDI</td>\n",
       "      <td>Development Director\\nALS Therapy Development ...</td>\n",
       "      <td>NaN</td>\n",
       "      <td>Atlanta, GA 30301</td>\n",
       "    </tr>\n",
       "    <tr>\n",
       "      <th>1</th>\n",
       "      <td>An Ostentatiously-Excitable Principal Research...</td>\n",
       "      <td>The Hexagon Lavish</td>\n",
       "      <td>Job Description\\n\\n\"The road that leads to acc...</td>\n",
       "      <td>NaN</td>\n",
       "      <td>Atlanta, GA</td>\n",
       "    </tr>\n",
       "    <tr>\n",
       "      <th>2</th>\n",
       "      <td>Data Scientist</td>\n",
       "      <td>Xpert Staffing</td>\n",
       "      <td>Growing company located in the Atlanta, GA are...</td>\n",
       "      <td>NaN</td>\n",
       "      <td>Atlanta, GA</td>\n",
       "    </tr>\n",
       "    <tr>\n",
       "      <th>3</th>\n",
       "      <td>Data Analyst</td>\n",
       "      <td>Operation HOPE</td>\n",
       "      <td>DEPARTMENT: Program OperationsPOSITION LOCATIO...</td>\n",
       "      <td>44.0</td>\n",
       "      <td>Atlanta, GA 30303</td>\n",
       "    </tr>\n",
       "    <tr>\n",
       "      <th>4</th>\n",
       "      <td>Assistant Professor -TT - Signal Processing &amp; ...</td>\n",
       "      <td>Emory University</td>\n",
       "      <td>DESCRIPTION\\nThe Emory University Department o...</td>\n",
       "      <td>550.0</td>\n",
       "      <td>Atlanta, GA</td>\n",
       "    </tr>\n",
       "  </tbody>\n",
       "</table>\n",
       "</div>"
      ],
      "text/plain": [
       "                                            position             company  \\\n",
       "0                               Development Director             ALS TDI   \n",
       "1  An Ostentatiously-Excitable Principal Research...  The Hexagon Lavish   \n",
       "2                                     Data Scientist      Xpert Staffing   \n",
       "3                                       Data Analyst      Operation HOPE   \n",
       "4  Assistant Professor -TT - Signal Processing & ...    Emory University   \n",
       "\n",
       "                                         description  reviews  \\\n",
       "0  Development Director\\nALS Therapy Development ...      NaN   \n",
       "1  Job Description\\n\\n\"The road that leads to acc...      NaN   \n",
       "2  Growing company located in the Atlanta, GA are...      NaN   \n",
       "3  DEPARTMENT: Program OperationsPOSITION LOCATIO...     44.0   \n",
       "4  DESCRIPTION\\nThe Emory University Department o...    550.0   \n",
       "\n",
       "             location  \n",
       "0  Atlanta, GA 30301   \n",
       "1         Atlanta, GA  \n",
       "2         Atlanta, GA  \n",
       "3  Atlanta, GA 30303   \n",
       "4         Atlanta, GA  "
      ]
     },
     "execution_count": 54,
     "metadata": {},
     "output_type": "execute_result"
    }
   ],
   "source": [
    "data.head()"
   ]
  },
  {
   "cell_type": "code",
   "execution_count": 55,
   "id": "42d82821",
   "metadata": {},
   "outputs": [
    {
     "name": "stdout",
     "output_type": "stream",
     "text": [
      "<class 'pandas.core.frame.DataFrame'>\n",
      "RangeIndex: 6964 entries, 0 to 6963\n",
      "Data columns (total 5 columns):\n",
      " #   Column       Non-Null Count  Dtype  \n",
      "---  ------       --------------  -----  \n",
      " 0   position     6953 non-null   object \n",
      " 1   company      6953 non-null   object \n",
      " 2   description  6953 non-null   object \n",
      " 3   reviews      5326 non-null   float64\n",
      " 4   location     6953 non-null   object \n",
      "dtypes: float64(1), object(4)\n",
      "memory usage: 272.2+ KB\n"
     ]
    }
   ],
   "source": [
    "data.info()"
   ]
  },
  {
   "cell_type": "code",
   "execution_count": 56,
   "id": "a0632c33",
   "metadata": {},
   "outputs": [
    {
     "data": {
      "text/plain": [
       "(6964, 5)"
      ]
     },
     "execution_count": 56,
     "metadata": {},
     "output_type": "execute_result"
    }
   ],
   "source": [
    "data.shape"
   ]
  },
  {
   "cell_type": "code",
   "execution_count": 57,
   "id": "7a19dac2",
   "metadata": {},
   "outputs": [
    {
     "data": {
      "text/plain": [
       "['Data Scientist',\n",
       " 'Senior Data Scientist',\n",
       " 'Research Analyst',\n",
       " 'Data Engineer',\n",
       " 'Machine Learning Engineer',\n",
       " 'Lead Data Scientist',\n",
       " 'Research Scientist',\n",
       " 'Sr. Data Scientist',\n",
       " 'Principal Data Scientist',\n",
       " 'Software Engineer']"
      ]
     },
     "execution_count": 57,
     "metadata": {},
     "output_type": "execute_result"
    }
   ],
   "source": [
    "data['position'].value_counts()[:10].index.tolist()\n",
    "#checking which are the most named concepts"
   ]
  },
  {
   "cell_type": "code",
   "execution_count": 58,
   "id": "51f66c01",
   "metadata": {},
   "outputs": [
    {
     "data": {
      "text/plain": [
       "<bound method DataFrame.isna of                                                position  \\\n",
       "0                                  Development Director   \n",
       "1     An Ostentatiously-Excitable Principal Research...   \n",
       "2                                        Data Scientist   \n",
       "3                                          Data Analyst   \n",
       "4     Assistant Professor -TT - Signal Processing & ...   \n",
       "...                                                 ...   \n",
       "6959          Data Developer / Machine Learning Analyst   \n",
       "6960                                        Scientist I   \n",
       "6961                                   Intern Scientist   \n",
       "6962                    Senior Data & Applied Scientist   \n",
       "6963            Principal Data Scientist, Deep Learning   \n",
       "\n",
       "                               company  \\\n",
       "0                              ALS TDI   \n",
       "1                   The Hexagon Lavish   \n",
       "2                       Xpert Staffing   \n",
       "3                       Operation HOPE   \n",
       "4                     Emory University   \n",
       "...                                ...   \n",
       "6959                            NetApp   \n",
       "6960  Pharmacyclics, an Abbvie Company   \n",
       "6961                          Oath Inc   \n",
       "6962                         Microsoft   \n",
       "6963                           Comcast   \n",
       "\n",
       "                                            description  reviews  \\\n",
       "0     Development Director\\nALS Therapy Development ...      NaN   \n",
       "1     Job Description\\n\\n\"The road that leads to acc...      NaN   \n",
       "2     Growing company located in the Atlanta, GA are...      NaN   \n",
       "3     DEPARTMENT: Program OperationsPOSITION LOCATIO...     44.0   \n",
       "4     DESCRIPTION\\nThe Emory University Department o...    550.0   \n",
       "...                                                 ...      ...   \n",
       "6959  Are you data-driven? We at NetApp believe in t...    574.0   \n",
       "6960  Pharmacyclics is committed to the development ...     26.0   \n",
       "6961  Oath, a subsidiary of Verizon, is a values-led...      5.0   \n",
       "6962  We are the Bing Core Relevance team responsibl...   4618.0   \n",
       "6963  Comcast’s Technology &amp; Product organizatio...  11610.0   \n",
       "\n",
       "                 location  \n",
       "0      Atlanta, GA 30301   \n",
       "1             Atlanta, GA  \n",
       "2             Atlanta, GA  \n",
       "3      Atlanta, GA 30303   \n",
       "4             Atlanta, GA  \n",
       "...                   ...  \n",
       "6959        Sunnyvale, CA  \n",
       "6960        Sunnyvale, CA  \n",
       "6961        Sunnyvale, CA  \n",
       "6962        Sunnyvale, CA  \n",
       "6963  Sunnyvale, CA 94089  \n",
       "\n",
       "[6964 rows x 5 columns]>"
      ]
     },
     "execution_count": 58,
     "metadata": {},
     "output_type": "execute_result"
    }
   ],
   "source": [
    "data.isna"
   ]
  },
  {
   "cell_type": "code",
   "execution_count": 59,
   "id": "44200b6f",
   "metadata": {},
   "outputs": [],
   "source": [
    "data_non_null = data.dropna(how='all')"
   ]
  },
  {
   "cell_type": "code",
   "execution_count": 60,
   "id": "b938eeed",
   "metadata": {},
   "outputs": [
    {
     "data": {
      "text/plain": [
       "(6953, 5)"
      ]
     },
     "execution_count": 60,
     "metadata": {},
     "output_type": "execute_result"
    }
   ],
   "source": [
    "data_non_null.shape"
   ]
  },
  {
   "cell_type": "markdown",
   "id": "ab2fe631",
   "metadata": {},
   "source": [
    "## 1. Location"
   ]
  },
  {
   "cell_type": "code",
   "execution_count": 70,
   "id": "09d38f4a",
   "metadata": {},
   "outputs": [
    {
     "data": {
      "text/plain": [
       "array(['Atlanta, GA 30301 ', 'Atlanta, GA', 'Atlanta, GA 30303 ',\n",
       "       'Atlanta, GA 30318 ', 'Atlanta, GA 30338', 'Atlanta, GA 30309 ',\n",
       "       'Atlanta, GA 30329', 'Atlanta, GA 30328', 'Atlanta, GA 30313 ',\n",
       "       'Atlanta, GA 30306 ', 'Atlanta, GA 30327 ', 'Atlanta, GA 30322',\n",
       "       'Atlanta, GA 30319', 'Atlanta, GA 30342 ', 'Atlanta, GA 30308 ',\n",
       "       'Atlanta, GA 30341', 'Atlanta, GA 30326 ', 'Atlanta, GA 30361 ',\n",
       "       'Atlanta, GA 30363 ', 'Atlanta, GA 30332 ', 'Atlanta, GA 30345',\n",
       "       'Atlanta, GA 30350', 'Atlanta, GA 30339', 'Austin, TX',\n",
       "       'Austin, TX 78746', 'Austin, TX 78701', 'Austin, TX 78759',\n",
       "       'Round Rock, TX 78664', 'Cedar Park, TX 78613', 'Austin, TX 78702',\n",
       "       'Austin, TX 78754', nan, 'Austin, TX 78751', 'Austin, TX 73344',\n",
       "       'Austin, TX 78731', 'Austin, TX 78716', 'Austin, TX 78729',\n",
       "       'Austin, TX 78758', 'Austin, TX 78769', 'Austin, TX 78753',\n",
       "       'Austin, TX 78703', 'Austin, TX 78744', 'Austin, TX 78723',\n",
       "       'Austin, TX 78747', 'Austin, TX 78730', 'Round Rock, TX',\n",
       "       'Austin, TX 78727', 'Boulder, CO', 'Boulder, CO 80302',\n",
       "       'Boulder, CO 80301', 'Boston, MA', 'Boston, MA 02110',\n",
       "       'Boston, MA 02129', 'Boston, MA 02116', 'Boston, MA 02111',\n",
       "       'Boston, MA 02298', 'Boston, MA 02109', 'Boston, MA 02210',\n",
       "       'Boston, MA 02212', 'Boston, MA 02215', 'Boston, MA 02114',\n",
       "       'Boston, MA 02199', 'Boston, MA 02134', 'Boston, MA 02108',\n",
       "       'Boston, MA 02201', 'Boston, MA 02115', 'Boston, MA 02118',\n",
       "       'Chicago, IL', 'Chicago, IL 60642', 'Chicago, IL 60603',\n",
       "       'Chicago, IL 60606', 'Chicago, IL 60601', 'Chicago, IL 60664',\n",
       "       'Chicago, IL 60290', 'Chicago, IL 60654', 'Chicago, IL 60614',\n",
       "       'Chicago, IL 60604', 'Chicago, IL 60607', 'Chicago, IL 60647',\n",
       "       'Chicago, IL 60661', 'Chicago, IL 60657', 'Chicago, IL 60659',\n",
       "       'Chicago, IL 60631', 'Chicago, IL 60610', 'Chicago, IL 60611',\n",
       "       'Chicago, IL 60615', 'Chicago, IL 60613', 'Chicago, IL 60602',\n",
       "       'Chicago, IL 60646', 'Chicago, IL 60616', 'Washington, DC 20006',\n",
       "       'Washington, DC 20422', 'Washington, DC 20005', 'Washington, DC',\n",
       "       'Washington, DC 20001', 'Washington, DC 20036',\n",
       "       'Washington, DC 20003', 'Washington, DC 20044',\n",
       "       'Washington, DC 20230', 'Washington, DC 20037',\n",
       "       'Washington, DC 20024', 'Washington, DC 20032',\n",
       "       'Washington, DC 20229', 'Washington, DC 20002',\n",
       "       'Washington, DC 20020', 'Washington, DC 20022',\n",
       "       'Washington, DC 20009', 'Washington, DC 20318',\n",
       "       'Washington, DC 20301', 'Washington, DC 20585',\n",
       "       'Washington, DC 20376', 'Washington, DC 20004',\n",
       "       'Washington, DC 20535', 'Washington, DC 20007',\n",
       "       'Washington, DC 20010', 'Los Angeles, CA', 'Los Angeles, CA 90002',\n",
       "       'Los Angeles, CA 90012', 'Los Angeles, CA 90006',\n",
       "       'Los Angeles, CA 90036', 'Los Angeles, CA 90064',\n",
       "       'Los Angeles, CA 90001', 'Los Angeles, CA 90025',\n",
       "       'Los Angeles, CA 90067', 'Los Angeles, CA 90015',\n",
       "       'Los Angeles, CA 90028', 'Los Angeles, CA 90048',\n",
       "       'Los Angeles, CA 90024', 'Los Angeles, CA 90071',\n",
       "       'Los Angeles, CA 90095', 'Los Angeles, CA 90066',\n",
       "       'Los Angeles, CA 90046', 'Los Angeles, CA 90010',\n",
       "       'Los Angeles, CA 90045', 'Los Angeles, CA 90016',\n",
       "       'Los Angeles, CA 90017', 'Cambridge, MA', 'Cambridge, MA 02139',\n",
       "       'Cambridge, MA 02140', 'Cambridge, MA 02142',\n",
       "       'Cambridge, MA 02141', 'Cambridge, MA 02138',\n",
       "       'Cambridge, MA 02163', 'Mountain View, CA 94040',\n",
       "       'Mountain View, CA 94043', 'Mountain View, CA',\n",
       "       'Mountain View, CA 94039', 'Mountain View, CA 94041',\n",
       "       'Manhattan, NY', 'Mountain View, CA 94035', 'New York, NY',\n",
       "       'New York, NY 10032', 'Jersey City, NJ', 'New York, NY 10016',\n",
       "       'New York, NY 10003', 'New York, NY 10261', 'Newark, NJ',\n",
       "       'Oakland, NJ', 'New York, NY 10001', 'Bronx, NY',\n",
       "       'New York, NY 10019', 'New York, NY 10154', 'New York, NY 10004',\n",
       "       'New York, NY 10010', 'New York, NY 10065', 'New York, NY 10022',\n",
       "       'New York, NY 10007', 'New York, NY 10020', 'New York, NY 10011',\n",
       "       'New York, NY 10036', 'Hoboken, NJ 07030', 'New York, NY 10014',\n",
       "       'Brooklyn, NY', 'New York, NY 10017', 'New York, NY 10173',\n",
       "       'New York, NY 10002', 'New York, NY 10282', 'Rutherford, NJ',\n",
       "       'Union, NJ 07083', 'Rahway, NJ', 'Newark, NJ 07105',\n",
       "       'Jersey City, NJ 07310', 'Murray Hill, NJ', 'South Plainfield, NJ',\n",
       "       'New York, NY 10018', 'New York, NY 10012', 'New York, NY 10011 ',\n",
       "       'New York, NY 10281 ', 'New York, NY 10104 ', 'Hoboken, NJ',\n",
       "       'New York, NY 10154 ', 'New York, NY 10014 ',\n",
       "       'New York, NY 10032 ', 'New York, NY 10282 ',\n",
       "       'New York, NY 10001 ', 'Queens, NY', 'New York, NY 10016 ',\n",
       "       'New York, NY 10022 ', 'Little Falls, NJ',\n",
       "       'Florham Park, NJ 07932', 'New York, NY 10006 ',\n",
       "       'New York, NY 10261 ', 'New York, NY 10179 ', 'Troy Hills, NJ',\n",
       "       'Bloomfield, NJ', 'New York, NY 10013 ', 'Lynbrook, NY',\n",
       "       'Allendale, NJ', 'Parsippany, NJ', 'New York, NY 10018 ',\n",
       "       'New York, NY 10003 ', 'New York, NY 10176 ',\n",
       "       'New York, NY 10002 ', 'New York, NY 10023 ',\n",
       "       'New York, NY 10029 ', 'New York, NY 10017 ',\n",
       "       'New York, NY 10107 ', 'New York, NY 10038 ',\n",
       "       'West Orange, NJ 07052', 'Kenilworth, NJ', 'New York, NY 10041 ',\n",
       "       'New York, NY 10005 ', 'New York, NY 10012 ',\n",
       "       'New York, NY 10065 ', 'Ridgefield, NJ', 'New York, NY 10119 ',\n",
       "       'Harrison, NY', 'Montclair, NJ', 'New York, NY 10171 ',\n",
       "       'Fort Lee, NJ', 'New York, NY 10010 ', 'New York, NY 10021 ',\n",
       "       'Carlstadt, NJ 07072', 'Orangeburg, NY 10962',\n",
       "       'Jersey City, NJ 07310 ', 'Fairfield, NJ', 'Palisades, NY',\n",
       "       'Hackensack, NJ', 'Roseland, NJ 07068', 'New York, NY 10168 ',\n",
       "       'New York, NY 10172 ', 'East Hanover, NJ 07936',\n",
       "       'Long Beach, NY 11561', 'Whippany, NJ', 'Union, NJ',\n",
       "       'Brooklyn, NY 11249 ', 'Jersey City, NJ 07311 ',\n",
       "       'New York, NY 10019 ', 'Manhasset, NY 11030', 'Yonkers, NY 10701',\n",
       "       'Brooklyn, NY 11216 ', 'New York, NY 10279 ',\n",
       "       'New York, NY 10004 ', 'New Hyde Park, NY 11040', 'Secaucus, NJ',\n",
       "       'New York, NY 10055 ', 'Port Washington, NY 11050',\n",
       "       'Staten Island, NY', 'Short Hills, NJ', 'Manhattanville, NY',\n",
       "       'Woodcliff Lake, NJ', 'New York, NY 10027 ', 'New York, NY 10007 ',\n",
       "       'Brooklyn, NY 11201', 'Redmond, WA 98052', 'Redmond, WA',\n",
       "       'Redmond, WA 98053', 'San Diego, CA', 'San Diego, CA 92109',\n",
       "       'San Diego, CA 92121', 'San Diego, CA 92108',\n",
       "       'San Diego, CA 92127', 'San Diego, CA 92111',\n",
       "       'San Diego, CA 92123', 'San Diego, CA 92122',\n",
       "       'San Diego, CA 92130', 'San Diego, CA 92120',\n",
       "       'San Diego, CA 92102', 'San Diego, CA 92154',\n",
       "       'San Diego, CA 92128', 'San Diego, CA 92129', 'Bedminster, NJ',\n",
       "       'New Brunswick, NJ', 'San Diego, CA 92110', 'San Diego, CA 92105',\n",
       "       'Seattle, WA 98104', 'Seattle, WA', 'Seattle, WA 98109',\n",
       "       'Seattle, WA 98101', 'Seattle, WA 98115', 'Seattle, WA 98102',\n",
       "       'Seattle, WA 98121', 'Seattle, WA 98119', 'Seattle, WA 98103',\n",
       "       'Seattle, WA 98105', 'Seattle, WA 98127', 'Seattle, WA 98194',\n",
       "       'Seattle, WA 98106', 'Seattle, WA 98168', 'Seattle, WA 98164',\n",
       "       'Seattle, WA 98122', 'Seattle, WA 98188', 'Seattle, WA 98134',\n",
       "       'Seattle, WA 98195', 'San Francisco, CA 94103', 'Redwood City, CA',\n",
       "       'San Francisco, CA', 'San Francisco, CA 94105',\n",
       "       'San Francisco, CA 94124', 'San Mateo, CA',\n",
       "       'Redwood City, CA 94063', 'Berkeley, CA',\n",
       "       'San Francisco Bay Area, CA', 'Menlo Park, CA 94026',\n",
       "       'Redwood City, CA 94065', 'Emeryville, CA', 'Oakland, CA',\n",
       "       'South San Francisco, CA', 'San Francisco, CA 94107',\n",
       "       'Foster City, CA', 'San Francisco, CA 94114',\n",
       "       'San Francisco, CA 94158', 'San Francisco, CA 94104',\n",
       "       'San Francisco, CA 94133', 'Redwood City, CA 94062',\n",
       "       'Oakland, CA 94612', 'Emeryville, CA 94608',\n",
       "       'South San Francisco, CA 94080', 'San Carlos, CA 94070',\n",
       "       'San Francisco, CA 94115', 'San Mateo, CA 94404',\n",
       "       'San Francisco, CA 94108', 'San Francisco, CA 94126',\n",
       "       'Union City, CA 94587', 'Burlingame, CA 94010', 'Belmont, CA',\n",
       "       'Richmond, CA 94804', 'Richmond, CA', 'Berkeley, CA 94710',\n",
       "       'San Francisco, CA 94111', 'Hayward, CA',\n",
       "       'South San Francisco, CA 94083', 'Novato, CA',\n",
       "       'San Francisco, CA 94102', 'Burlingame, CA', 'Alameda, CA 94501',\n",
       "       'San Rafael, CA', 'San Mateo, CA 94403', 'Alameda, CA',\n",
       "       'Menlo Park, CA 94025', 'Pleasant Hill, CA', 'San Bruno, CA',\n",
       "       'Oakland, CA 94611', 'Oakland, CA 94607', 'Redwood City, CA 94061',\n",
       "       'Novato, CA 94949', 'San Ramon, CA', 'Lafayette, CA',\n",
       "       'San Leandro, CA', 'Hayward, CA 94545', 'San Carlos, CA',\n",
       "       'San Mateo, CA 94401', 'Daly City, CA 94016',\n",
       "       'Mill Valley, CA 94941', 'San Francisco, CA 94129',\n",
       "       'San Francisco, CA 94109', 'Fremont, CA 94555',\n",
       "       'Richmond, CA 94806', 'San Bruno, CA 94066', 'Belmont, CA 94002',\n",
       "       'San Francisco, CA 94110', 'Martinez, CA',\n",
       "       'San Francisco, CA 94122', 'Walnut Creek, CA',\n",
       "       'Kentfield, CA 94904', 'Oakland, CA 94601', 'San Mateo, CA 94402',\n",
       "       'San Francisco, CA 94117', 'Walnut Creek, CA 94596',\n",
       "       'Sunnyvale, CA', 'Sunnyvale, CA 94089', 'Sunnyvale, CA 94085',\n",
       "       'Sunnyvale, CA 94086'], dtype=object)"
      ]
     },
     "execution_count": 70,
     "metadata": {},
     "output_type": "execute_result"
    }
   ],
   "source": [
    "data['location'].unique()"
   ]
  },
  {
   "cell_type": "code",
   "execution_count": 71,
   "id": "5517718e",
   "metadata": {},
   "outputs": [
    {
     "data": {
      "text/plain": [
       "Seattle, WA                563\n",
       "New York, NY               508\n",
       "Cambridge, MA              487\n",
       "Boston, MA                 454\n",
       "San Francisco, CA          425\n",
       "                          ... \n",
       "San Francisco, CA 94117      1\n",
       "Hoboken, NJ 07030            1\n",
       "New York, NY 10171           1\n",
       "Seattle, WA 98164            1\n",
       "Los Angeles, CA 90046        1\n",
       "Name: location, Length: 382, dtype: int64"
      ]
     },
     "execution_count": 71,
     "metadata": {},
     "output_type": "execute_result"
    }
   ],
   "source": [
    "data['location'].value_counts()"
   ]
  },
  {
   "cell_type": "code",
   "execution_count": 62,
   "id": "af79b14b",
   "metadata": {},
   "outputs": [
    {
     "data": {
      "text/html": [
       "<div>\n",
       "<style scoped>\n",
       "    .dataframe tbody tr th:only-of-type {\n",
       "        vertical-align: middle;\n",
       "    }\n",
       "\n",
       "    .dataframe tbody tr th {\n",
       "        vertical-align: top;\n",
       "    }\n",
       "\n",
       "    .dataframe thead th {\n",
       "        text-align: right;\n",
       "    }\n",
       "</style>\n",
       "<table border=\"1\" class=\"dataframe\">\n",
       "  <thead>\n",
       "    <tr style=\"text-align: right;\">\n",
       "      <th></th>\n",
       "      <th>0</th>\n",
       "    </tr>\n",
       "  </thead>\n",
       "  <tbody>\n",
       "    <tr>\n",
       "      <th>0</th>\n",
       "      <td>Atlanta, GA</td>\n",
       "    </tr>\n",
       "    <tr>\n",
       "      <th>1</th>\n",
       "      <td>Atlanta, GA</td>\n",
       "    </tr>\n",
       "    <tr>\n",
       "      <th>2</th>\n",
       "      <td>Atlanta, GA</td>\n",
       "    </tr>\n",
       "    <tr>\n",
       "      <th>3</th>\n",
       "      <td>Atlanta, GA</td>\n",
       "    </tr>\n",
       "    <tr>\n",
       "      <th>4</th>\n",
       "      <td>Atlanta, GA</td>\n",
       "    </tr>\n",
       "    <tr>\n",
       "      <th>...</th>\n",
       "      <td>...</td>\n",
       "    </tr>\n",
       "    <tr>\n",
       "      <th>6959</th>\n",
       "      <td>Sunnyvale, CA</td>\n",
       "    </tr>\n",
       "    <tr>\n",
       "      <th>6960</th>\n",
       "      <td>Sunnyvale, CA</td>\n",
       "    </tr>\n",
       "    <tr>\n",
       "      <th>6961</th>\n",
       "      <td>Sunnyvale, CA</td>\n",
       "    </tr>\n",
       "    <tr>\n",
       "      <th>6962</th>\n",
       "      <td>Sunnyvale, CA</td>\n",
       "    </tr>\n",
       "    <tr>\n",
       "      <th>6963</th>\n",
       "      <td>Sunnyvale, CA</td>\n",
       "    </tr>\n",
       "  </tbody>\n",
       "</table>\n",
       "<p>6964 rows × 1 columns</p>\n",
       "</div>"
      ],
      "text/plain": [
       "                  0\n",
       "0       Atlanta, GA\n",
       "1       Atlanta, GA\n",
       "2       Atlanta, GA\n",
       "3       Atlanta, GA\n",
       "4       Atlanta, GA\n",
       "...             ...\n",
       "6959  Sunnyvale, CA\n",
       "6960  Sunnyvale, CA\n",
       "6961  Sunnyvale, CA\n",
       "6962  Sunnyvale, CA\n",
       "6963  Sunnyvale, CA\n",
       "\n",
       "[6964 rows x 1 columns]"
      ]
     },
     "execution_count": 62,
     "metadata": {},
     "output_type": "execute_result"
    }
   ],
   "source": [
    "data['location'].str.extract(r'([\\D]+ ?[\\D]+, \\D\\D)')\n",
    "#it matches any character that is not a digit"
   ]
  },
  {
   "cell_type": "code",
   "execution_count": null,
   "id": "94a1363a",
   "metadata": {},
   "outputs": [],
   "source": []
  },
  {
   "cell_type": "code",
   "execution_count": 63,
   "id": "8ab72eba",
   "metadata": {},
   "outputs": [
    {
     "data": {
      "text/html": [
       "<div>\n",
       "<style scoped>\n",
       "    .dataframe tbody tr th:only-of-type {\n",
       "        vertical-align: middle;\n",
       "    }\n",
       "\n",
       "    .dataframe tbody tr th {\n",
       "        vertical-align: top;\n",
       "    }\n",
       "\n",
       "    .dataframe thead th {\n",
       "        text-align: right;\n",
       "    }\n",
       "</style>\n",
       "<table border=\"1\" class=\"dataframe\">\n",
       "  <thead>\n",
       "    <tr style=\"text-align: right;\">\n",
       "      <th></th>\n",
       "      <th>position</th>\n",
       "      <th>company</th>\n",
       "      <th>description</th>\n",
       "      <th>reviews</th>\n",
       "      <th>location</th>\n",
       "    </tr>\n",
       "  </thead>\n",
       "  <tbody>\n",
       "    <tr>\n",
       "      <th>0</th>\n",
       "      <td>Development Director</td>\n",
       "      <td>ALS TDI</td>\n",
       "      <td>Development Director\\nALS Therapy Development ...</td>\n",
       "      <td>NaN</td>\n",
       "      <td>Atlanta, GA 30301</td>\n",
       "    </tr>\n",
       "    <tr>\n",
       "      <th>1</th>\n",
       "      <td>An Ostentatiously-Excitable Principal Research...</td>\n",
       "      <td>The Hexagon Lavish</td>\n",
       "      <td>Job Description\\n\\n\"The road that leads to acc...</td>\n",
       "      <td>NaN</td>\n",
       "      <td>Atlanta, GA</td>\n",
       "    </tr>\n",
       "    <tr>\n",
       "      <th>2</th>\n",
       "      <td>Data Scientist</td>\n",
       "      <td>Xpert Staffing</td>\n",
       "      <td>Growing company located in the Atlanta, GA are...</td>\n",
       "      <td>NaN</td>\n",
       "      <td>Atlanta, GA</td>\n",
       "    </tr>\n",
       "    <tr>\n",
       "      <th>3</th>\n",
       "      <td>Data Analyst</td>\n",
       "      <td>Operation HOPE</td>\n",
       "      <td>DEPARTMENT: Program OperationsPOSITION LOCATIO...</td>\n",
       "      <td>44.0</td>\n",
       "      <td>Atlanta, GA 30303</td>\n",
       "    </tr>\n",
       "    <tr>\n",
       "      <th>4</th>\n",
       "      <td>Assistant Professor -TT - Signal Processing &amp; ...</td>\n",
       "      <td>Emory University</td>\n",
       "      <td>DESCRIPTION\\nThe Emory University Department o...</td>\n",
       "      <td>550.0</td>\n",
       "      <td>Atlanta, GA</td>\n",
       "    </tr>\n",
       "  </tbody>\n",
       "</table>\n",
       "</div>"
      ],
      "text/plain": [
       "                                            position             company  \\\n",
       "0                               Development Director             ALS TDI   \n",
       "1  An Ostentatiously-Excitable Principal Research...  The Hexagon Lavish   \n",
       "2                                     Data Scientist      Xpert Staffing   \n",
       "3                                       Data Analyst      Operation HOPE   \n",
       "4  Assistant Professor -TT - Signal Processing & ...    Emory University   \n",
       "\n",
       "                                         description  reviews  \\\n",
       "0  Development Director\\nALS Therapy Development ...      NaN   \n",
       "1  Job Description\\n\\n\"The road that leads to acc...      NaN   \n",
       "2  Growing company located in the Atlanta, GA are...      NaN   \n",
       "3  DEPARTMENT: Program OperationsPOSITION LOCATIO...     44.0   \n",
       "4  DESCRIPTION\\nThe Emory University Department o...    550.0   \n",
       "\n",
       "             location  \n",
       "0  Atlanta, GA 30301   \n",
       "1         Atlanta, GA  \n",
       "2         Atlanta, GA  \n",
       "3  Atlanta, GA 30303   \n",
       "4         Atlanta, GA  "
      ]
     },
     "execution_count": 63,
     "metadata": {},
     "output_type": "execute_result"
    }
   ],
   "source": [
    "data.head()"
   ]
  },
  {
   "cell_type": "code",
   "execution_count": 72,
   "id": "9f399063",
   "metadata": {},
   "outputs": [
    {
     "ename": "KeyError",
     "evalue": "'location_clean'",
     "output_type": "error",
     "traceback": [
      "\u001b[0;31m---------------------------------------------------------------------------\u001b[0m",
      "\u001b[0;31mKeyError\u001b[0m                                  Traceback (most recent call last)",
      "\u001b[0;32m/opt/anaconda3/lib/python3.8/site-packages/pandas/core/indexes/base.py\u001b[0m in \u001b[0;36mget_loc\u001b[0;34m(self, key, method, tolerance)\u001b[0m\n\u001b[1;32m   3079\u001b[0m             \u001b[0;32mtry\u001b[0m\u001b[0;34m:\u001b[0m\u001b[0;34m\u001b[0m\u001b[0;34m\u001b[0m\u001b[0m\n\u001b[0;32m-> 3080\u001b[0;31m                 \u001b[0;32mreturn\u001b[0m \u001b[0mself\u001b[0m\u001b[0;34m.\u001b[0m\u001b[0m_engine\u001b[0m\u001b[0;34m.\u001b[0m\u001b[0mget_loc\u001b[0m\u001b[0;34m(\u001b[0m\u001b[0mcasted_key\u001b[0m\u001b[0;34m)\u001b[0m\u001b[0;34m\u001b[0m\u001b[0;34m\u001b[0m\u001b[0m\n\u001b[0m\u001b[1;32m   3081\u001b[0m             \u001b[0;32mexcept\u001b[0m \u001b[0mKeyError\u001b[0m \u001b[0;32mas\u001b[0m \u001b[0merr\u001b[0m\u001b[0;34m:\u001b[0m\u001b[0;34m\u001b[0m\u001b[0;34m\u001b[0m\u001b[0m\n",
      "\u001b[0;32mpandas/_libs/index.pyx\u001b[0m in \u001b[0;36mpandas._libs.index.IndexEngine.get_loc\u001b[0;34m()\u001b[0m\n",
      "\u001b[0;32mpandas/_libs/index.pyx\u001b[0m in \u001b[0;36mpandas._libs.index.IndexEngine.get_loc\u001b[0;34m()\u001b[0m\n",
      "\u001b[0;32mpandas/_libs/hashtable_class_helper.pxi\u001b[0m in \u001b[0;36mpandas._libs.hashtable.PyObjectHashTable.get_item\u001b[0;34m()\u001b[0m\n",
      "\u001b[0;32mpandas/_libs/hashtable_class_helper.pxi\u001b[0m in \u001b[0;36mpandas._libs.hashtable.PyObjectHashTable.get_item\u001b[0;34m()\u001b[0m\n",
      "\u001b[0;31mKeyError\u001b[0m: 'location_clean'",
      "\nThe above exception was the direct cause of the following exception:\n",
      "\u001b[0;31mKeyError\u001b[0m                                  Traceback (most recent call last)",
      "\u001b[0;32m<ipython-input-72-281b6a50dd7a>\u001b[0m in \u001b[0;36m<module>\u001b[0;34m\u001b[0m\n\u001b[0;32m----> 1\u001b[0;31m \u001b[0mdata\u001b[0m \u001b[0;34m[\u001b[0m\u001b[0;34m'location'\u001b[0m\u001b[0;34m]\u001b[0m \u001b[0;34m=\u001b[0m \u001b[0mdata_non_null\u001b[0m\u001b[0;34m[\u001b[0m\u001b[0;34m'location_clean'\u001b[0m\u001b[0;34m]\u001b[0m\u001b[0;34m.\u001b[0m\u001b[0mstr\u001b[0m\u001b[0;34m[\u001b[0m\u001b[0;34m-\u001b[0m\u001b[0;36m2\u001b[0m\u001b[0;34m:\u001b[0m\u001b[0;34m]\u001b[0m\u001b[0;34m\u001b[0m\u001b[0;34m\u001b[0m\u001b[0m\n\u001b[0m\u001b[1;32m      2\u001b[0m \u001b[0;31m#que significa?\u001b[0m\u001b[0;34m\u001b[0m\u001b[0;34m\u001b[0m\u001b[0;34m\u001b[0m\u001b[0m\n",
      "\u001b[0;32m/opt/anaconda3/lib/python3.8/site-packages/pandas/core/frame.py\u001b[0m in \u001b[0;36m__getitem__\u001b[0;34m(self, key)\u001b[0m\n\u001b[1;32m   3022\u001b[0m             \u001b[0;32mif\u001b[0m \u001b[0mself\u001b[0m\u001b[0;34m.\u001b[0m\u001b[0mcolumns\u001b[0m\u001b[0;34m.\u001b[0m\u001b[0mnlevels\u001b[0m \u001b[0;34m>\u001b[0m \u001b[0;36m1\u001b[0m\u001b[0;34m:\u001b[0m\u001b[0;34m\u001b[0m\u001b[0;34m\u001b[0m\u001b[0m\n\u001b[1;32m   3023\u001b[0m                 \u001b[0;32mreturn\u001b[0m \u001b[0mself\u001b[0m\u001b[0;34m.\u001b[0m\u001b[0m_getitem_multilevel\u001b[0m\u001b[0;34m(\u001b[0m\u001b[0mkey\u001b[0m\u001b[0;34m)\u001b[0m\u001b[0;34m\u001b[0m\u001b[0;34m\u001b[0m\u001b[0m\n\u001b[0;32m-> 3024\u001b[0;31m             \u001b[0mindexer\u001b[0m \u001b[0;34m=\u001b[0m \u001b[0mself\u001b[0m\u001b[0;34m.\u001b[0m\u001b[0mcolumns\u001b[0m\u001b[0;34m.\u001b[0m\u001b[0mget_loc\u001b[0m\u001b[0;34m(\u001b[0m\u001b[0mkey\u001b[0m\u001b[0;34m)\u001b[0m\u001b[0;34m\u001b[0m\u001b[0;34m\u001b[0m\u001b[0m\n\u001b[0m\u001b[1;32m   3025\u001b[0m             \u001b[0;32mif\u001b[0m \u001b[0mis_integer\u001b[0m\u001b[0;34m(\u001b[0m\u001b[0mindexer\u001b[0m\u001b[0;34m)\u001b[0m\u001b[0;34m:\u001b[0m\u001b[0;34m\u001b[0m\u001b[0;34m\u001b[0m\u001b[0m\n\u001b[1;32m   3026\u001b[0m                 \u001b[0mindexer\u001b[0m \u001b[0;34m=\u001b[0m \u001b[0;34m[\u001b[0m\u001b[0mindexer\u001b[0m\u001b[0;34m]\u001b[0m\u001b[0;34m\u001b[0m\u001b[0;34m\u001b[0m\u001b[0m\n",
      "\u001b[0;32m/opt/anaconda3/lib/python3.8/site-packages/pandas/core/indexes/base.py\u001b[0m in \u001b[0;36mget_loc\u001b[0;34m(self, key, method, tolerance)\u001b[0m\n\u001b[1;32m   3080\u001b[0m                 \u001b[0;32mreturn\u001b[0m \u001b[0mself\u001b[0m\u001b[0;34m.\u001b[0m\u001b[0m_engine\u001b[0m\u001b[0;34m.\u001b[0m\u001b[0mget_loc\u001b[0m\u001b[0;34m(\u001b[0m\u001b[0mcasted_key\u001b[0m\u001b[0;34m)\u001b[0m\u001b[0;34m\u001b[0m\u001b[0;34m\u001b[0m\u001b[0m\n\u001b[1;32m   3081\u001b[0m             \u001b[0;32mexcept\u001b[0m \u001b[0mKeyError\u001b[0m \u001b[0;32mas\u001b[0m \u001b[0merr\u001b[0m\u001b[0;34m:\u001b[0m\u001b[0;34m\u001b[0m\u001b[0;34m\u001b[0m\u001b[0m\n\u001b[0;32m-> 3082\u001b[0;31m                 \u001b[0;32mraise\u001b[0m \u001b[0mKeyError\u001b[0m\u001b[0;34m(\u001b[0m\u001b[0mkey\u001b[0m\u001b[0;34m)\u001b[0m \u001b[0;32mfrom\u001b[0m \u001b[0merr\u001b[0m\u001b[0;34m\u001b[0m\u001b[0;34m\u001b[0m\u001b[0m\n\u001b[0m\u001b[1;32m   3083\u001b[0m \u001b[0;34m\u001b[0m\u001b[0m\n\u001b[1;32m   3084\u001b[0m         \u001b[0;32mif\u001b[0m \u001b[0mtolerance\u001b[0m \u001b[0;32mis\u001b[0m \u001b[0;32mnot\u001b[0m \u001b[0;32mNone\u001b[0m\u001b[0;34m:\u001b[0m\u001b[0;34m\u001b[0m\u001b[0;34m\u001b[0m\u001b[0m\n",
      "\u001b[0;31mKeyError\u001b[0m: 'location_clean'"
     ]
    }
   ],
   "source": [
    "data ['location'] = data_non_null['location_clean'].str[-2:]\n",
    "#que significa?"
   ]
  },
  {
   "cell_type": "code",
   "execution_count": 80,
   "id": "0886b149",
   "metadata": {},
   "outputs": [],
   "source": [
    "def get_city(x): \n",
    "    if x == x:\n",
    "        return x.split(\",\")[0]\n",
    "    else: \n",
    "        return 'none'"
   ]
  },
  {
   "cell_type": "code",
   "execution_count": 81,
   "id": "0769cc6e",
   "metadata": {},
   "outputs": [
    {
     "data": {
      "text/plain": [
       "0         Atlanta\n",
       "1         Atlanta\n",
       "2         Atlanta\n",
       "3         Atlanta\n",
       "4         Atlanta\n",
       "          ...    \n",
       "6959    Sunnyvale\n",
       "6960    Sunnyvale\n",
       "6961    Sunnyvale\n",
       "6962    Sunnyvale\n",
       "6963    Sunnyvale\n",
       "Name: location, Length: 6964, dtype: object"
      ]
     },
     "execution_count": 81,
     "metadata": {},
     "output_type": "execute_result"
    }
   ],
   "source": [
    "data['location'].apply(get_city)"
   ]
  },
  {
   "cell_type": "code",
   "execution_count": 82,
   "id": "77dfb465",
   "metadata": {},
   "outputs": [],
   "source": [
    "data['city'] = data['location'].apply(get_city)"
   ]
  },
  {
   "cell_type": "code",
   "execution_count": 91,
   "id": "b9e71545",
   "metadata": {},
   "outputs": [
    {
     "data": {
      "text/plain": [
       "0       GA\n",
       "1       GA\n",
       "2       GA\n",
       "3       GA\n",
       "4       GA\n",
       "        ..\n",
       "6959    CA\n",
       "6960    CA\n",
       "6961    CA\n",
       "6962    CA\n",
       "6963    CA\n",
       "Name: location, Length: 6964, dtype: object"
      ]
     },
     "execution_count": 91,
     "metadata": {},
     "output_type": "execute_result"
    }
   ],
   "source": [
    "def get_state(x): \n",
    "    if x == x:\n",
    "        return x.split(\",\")[1].strip()[:2]\n",
    "    else: \n",
    "        return 'none'\n",
    "    \n",
    "data['location'].apply(get_state)"
   ]
  },
  {
   "cell_type": "code",
   "execution_count": 92,
   "id": "9d13bff8",
   "metadata": {},
   "outputs": [],
   "source": [
    "data['state'] = data['location'].apply(get_state)"
   ]
  },
  {
   "cell_type": "code",
   "execution_count": 93,
   "id": "5e85f263",
   "metadata": {},
   "outputs": [
    {
     "data": {
      "text/html": [
       "<div>\n",
       "<style scoped>\n",
       "    .dataframe tbody tr th:only-of-type {\n",
       "        vertical-align: middle;\n",
       "    }\n",
       "\n",
       "    .dataframe tbody tr th {\n",
       "        vertical-align: top;\n",
       "    }\n",
       "\n",
       "    .dataframe thead th {\n",
       "        text-align: right;\n",
       "    }\n",
       "</style>\n",
       "<table border=\"1\" class=\"dataframe\">\n",
       "  <thead>\n",
       "    <tr style=\"text-align: right;\">\n",
       "      <th></th>\n",
       "      <th>position</th>\n",
       "      <th>company</th>\n",
       "      <th>description</th>\n",
       "      <th>reviews</th>\n",
       "      <th>location</th>\n",
       "      <th>ds yes</th>\n",
       "      <th>city</th>\n",
       "      <th>state</th>\n",
       "    </tr>\n",
       "  </thead>\n",
       "  <tbody>\n",
       "    <tr>\n",
       "      <th>0</th>\n",
       "      <td>Development Director</td>\n",
       "      <td>ALS TDI</td>\n",
       "      <td>Development Director\\nALS Therapy Development ...</td>\n",
       "      <td>NaN</td>\n",
       "      <td>Atlanta, GA 30301</td>\n",
       "      <td>0.0</td>\n",
       "      <td>Atlanta</td>\n",
       "      <td>GA</td>\n",
       "    </tr>\n",
       "    <tr>\n",
       "      <th>1</th>\n",
       "      <td>An Ostentatiously-Excitable Principal Research...</td>\n",
       "      <td>The Hexagon Lavish</td>\n",
       "      <td>Job Description\\n\\n\"The road that leads to acc...</td>\n",
       "      <td>NaN</td>\n",
       "      <td>Atlanta, GA</td>\n",
       "      <td>0.0</td>\n",
       "      <td>Atlanta</td>\n",
       "      <td>GA</td>\n",
       "    </tr>\n",
       "    <tr>\n",
       "      <th>2</th>\n",
       "      <td>Data Scientist</td>\n",
       "      <td>Xpert Staffing</td>\n",
       "      <td>Growing company located in the Atlanta, GA are...</td>\n",
       "      <td>NaN</td>\n",
       "      <td>Atlanta, GA</td>\n",
       "      <td>1.0</td>\n",
       "      <td>Atlanta</td>\n",
       "      <td>GA</td>\n",
       "    </tr>\n",
       "    <tr>\n",
       "      <th>3</th>\n",
       "      <td>Data Analyst</td>\n",
       "      <td>Operation HOPE</td>\n",
       "      <td>DEPARTMENT: Program OperationsPOSITION LOCATIO...</td>\n",
       "      <td>44.0</td>\n",
       "      <td>Atlanta, GA 30303</td>\n",
       "      <td>0.0</td>\n",
       "      <td>Atlanta</td>\n",
       "      <td>GA</td>\n",
       "    </tr>\n",
       "    <tr>\n",
       "      <th>4</th>\n",
       "      <td>Assistant Professor -TT - Signal Processing &amp; ...</td>\n",
       "      <td>Emory University</td>\n",
       "      <td>DESCRIPTION\\nThe Emory University Department o...</td>\n",
       "      <td>550.0</td>\n",
       "      <td>Atlanta, GA</td>\n",
       "      <td>0.0</td>\n",
       "      <td>Atlanta</td>\n",
       "      <td>GA</td>\n",
       "    </tr>\n",
       "  </tbody>\n",
       "</table>\n",
       "</div>"
      ],
      "text/plain": [
       "                                            position             company  \\\n",
       "0                               Development Director             ALS TDI   \n",
       "1  An Ostentatiously-Excitable Principal Research...  The Hexagon Lavish   \n",
       "2                                     Data Scientist      Xpert Staffing   \n",
       "3                                       Data Analyst      Operation HOPE   \n",
       "4  Assistant Professor -TT - Signal Processing & ...    Emory University   \n",
       "\n",
       "                                         description  reviews  \\\n",
       "0  Development Director\\nALS Therapy Development ...      NaN   \n",
       "1  Job Description\\n\\n\"The road that leads to acc...      NaN   \n",
       "2  Growing company located in the Atlanta, GA are...      NaN   \n",
       "3  DEPARTMENT: Program OperationsPOSITION LOCATIO...     44.0   \n",
       "4  DESCRIPTION\\nThe Emory University Department o...    550.0   \n",
       "\n",
       "             location  ds yes     city state  \n",
       "0  Atlanta, GA 30301      0.0  Atlanta    GA  \n",
       "1         Atlanta, GA     0.0  Atlanta    GA  \n",
       "2         Atlanta, GA     1.0  Atlanta    GA  \n",
       "3  Atlanta, GA 30303      0.0  Atlanta    GA  \n",
       "4         Atlanta, GA     0.0  Atlanta    GA  "
      ]
     },
     "execution_count": 93,
     "metadata": {},
     "output_type": "execute_result"
    }
   ],
   "source": [
    "data.head()"
   ]
  },
  {
   "cell_type": "markdown",
   "id": "fd8c8f5a",
   "metadata": {},
   "source": [
    "## 2. Position"
   ]
  },
  {
   "cell_type": "code",
   "execution_count": 66,
   "id": "f3c7c2c0",
   "metadata": {},
   "outputs": [
    {
     "data": {
      "text/plain": [
       "0                     []\n",
       "1                     []\n",
       "2       [Data Scientist]\n",
       "3                     []\n",
       "4                     []\n",
       "              ...       \n",
       "6959                  []\n",
       "6960                  []\n",
       "6961                  []\n",
       "6962                  []\n",
       "6963    [Data Scientist]\n",
       "Name: position, Length: 6964, dtype: object"
      ]
     },
     "execution_count": 66,
     "metadata": {},
     "output_type": "execute_result"
    }
   ],
   "source": [
    "#re.IGNORECASE\n",
    "\n",
    "data['position'].str.findall('data scientist', flags = re.IGNORECASE)"
   ]
  },
  {
   "cell_type": "code",
   "execution_count": 67,
   "id": "c5ceccc3",
   "metadata": {},
   "outputs": [],
   "source": [
    "data['ds yes'] = data['position'].str.count('data scientist', flags = re.IGNORECASE)"
   ]
  },
  {
   "cell_type": "code",
   "execution_count": 25,
   "id": "96a01e0c",
   "metadata": {},
   "outputs": [
    {
     "data": {
      "text/html": [
       "<div>\n",
       "<style scoped>\n",
       "    .dataframe tbody tr th:only-of-type {\n",
       "        vertical-align: middle;\n",
       "    }\n",
       "\n",
       "    .dataframe tbody tr th {\n",
       "        vertical-align: top;\n",
       "    }\n",
       "\n",
       "    .dataframe thead th {\n",
       "        text-align: right;\n",
       "    }\n",
       "</style>\n",
       "<table border=\"1\" class=\"dataframe\">\n",
       "  <thead>\n",
       "    <tr style=\"text-align: right;\">\n",
       "      <th></th>\n",
       "      <th>position</th>\n",
       "      <th>company</th>\n",
       "      <th>description</th>\n",
       "      <th>reviews</th>\n",
       "      <th>location</th>\n",
       "    </tr>\n",
       "  </thead>\n",
       "  <tbody>\n",
       "    <tr>\n",
       "      <th>0</th>\n",
       "      <td>Development Director</td>\n",
       "      <td>ALS TDI</td>\n",
       "      <td>Development Director\\nALS Therapy Development ...</td>\n",
       "      <td>NaN</td>\n",
       "      <td>Atlanta, GA 30301</td>\n",
       "    </tr>\n",
       "    <tr>\n",
       "      <th>1</th>\n",
       "      <td>An Ostentatiously-Excitable Principal Research...</td>\n",
       "      <td>The Hexagon Lavish</td>\n",
       "      <td>Job Description\\n\\n\"The road that leads to acc...</td>\n",
       "      <td>NaN</td>\n",
       "      <td>Atlanta, GA</td>\n",
       "    </tr>\n",
       "    <tr>\n",
       "      <th>2</th>\n",
       "      <td>Data Scientist</td>\n",
       "      <td>Xpert Staffing</td>\n",
       "      <td>Growing company located in the Atlanta, GA are...</td>\n",
       "      <td>NaN</td>\n",
       "      <td>Atlanta, GA</td>\n",
       "    </tr>\n",
       "    <tr>\n",
       "      <th>3</th>\n",
       "      <td>Data Analyst</td>\n",
       "      <td>Operation HOPE</td>\n",
       "      <td>DEPARTMENT: Program OperationsPOSITION LOCATIO...</td>\n",
       "      <td>44.0</td>\n",
       "      <td>Atlanta, GA 30303</td>\n",
       "    </tr>\n",
       "    <tr>\n",
       "      <th>4</th>\n",
       "      <td>Assistant Professor -TT - Signal Processing &amp; ...</td>\n",
       "      <td>Emory University</td>\n",
       "      <td>DESCRIPTION\\nThe Emory University Department o...</td>\n",
       "      <td>550.0</td>\n",
       "      <td>Atlanta, GA</td>\n",
       "    </tr>\n",
       "  </tbody>\n",
       "</table>\n",
       "</div>"
      ],
      "text/plain": [
       "                                            position             company  \\\n",
       "0                               Development Director             ALS TDI   \n",
       "1  An Ostentatiously-Excitable Principal Research...  The Hexagon Lavish   \n",
       "2                                     Data Scientist      Xpert Staffing   \n",
       "3                                       Data Analyst      Operation HOPE   \n",
       "4  Assistant Professor -TT - Signal Processing & ...    Emory University   \n",
       "\n",
       "                                         description  reviews  \\\n",
       "0  Development Director\\nALS Therapy Development ...      NaN   \n",
       "1  Job Description\\n\\n\"The road that leads to acc...      NaN   \n",
       "2  Growing company located in the Atlanta, GA are...      NaN   \n",
       "3  DEPARTMENT: Program OperationsPOSITION LOCATIO...     44.0   \n",
       "4  DESCRIPTION\\nThe Emory University Department o...    550.0   \n",
       "\n",
       "             location  \n",
       "0  Atlanta, GA 30301   \n",
       "1         Atlanta, GA  \n",
       "2         Atlanta, GA  \n",
       "3  Atlanta, GA 30303   \n",
       "4         Atlanta, GA  "
      ]
     },
     "execution_count": 25,
     "metadata": {},
     "output_type": "execute_result"
    }
   ],
   "source": [
    "data.head()"
   ]
  },
  {
   "cell_type": "code",
   "execution_count": 68,
   "id": "7792db11",
   "metadata": {},
   "outputs": [
    {
     "data": {
      "text/plain": [
       "0.0    5692\n",
       "1.0    1252\n",
       "2.0       9\n",
       "Name: ds yes, dtype: int64"
      ]
     },
     "execution_count": 68,
     "metadata": {},
     "output_type": "execute_result"
    }
   ],
   "source": [
    "data['ds yes'].value_counts()"
   ]
  },
  {
   "cell_type": "markdown",
   "id": "4ffe41bd",
   "metadata": {},
   "source": [
    "## 3. Reviews"
   ]
  },
  {
   "cell_type": "code",
   "execution_count": null,
   "id": "e63296d1",
   "metadata": {},
   "outputs": [],
   "source": []
  },
  {
   "cell_type": "code",
   "execution_count": null,
   "id": "d4e0a005",
   "metadata": {},
   "outputs": [],
   "source": []
  },
  {
   "cell_type": "code",
   "execution_count": null,
   "id": "7cf48901",
   "metadata": {},
   "outputs": [],
   "source": []
  },
  {
   "cell_type": "markdown",
   "id": "3761e013",
   "metadata": {},
   "source": [
    "## 4. Description"
   ]
  },
  {
   "cell_type": "markdown",
   "id": "9283706c",
   "metadata": {},
   "source": [
    "We will be looking for these skills:\n",
    "\n",
    "+ python\n",
    "+ statistics\n",
    "+ modeling\n",
    "+ programming\n",
    "+ SQL\n",
    "+ excel\n",
    "+ java\n",
    "\n",
    "\n",
    "We will be looking for these characteristics:\n",
    "\n",
    "+ Bachelor's Degree\n",
    "+ Master's Degree\n",
    "+ PhD\n",
    "+ Experience in yesars"
   ]
  },
  {
   "cell_type": "code",
   "execution_count": null,
   "id": "b31c0f9d",
   "metadata": {},
   "outputs": [],
   "source": []
  }
 ],
 "metadata": {
  "kernelspec": {
   "display_name": "Python 3",
   "language": "python",
   "name": "python3"
  },
  "language_info": {
   "codemirror_mode": {
    "name": "ipython",
    "version": 3
   },
   "file_extension": ".py",
   "mimetype": "text/x-python",
   "name": "python",
   "nbconvert_exporter": "python",
   "pygments_lexer": "ipython3",
   "version": "3.8.8"
  }
 },
 "nbformat": 4,
 "nbformat_minor": 5
}
