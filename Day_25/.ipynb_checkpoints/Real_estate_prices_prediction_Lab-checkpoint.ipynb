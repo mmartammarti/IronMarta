{
 "cells": [
  {
   "cell_type": "markdown",
   "id": "7c2045ec",
   "metadata": {},
   "source": [
    "this is an outline notebook- sections are suggested steps, but more or less steps can be followed to reach your end goal"
   ]
  },
  {
   "cell_type": "markdown",
   "id": "cleared-month",
   "metadata": {},
   "source": [
    "# Regression problem -  predicting real estate prices in USD\n",
    "\n",
    "\n",
    "#### Background: \n",
    "You are working as an analyst for a real estate company. Your company wants to build a machine learning model to predict the selling prices of houses based on a variety of features on which the value of the house is evaluated.\n",
    "\n",
    "#### Objective: \n",
    "The task is to build a model that will predict the price of a house based on features provided in the dataset. The senior management also wants to explore the characteristics of the houses which have the greatest impact on price, eg. understanding which factors are responsible for the highest property values - USD650K and above. \n",
    "\n",
    "#### Data: \n",
    "The data set consists of information on some 22,000 properties.  The dataset consisted of historic data for houses sold between May 2014 to May 2015. \n",
    "\n",
    "#### Definitions \n",
    "These are the definitions of data variables provided: (Note: For some of the variables that are self explanatory, no definition has been provided)\n",
    "\n",
    "+ Id: Unique identification number for the property.\n",
    "+ date: date the house was sold.\n",
    "+ price: price of the house.\n",
    "+ waterfront: house which has a view to a waterfront.\n",
    "+ condition: How good the condition is (overall). 1 indicates worn out property and 5 excellent.\n",
    "+ view: does the property have a view? and of what quality?\n",
    "+ grade: Overall grade given to the housing unit, based on King County grading system. 1 poor ,13 excellent.\n",
    "+ Sqft_above: square footage of house apart from basement.\n",
    "+ Sqft_living15: Living room area in 2015(implies - some renovations). This might or might not have affected the lotsize area.\n",
    "+ Sqft_lot15: lotSize area in 2015(implies - some renovations).\n",
    "\n",
    "#### Exploring the data\n",
    "We encourage you to thoroughly understand your data and take the necessary steps to prepare your data for modeling before building exploratory or predictive models. \n",
    "To explore the data, you can use the techniques such as data profiling packages, Tableau ad hoc analysis, or any other EDA method including describe, info, sumna, using matplotlib and seaborn for distribution and correlation visualisations.\n",
    "\n",
    "The data has a number of categorical and numerical variables. Explore the nature of data for these variables before you start with the data cleaning process and then proceed to data pre-processing (scaling numerical variables and encoding categorical variables). \n",
    "\n",
    "#### Model\n",
    "You may use different models to compare the accuracies and find the model that best fits your data. Since this is a regression problem (predicting a value), you can use linear regression, KNN, tree based regression models. You can use the measures of accuracies that have been discussed in class. \n",
    "\n",
    "Please note that while comparing different models, make sure you use the same measure of accuracy as a benchmark and the appropriate metrics for that model- see the sklearn documentation for details.\n",
    "\n"
   ]
  },
  {
   "cell_type": "markdown",
   "id": "daily-planner",
   "metadata": {},
   "source": [
    "### import libraries "
   ]
  },
  {
   "cell_type": "code",
   "execution_count": 1,
   "id": "characteristic-flavor",
   "metadata": {},
   "outputs": [],
   "source": [
    "#numpy and pandas, matplotlib and seaborn, scipy, sklearn model and metrics \n",
    "\n",
    "import pandas as pd\n",
    "import numpy as np\n",
    "import seaborn as sns\n",
    "import matplotlib.pyplot as plt"
   ]
  },
  {
   "cell_type": "markdown",
   "id": "static-cloud",
   "metadata": {},
   "source": [
    "### read data as a pandas data frame, preview top 10 rows"
   ]
  },
  {
   "cell_type": "code",
   "execution_count": 2,
   "id": "778c911e",
   "metadata": {},
   "outputs": [],
   "source": [
    "df = pd.read_excel('real_estate_withheaders.xls')"
   ]
  },
  {
   "cell_type": "code",
   "execution_count": 3,
   "id": "254b35ff",
   "metadata": {},
   "outputs": [
    {
     "data": {
      "text/html": [
       "<div>\n",
       "<style scoped>\n",
       "    .dataframe tbody tr th:only-of-type {\n",
       "        vertical-align: middle;\n",
       "    }\n",
       "\n",
       "    .dataframe tbody tr th {\n",
       "        vertical-align: top;\n",
       "    }\n",
       "\n",
       "    .dataframe thead th {\n",
       "        text-align: right;\n",
       "    }\n",
       "</style>\n",
       "<table border=\"1\" class=\"dataframe\">\n",
       "  <thead>\n",
       "    <tr style=\"text-align: right;\">\n",
       "      <th></th>\n",
       "      <th>id</th>\n",
       "      <th>date</th>\n",
       "      <th>bedrooms</th>\n",
       "      <th>bathrooms</th>\n",
       "      <th>sqft_living</th>\n",
       "      <th>sqft_lot</th>\n",
       "      <th>floors</th>\n",
       "      <th>waterfront</th>\n",
       "      <th>view</th>\n",
       "      <th>condition</th>\n",
       "      <th>...</th>\n",
       "      <th>sqft_above</th>\n",
       "      <th>sqft_basement</th>\n",
       "      <th>yr_built</th>\n",
       "      <th>yr_renovated</th>\n",
       "      <th>zipcode</th>\n",
       "      <th>lat</th>\n",
       "      <th>long</th>\n",
       "      <th>sqft_living15</th>\n",
       "      <th>sqft_lot15</th>\n",
       "      <th>price</th>\n",
       "    </tr>\n",
       "  </thead>\n",
       "  <tbody>\n",
       "    <tr>\n",
       "      <th>0</th>\n",
       "      <td>7129300520</td>\n",
       "      <td>2014-10-13</td>\n",
       "      <td>3</td>\n",
       "      <td>1.00</td>\n",
       "      <td>1180</td>\n",
       "      <td>5650</td>\n",
       "      <td>1.0</td>\n",
       "      <td>0</td>\n",
       "      <td>0</td>\n",
       "      <td>3</td>\n",
       "      <td>...</td>\n",
       "      <td>1180</td>\n",
       "      <td>0</td>\n",
       "      <td>1955</td>\n",
       "      <td>0</td>\n",
       "      <td>98178</td>\n",
       "      <td>47.5112</td>\n",
       "      <td>-122.257</td>\n",
       "      <td>1340</td>\n",
       "      <td>5650</td>\n",
       "      <td>221900</td>\n",
       "    </tr>\n",
       "    <tr>\n",
       "      <th>1</th>\n",
       "      <td>6414100192</td>\n",
       "      <td>2014-12-09</td>\n",
       "      <td>3</td>\n",
       "      <td>2.25</td>\n",
       "      <td>2570</td>\n",
       "      <td>7242</td>\n",
       "      <td>2.0</td>\n",
       "      <td>0</td>\n",
       "      <td>0</td>\n",
       "      <td>3</td>\n",
       "      <td>...</td>\n",
       "      <td>2170</td>\n",
       "      <td>400</td>\n",
       "      <td>1951</td>\n",
       "      <td>1991</td>\n",
       "      <td>98125</td>\n",
       "      <td>47.7210</td>\n",
       "      <td>-122.319</td>\n",
       "      <td>1690</td>\n",
       "      <td>7639</td>\n",
       "      <td>538000</td>\n",
       "    </tr>\n",
       "    <tr>\n",
       "      <th>2</th>\n",
       "      <td>5631500400</td>\n",
       "      <td>2015-02-25</td>\n",
       "      <td>2</td>\n",
       "      <td>1.00</td>\n",
       "      <td>770</td>\n",
       "      <td>10000</td>\n",
       "      <td>1.0</td>\n",
       "      <td>0</td>\n",
       "      <td>0</td>\n",
       "      <td>3</td>\n",
       "      <td>...</td>\n",
       "      <td>770</td>\n",
       "      <td>0</td>\n",
       "      <td>1933</td>\n",
       "      <td>0</td>\n",
       "      <td>98028</td>\n",
       "      <td>47.7379</td>\n",
       "      <td>-122.233</td>\n",
       "      <td>2720</td>\n",
       "      <td>8062</td>\n",
       "      <td>180000</td>\n",
       "    </tr>\n",
       "    <tr>\n",
       "      <th>3</th>\n",
       "      <td>2487200875</td>\n",
       "      <td>2014-12-09</td>\n",
       "      <td>4</td>\n",
       "      <td>3.00</td>\n",
       "      <td>1960</td>\n",
       "      <td>5000</td>\n",
       "      <td>1.0</td>\n",
       "      <td>0</td>\n",
       "      <td>0</td>\n",
       "      <td>5</td>\n",
       "      <td>...</td>\n",
       "      <td>1050</td>\n",
       "      <td>910</td>\n",
       "      <td>1965</td>\n",
       "      <td>0</td>\n",
       "      <td>98136</td>\n",
       "      <td>47.5208</td>\n",
       "      <td>-122.393</td>\n",
       "      <td>1360</td>\n",
       "      <td>5000</td>\n",
       "      <td>604000</td>\n",
       "    </tr>\n",
       "    <tr>\n",
       "      <th>4</th>\n",
       "      <td>1954400510</td>\n",
       "      <td>2015-02-18</td>\n",
       "      <td>3</td>\n",
       "      <td>2.00</td>\n",
       "      <td>1680</td>\n",
       "      <td>8080</td>\n",
       "      <td>1.0</td>\n",
       "      <td>0</td>\n",
       "      <td>0</td>\n",
       "      <td>3</td>\n",
       "      <td>...</td>\n",
       "      <td>1680</td>\n",
       "      <td>0</td>\n",
       "      <td>1987</td>\n",
       "      <td>0</td>\n",
       "      <td>98074</td>\n",
       "      <td>47.6168</td>\n",
       "      <td>-122.045</td>\n",
       "      <td>1800</td>\n",
       "      <td>7503</td>\n",
       "      <td>510000</td>\n",
       "    </tr>\n",
       "    <tr>\n",
       "      <th>5</th>\n",
       "      <td>7237550310</td>\n",
       "      <td>2014-05-12</td>\n",
       "      <td>4</td>\n",
       "      <td>4.50</td>\n",
       "      <td>5420</td>\n",
       "      <td>101930</td>\n",
       "      <td>1.0</td>\n",
       "      <td>0</td>\n",
       "      <td>0</td>\n",
       "      <td>3</td>\n",
       "      <td>...</td>\n",
       "      <td>3890</td>\n",
       "      <td>1530</td>\n",
       "      <td>2001</td>\n",
       "      <td>0</td>\n",
       "      <td>98053</td>\n",
       "      <td>47.6561</td>\n",
       "      <td>-122.005</td>\n",
       "      <td>4760</td>\n",
       "      <td>101930</td>\n",
       "      <td>1230000</td>\n",
       "    </tr>\n",
       "    <tr>\n",
       "      <th>6</th>\n",
       "      <td>1321400060</td>\n",
       "      <td>2014-06-27</td>\n",
       "      <td>3</td>\n",
       "      <td>2.25</td>\n",
       "      <td>1715</td>\n",
       "      <td>6819</td>\n",
       "      <td>2.0</td>\n",
       "      <td>0</td>\n",
       "      <td>0</td>\n",
       "      <td>3</td>\n",
       "      <td>...</td>\n",
       "      <td>1715</td>\n",
       "      <td>0</td>\n",
       "      <td>1995</td>\n",
       "      <td>0</td>\n",
       "      <td>98003</td>\n",
       "      <td>47.3097</td>\n",
       "      <td>-122.327</td>\n",
       "      <td>2238</td>\n",
       "      <td>6819</td>\n",
       "      <td>257500</td>\n",
       "    </tr>\n",
       "    <tr>\n",
       "      <th>7</th>\n",
       "      <td>2008000270</td>\n",
       "      <td>2015-01-15</td>\n",
       "      <td>3</td>\n",
       "      <td>1.50</td>\n",
       "      <td>1060</td>\n",
       "      <td>9711</td>\n",
       "      <td>1.0</td>\n",
       "      <td>0</td>\n",
       "      <td>0</td>\n",
       "      <td>3</td>\n",
       "      <td>...</td>\n",
       "      <td>1060</td>\n",
       "      <td>0</td>\n",
       "      <td>1963</td>\n",
       "      <td>0</td>\n",
       "      <td>98198</td>\n",
       "      <td>47.4095</td>\n",
       "      <td>-122.315</td>\n",
       "      <td>1650</td>\n",
       "      <td>9711</td>\n",
       "      <td>291850</td>\n",
       "    </tr>\n",
       "    <tr>\n",
       "      <th>8</th>\n",
       "      <td>2414600126</td>\n",
       "      <td>2015-04-15</td>\n",
       "      <td>3</td>\n",
       "      <td>1.00</td>\n",
       "      <td>1780</td>\n",
       "      <td>7470</td>\n",
       "      <td>1.0</td>\n",
       "      <td>0</td>\n",
       "      <td>0</td>\n",
       "      <td>3</td>\n",
       "      <td>...</td>\n",
       "      <td>1050</td>\n",
       "      <td>730</td>\n",
       "      <td>1960</td>\n",
       "      <td>0</td>\n",
       "      <td>98146</td>\n",
       "      <td>47.5123</td>\n",
       "      <td>-122.337</td>\n",
       "      <td>1780</td>\n",
       "      <td>8113</td>\n",
       "      <td>229500</td>\n",
       "    </tr>\n",
       "    <tr>\n",
       "      <th>9</th>\n",
       "      <td>3793500160</td>\n",
       "      <td>2015-03-12</td>\n",
       "      <td>3</td>\n",
       "      <td>2.50</td>\n",
       "      <td>1890</td>\n",
       "      <td>6560</td>\n",
       "      <td>2.0</td>\n",
       "      <td>0</td>\n",
       "      <td>0</td>\n",
       "      <td>3</td>\n",
       "      <td>...</td>\n",
       "      <td>1890</td>\n",
       "      <td>0</td>\n",
       "      <td>2003</td>\n",
       "      <td>0</td>\n",
       "      <td>98038</td>\n",
       "      <td>47.3684</td>\n",
       "      <td>-122.031</td>\n",
       "      <td>2390</td>\n",
       "      <td>7570</td>\n",
       "      <td>323000</td>\n",
       "    </tr>\n",
       "  </tbody>\n",
       "</table>\n",
       "<p>10 rows × 21 columns</p>\n",
       "</div>"
      ],
      "text/plain": [
       "           id       date  bedrooms  bathrooms  sqft_living  sqft_lot  floors  \\\n",
       "0  7129300520 2014-10-13         3       1.00         1180      5650     1.0   \n",
       "1  6414100192 2014-12-09         3       2.25         2570      7242     2.0   \n",
       "2  5631500400 2015-02-25         2       1.00          770     10000     1.0   \n",
       "3  2487200875 2014-12-09         4       3.00         1960      5000     1.0   \n",
       "4  1954400510 2015-02-18         3       2.00         1680      8080     1.0   \n",
       "5  7237550310 2014-05-12         4       4.50         5420    101930     1.0   \n",
       "6  1321400060 2014-06-27         3       2.25         1715      6819     2.0   \n",
       "7  2008000270 2015-01-15         3       1.50         1060      9711     1.0   \n",
       "8  2414600126 2015-04-15         3       1.00         1780      7470     1.0   \n",
       "9  3793500160 2015-03-12         3       2.50         1890      6560     2.0   \n",
       "\n",
       "   waterfront  view  condition  ...  sqft_above  sqft_basement  yr_built  \\\n",
       "0           0     0          3  ...        1180              0      1955   \n",
       "1           0     0          3  ...        2170            400      1951   \n",
       "2           0     0          3  ...         770              0      1933   \n",
       "3           0     0          5  ...        1050            910      1965   \n",
       "4           0     0          3  ...        1680              0      1987   \n",
       "5           0     0          3  ...        3890           1530      2001   \n",
       "6           0     0          3  ...        1715              0      1995   \n",
       "7           0     0          3  ...        1060              0      1963   \n",
       "8           0     0          3  ...        1050            730      1960   \n",
       "9           0     0          3  ...        1890              0      2003   \n",
       "\n",
       "   yr_renovated  zipcode      lat     long  sqft_living15  sqft_lot15    price  \n",
       "0             0    98178  47.5112 -122.257           1340        5650   221900  \n",
       "1          1991    98125  47.7210 -122.319           1690        7639   538000  \n",
       "2             0    98028  47.7379 -122.233           2720        8062   180000  \n",
       "3             0    98136  47.5208 -122.393           1360        5000   604000  \n",
       "4             0    98074  47.6168 -122.045           1800        7503   510000  \n",
       "5             0    98053  47.6561 -122.005           4760      101930  1230000  \n",
       "6             0    98003  47.3097 -122.327           2238        6819   257500  \n",
       "7             0    98198  47.4095 -122.315           1650        9711   291850  \n",
       "8             0    98146  47.5123 -122.337           1780        8113   229500  \n",
       "9             0    98038  47.3684 -122.031           2390        7570   323000  \n",
       "\n",
       "[10 rows x 21 columns]"
      ]
     },
     "execution_count": 3,
     "metadata": {},
     "output_type": "execute_result"
    }
   ],
   "source": [
    "df.head(10)"
   ]
  },
  {
   "cell_type": "markdown",
   "id": "reduced-jamaica",
   "metadata": {},
   "source": [
    "### EDA - exploratory data analysis - get to know the data \n",
    "\n",
    "We are particularly keen to understand the data types (and if those data types are appropriate), if there are any null, 0 or missing values, if the meaning of each feature is clear and the data is all clean and usable, if any new useful features could be created - such as creating buckets of values from columns, what relationships can we perceive between features, do we have any duplicates (check the ID column), if any outliers seem unreasonable/extreme and could be removed, if any columns might reasonably be dropped\n",
    "\n",
    "Note down every identified cleaning, wrangling or pre processing task that could be attempted at this stage or later in your notebook "
   ]
  },
  {
   "cell_type": "code",
   "execution_count": 4,
   "id": "certified-biotechnology",
   "metadata": {},
   "outputs": [
    {
     "name": "stdout",
     "output_type": "stream",
     "text": [
      "<class 'pandas.core.frame.DataFrame'>\n",
      "RangeIndex: 21597 entries, 0 to 21596\n",
      "Data columns (total 21 columns):\n",
      " #   Column         Non-Null Count  Dtype         \n",
      "---  ------         --------------  -----         \n",
      " 0   id             21597 non-null  int64         \n",
      " 1   date           21597 non-null  datetime64[ns]\n",
      " 2   bedrooms       21597 non-null  int64         \n",
      " 3   bathrooms      21597 non-null  float64       \n",
      " 4   sqft_living    21597 non-null  int64         \n",
      " 5   sqft_lot       21597 non-null  int64         \n",
      " 6   floors         21597 non-null  float64       \n",
      " 7   waterfront     21597 non-null  int64         \n",
      " 8   view           21597 non-null  int64         \n",
      " 9   condition      21597 non-null  int64         \n",
      " 10  grade          21597 non-null  int64         \n",
      " 11  sqft_above     21597 non-null  int64         \n",
      " 12  sqft_basement  21597 non-null  int64         \n",
      " 13  yr_built       21597 non-null  int64         \n",
      " 14  yr_renovated   21597 non-null  int64         \n",
      " 15  zipcode        21597 non-null  int64         \n",
      " 16  lat            21597 non-null  float64       \n",
      " 17  long           21597 non-null  float64       \n",
      " 18  sqft_living15  21597 non-null  int64         \n",
      " 19  sqft_lot15     21597 non-null  int64         \n",
      " 20  price          21597 non-null  int64         \n",
      "dtypes: datetime64[ns](1), float64(4), int64(16)\n",
      "memory usage: 3.5 MB\n"
     ]
    }
   ],
   "source": [
    "df.info()"
   ]
  },
  {
   "cell_type": "code",
   "execution_count": 5,
   "id": "laughing-mediterranean",
   "metadata": {},
   "outputs": [
    {
     "data": {
      "text/html": [
       "<div>\n",
       "<style scoped>\n",
       "    .dataframe tbody tr th:only-of-type {\n",
       "        vertical-align: middle;\n",
       "    }\n",
       "\n",
       "    .dataframe tbody tr th {\n",
       "        vertical-align: top;\n",
       "    }\n",
       "\n",
       "    .dataframe thead th {\n",
       "        text-align: right;\n",
       "    }\n",
       "</style>\n",
       "<table border=\"1\" class=\"dataframe\">\n",
       "  <thead>\n",
       "    <tr style=\"text-align: right;\">\n",
       "      <th></th>\n",
       "      <th>id</th>\n",
       "      <th>bedrooms</th>\n",
       "      <th>bathrooms</th>\n",
       "      <th>sqft_living</th>\n",
       "      <th>sqft_lot</th>\n",
       "      <th>floors</th>\n",
       "      <th>waterfront</th>\n",
       "      <th>view</th>\n",
       "      <th>condition</th>\n",
       "      <th>grade</th>\n",
       "      <th>sqft_above</th>\n",
       "      <th>sqft_basement</th>\n",
       "      <th>yr_built</th>\n",
       "      <th>yr_renovated</th>\n",
       "      <th>zipcode</th>\n",
       "      <th>lat</th>\n",
       "      <th>long</th>\n",
       "      <th>sqft_living15</th>\n",
       "      <th>sqft_lot15</th>\n",
       "      <th>price</th>\n",
       "    </tr>\n",
       "  </thead>\n",
       "  <tbody>\n",
       "    <tr>\n",
       "      <th>count</th>\n",
       "      <td>2.159700e+04</td>\n",
       "      <td>21597.000000</td>\n",
       "      <td>21597.000000</td>\n",
       "      <td>21597.000000</td>\n",
       "      <td>2.159700e+04</td>\n",
       "      <td>21597.000000</td>\n",
       "      <td>21597.000000</td>\n",
       "      <td>21597.000000</td>\n",
       "      <td>21597.000000</td>\n",
       "      <td>21597.000000</td>\n",
       "      <td>21597.000000</td>\n",
       "      <td>21597.000000</td>\n",
       "      <td>21597.000000</td>\n",
       "      <td>21597.000000</td>\n",
       "      <td>21597.000000</td>\n",
       "      <td>21597.000000</td>\n",
       "      <td>21597.000000</td>\n",
       "      <td>21597.000000</td>\n",
       "      <td>21597.000000</td>\n",
       "      <td>2.159700e+04</td>\n",
       "    </tr>\n",
       "    <tr>\n",
       "      <th>mean</th>\n",
       "      <td>4.580474e+09</td>\n",
       "      <td>3.373200</td>\n",
       "      <td>2.115826</td>\n",
       "      <td>2080.321850</td>\n",
       "      <td>1.509941e+04</td>\n",
       "      <td>1.494096</td>\n",
       "      <td>0.007547</td>\n",
       "      <td>0.234292</td>\n",
       "      <td>3.409825</td>\n",
       "      <td>7.657915</td>\n",
       "      <td>1788.596842</td>\n",
       "      <td>291.725008</td>\n",
       "      <td>1970.999676</td>\n",
       "      <td>84.464787</td>\n",
       "      <td>98077.951845</td>\n",
       "      <td>47.560093</td>\n",
       "      <td>-122.213982</td>\n",
       "      <td>1986.620318</td>\n",
       "      <td>12758.283512</td>\n",
       "      <td>5.402966e+05</td>\n",
       "    </tr>\n",
       "    <tr>\n",
       "      <th>std</th>\n",
       "      <td>2.876736e+09</td>\n",
       "      <td>0.926299</td>\n",
       "      <td>0.768984</td>\n",
       "      <td>918.106125</td>\n",
       "      <td>4.141264e+04</td>\n",
       "      <td>0.539683</td>\n",
       "      <td>0.086549</td>\n",
       "      <td>0.766390</td>\n",
       "      <td>0.650546</td>\n",
       "      <td>1.173200</td>\n",
       "      <td>827.759761</td>\n",
       "      <td>442.667800</td>\n",
       "      <td>29.375234</td>\n",
       "      <td>401.821438</td>\n",
       "      <td>53.513072</td>\n",
       "      <td>0.138552</td>\n",
       "      <td>0.140724</td>\n",
       "      <td>685.230472</td>\n",
       "      <td>27274.441950</td>\n",
       "      <td>3.673681e+05</td>\n",
       "    </tr>\n",
       "    <tr>\n",
       "      <th>min</th>\n",
       "      <td>1.000102e+06</td>\n",
       "      <td>1.000000</td>\n",
       "      <td>0.500000</td>\n",
       "      <td>370.000000</td>\n",
       "      <td>5.200000e+02</td>\n",
       "      <td>1.000000</td>\n",
       "      <td>0.000000</td>\n",
       "      <td>0.000000</td>\n",
       "      <td>1.000000</td>\n",
       "      <td>3.000000</td>\n",
       "      <td>370.000000</td>\n",
       "      <td>0.000000</td>\n",
       "      <td>1900.000000</td>\n",
       "      <td>0.000000</td>\n",
       "      <td>98001.000000</td>\n",
       "      <td>47.155900</td>\n",
       "      <td>-122.519000</td>\n",
       "      <td>399.000000</td>\n",
       "      <td>651.000000</td>\n",
       "      <td>7.800000e+04</td>\n",
       "    </tr>\n",
       "    <tr>\n",
       "      <th>25%</th>\n",
       "      <td>2.123049e+09</td>\n",
       "      <td>3.000000</td>\n",
       "      <td>1.750000</td>\n",
       "      <td>1430.000000</td>\n",
       "      <td>5.040000e+03</td>\n",
       "      <td>1.000000</td>\n",
       "      <td>0.000000</td>\n",
       "      <td>0.000000</td>\n",
       "      <td>3.000000</td>\n",
       "      <td>7.000000</td>\n",
       "      <td>1190.000000</td>\n",
       "      <td>0.000000</td>\n",
       "      <td>1951.000000</td>\n",
       "      <td>0.000000</td>\n",
       "      <td>98033.000000</td>\n",
       "      <td>47.471100</td>\n",
       "      <td>-122.328000</td>\n",
       "      <td>1490.000000</td>\n",
       "      <td>5100.000000</td>\n",
       "      <td>3.220000e+05</td>\n",
       "    </tr>\n",
       "    <tr>\n",
       "      <th>50%</th>\n",
       "      <td>3.904930e+09</td>\n",
       "      <td>3.000000</td>\n",
       "      <td>2.250000</td>\n",
       "      <td>1910.000000</td>\n",
       "      <td>7.618000e+03</td>\n",
       "      <td>1.500000</td>\n",
       "      <td>0.000000</td>\n",
       "      <td>0.000000</td>\n",
       "      <td>3.000000</td>\n",
       "      <td>7.000000</td>\n",
       "      <td>1560.000000</td>\n",
       "      <td>0.000000</td>\n",
       "      <td>1975.000000</td>\n",
       "      <td>0.000000</td>\n",
       "      <td>98065.000000</td>\n",
       "      <td>47.571800</td>\n",
       "      <td>-122.231000</td>\n",
       "      <td>1840.000000</td>\n",
       "      <td>7620.000000</td>\n",
       "      <td>4.500000e+05</td>\n",
       "    </tr>\n",
       "    <tr>\n",
       "      <th>75%</th>\n",
       "      <td>7.308900e+09</td>\n",
       "      <td>4.000000</td>\n",
       "      <td>2.500000</td>\n",
       "      <td>2550.000000</td>\n",
       "      <td>1.068500e+04</td>\n",
       "      <td>2.000000</td>\n",
       "      <td>0.000000</td>\n",
       "      <td>0.000000</td>\n",
       "      <td>4.000000</td>\n",
       "      <td>8.000000</td>\n",
       "      <td>2210.000000</td>\n",
       "      <td>560.000000</td>\n",
       "      <td>1997.000000</td>\n",
       "      <td>0.000000</td>\n",
       "      <td>98118.000000</td>\n",
       "      <td>47.678000</td>\n",
       "      <td>-122.125000</td>\n",
       "      <td>2360.000000</td>\n",
       "      <td>10083.000000</td>\n",
       "      <td>6.450000e+05</td>\n",
       "    </tr>\n",
       "    <tr>\n",
       "      <th>max</th>\n",
       "      <td>9.900000e+09</td>\n",
       "      <td>33.000000</td>\n",
       "      <td>8.000000</td>\n",
       "      <td>13540.000000</td>\n",
       "      <td>1.651359e+06</td>\n",
       "      <td>3.500000</td>\n",
       "      <td>1.000000</td>\n",
       "      <td>4.000000</td>\n",
       "      <td>5.000000</td>\n",
       "      <td>13.000000</td>\n",
       "      <td>9410.000000</td>\n",
       "      <td>4820.000000</td>\n",
       "      <td>2015.000000</td>\n",
       "      <td>2015.000000</td>\n",
       "      <td>98199.000000</td>\n",
       "      <td>47.777600</td>\n",
       "      <td>-121.315000</td>\n",
       "      <td>6210.000000</td>\n",
       "      <td>871200.000000</td>\n",
       "      <td>7.700000e+06</td>\n",
       "    </tr>\n",
       "  </tbody>\n",
       "</table>\n",
       "</div>"
      ],
      "text/plain": [
       "                 id      bedrooms     bathrooms   sqft_living      sqft_lot  \\\n",
       "count  2.159700e+04  21597.000000  21597.000000  21597.000000  2.159700e+04   \n",
       "mean   4.580474e+09      3.373200      2.115826   2080.321850  1.509941e+04   \n",
       "std    2.876736e+09      0.926299      0.768984    918.106125  4.141264e+04   \n",
       "min    1.000102e+06      1.000000      0.500000    370.000000  5.200000e+02   \n",
       "25%    2.123049e+09      3.000000      1.750000   1430.000000  5.040000e+03   \n",
       "50%    3.904930e+09      3.000000      2.250000   1910.000000  7.618000e+03   \n",
       "75%    7.308900e+09      4.000000      2.500000   2550.000000  1.068500e+04   \n",
       "max    9.900000e+09     33.000000      8.000000  13540.000000  1.651359e+06   \n",
       "\n",
       "             floors    waterfront          view     condition         grade  \\\n",
       "count  21597.000000  21597.000000  21597.000000  21597.000000  21597.000000   \n",
       "mean       1.494096      0.007547      0.234292      3.409825      7.657915   \n",
       "std        0.539683      0.086549      0.766390      0.650546      1.173200   \n",
       "min        1.000000      0.000000      0.000000      1.000000      3.000000   \n",
       "25%        1.000000      0.000000      0.000000      3.000000      7.000000   \n",
       "50%        1.500000      0.000000      0.000000      3.000000      7.000000   \n",
       "75%        2.000000      0.000000      0.000000      4.000000      8.000000   \n",
       "max        3.500000      1.000000      4.000000      5.000000     13.000000   \n",
       "\n",
       "         sqft_above  sqft_basement      yr_built  yr_renovated       zipcode  \\\n",
       "count  21597.000000   21597.000000  21597.000000  21597.000000  21597.000000   \n",
       "mean    1788.596842     291.725008   1970.999676     84.464787  98077.951845   \n",
       "std      827.759761     442.667800     29.375234    401.821438     53.513072   \n",
       "min      370.000000       0.000000   1900.000000      0.000000  98001.000000   \n",
       "25%     1190.000000       0.000000   1951.000000      0.000000  98033.000000   \n",
       "50%     1560.000000       0.000000   1975.000000      0.000000  98065.000000   \n",
       "75%     2210.000000     560.000000   1997.000000      0.000000  98118.000000   \n",
       "max     9410.000000    4820.000000   2015.000000   2015.000000  98199.000000   \n",
       "\n",
       "                lat          long  sqft_living15     sqft_lot15         price  \n",
       "count  21597.000000  21597.000000   21597.000000   21597.000000  2.159700e+04  \n",
       "mean      47.560093   -122.213982    1986.620318   12758.283512  5.402966e+05  \n",
       "std        0.138552      0.140724     685.230472   27274.441950  3.673681e+05  \n",
       "min       47.155900   -122.519000     399.000000     651.000000  7.800000e+04  \n",
       "25%       47.471100   -122.328000    1490.000000    5100.000000  3.220000e+05  \n",
       "50%       47.571800   -122.231000    1840.000000    7620.000000  4.500000e+05  \n",
       "75%       47.678000   -122.125000    2360.000000   10083.000000  6.450000e+05  \n",
       "max       47.777600   -121.315000    6210.000000  871200.000000  7.700000e+06  "
      ]
     },
     "execution_count": 5,
     "metadata": {},
     "output_type": "execute_result"
    }
   ],
   "source": [
    "df.describe()"
   ]
  },
  {
   "cell_type": "code",
   "execution_count": 6,
   "id": "bd3494b8",
   "metadata": {},
   "outputs": [
    {
     "data": {
      "text/plain": [
       "(21597, 21)"
      ]
     },
     "execution_count": 6,
     "metadata": {},
     "output_type": "execute_result"
    }
   ],
   "source": [
    "df.shape"
   ]
  },
  {
   "cell_type": "code",
   "execution_count": 7,
   "id": "3461cf92",
   "metadata": {},
   "outputs": [
    {
     "data": {
      "text/plain": [
       "0"
      ]
     },
     "execution_count": 7,
     "metadata": {},
     "output_type": "execute_result"
    }
   ],
   "source": [
    "#Duplicates ?\n",
    "#Full row duplicated\n",
    "df.duplicated().sum()"
   ]
  },
  {
   "cell_type": "code",
   "execution_count": 8,
   "id": "0097b86c",
   "metadata": {
    "scrolled": true
   },
   "outputs": [
    {
     "data": {
      "text/plain": [
       "795000620     3\n",
       "1568100300    2\n",
       "2892700041    2\n",
       "1450100390    2\n",
       "3395040550    2\n",
       "             ..\n",
       "2595650170    1\n",
       "7212651100    1\n",
       "9808700025    1\n",
       "6772200055    1\n",
       "2424410110    1\n",
       "Name: id, Length: 21420, dtype: int64"
      ]
     },
     "execution_count": 8,
     "metadata": {},
     "output_type": "execute_result"
    }
   ],
   "source": [
    "#duplicates in a certain column\n",
    "df['id'].value_counts()"
   ]
  },
  {
   "cell_type": "code",
   "execution_count": 9,
   "id": "c2a967cc",
   "metadata": {},
   "outputs": [
    {
     "data": {
      "text/plain": [
       "176"
      ]
     },
     "execution_count": 9,
     "metadata": {},
     "output_type": "execute_result"
    }
   ],
   "source": [
    "#Count how many ids are duplicated\n",
    "(df['id'].value_counts()>1).sum()"
   ]
  },
  {
   "cell_type": "code",
   "execution_count": 10,
   "id": "6bf4133b",
   "metadata": {},
   "outputs": [
    {
     "data": {
      "text/plain": [
       "Timestamp('2014-05-02 00:00:00')"
      ]
     },
     "execution_count": 10,
     "metadata": {},
     "output_type": "execute_result"
    }
   ],
   "source": [
    "df['date'].min()"
   ]
  },
  {
   "cell_type": "code",
   "execution_count": 11,
   "id": "0f1bf396",
   "metadata": {},
   "outputs": [
    {
     "data": {
      "text/plain": [
       "Timestamp('2015-05-27 00:00:00')"
      ]
     },
     "execution_count": 11,
     "metadata": {},
     "output_type": "execute_result"
    }
   ],
   "source": [
    "df['date'].max()"
   ]
  },
  {
   "cell_type": "code",
   "execution_count": 12,
   "id": "5c9b8207",
   "metadata": {},
   "outputs": [
    {
     "data": {
      "text/html": [
       "<div>\n",
       "<style scoped>\n",
       "    .dataframe tbody tr th:only-of-type {\n",
       "        vertical-align: middle;\n",
       "    }\n",
       "\n",
       "    .dataframe tbody tr th {\n",
       "        vertical-align: top;\n",
       "    }\n",
       "\n",
       "    .dataframe thead th {\n",
       "        text-align: right;\n",
       "    }\n",
       "</style>\n",
       "<table border=\"1\" class=\"dataframe\">\n",
       "  <thead>\n",
       "    <tr style=\"text-align: right;\">\n",
       "      <th></th>\n",
       "      <th>id</th>\n",
       "      <th>date</th>\n",
       "      <th>bedrooms</th>\n",
       "      <th>bathrooms</th>\n",
       "      <th>sqft_living</th>\n",
       "      <th>sqft_lot</th>\n",
       "      <th>floors</th>\n",
       "      <th>waterfront</th>\n",
       "      <th>view</th>\n",
       "      <th>condition</th>\n",
       "      <th>...</th>\n",
       "      <th>sqft_above</th>\n",
       "      <th>sqft_basement</th>\n",
       "      <th>yr_built</th>\n",
       "      <th>yr_renovated</th>\n",
       "      <th>zipcode</th>\n",
       "      <th>lat</th>\n",
       "      <th>long</th>\n",
       "      <th>sqft_living15</th>\n",
       "      <th>sqft_lot15</th>\n",
       "      <th>price</th>\n",
       "    </tr>\n",
       "  </thead>\n",
       "  <tbody>\n",
       "    <tr>\n",
       "      <th>17588</th>\n",
       "      <td>795000620</td>\n",
       "      <td>2014-09-24</td>\n",
       "      <td>3</td>\n",
       "      <td>1.0</td>\n",
       "      <td>1080</td>\n",
       "      <td>6250</td>\n",
       "      <td>1.0</td>\n",
       "      <td>0</td>\n",
       "      <td>0</td>\n",
       "      <td>2</td>\n",
       "      <td>...</td>\n",
       "      <td>1080</td>\n",
       "      <td>0</td>\n",
       "      <td>1950</td>\n",
       "      <td>0</td>\n",
       "      <td>98168</td>\n",
       "      <td>47.5045</td>\n",
       "      <td>-122.33</td>\n",
       "      <td>1070</td>\n",
       "      <td>6250</td>\n",
       "      <td>115000</td>\n",
       "    </tr>\n",
       "    <tr>\n",
       "      <th>17589</th>\n",
       "      <td>795000620</td>\n",
       "      <td>2014-12-15</td>\n",
       "      <td>3</td>\n",
       "      <td>1.0</td>\n",
       "      <td>1080</td>\n",
       "      <td>6250</td>\n",
       "      <td>1.0</td>\n",
       "      <td>0</td>\n",
       "      <td>0</td>\n",
       "      <td>2</td>\n",
       "      <td>...</td>\n",
       "      <td>1080</td>\n",
       "      <td>0</td>\n",
       "      <td>1950</td>\n",
       "      <td>0</td>\n",
       "      <td>98168</td>\n",
       "      <td>47.5045</td>\n",
       "      <td>-122.33</td>\n",
       "      <td>1070</td>\n",
       "      <td>6250</td>\n",
       "      <td>124000</td>\n",
       "    </tr>\n",
       "    <tr>\n",
       "      <th>17590</th>\n",
       "      <td>795000620</td>\n",
       "      <td>2015-03-11</td>\n",
       "      <td>3</td>\n",
       "      <td>1.0</td>\n",
       "      <td>1080</td>\n",
       "      <td>6250</td>\n",
       "      <td>1.0</td>\n",
       "      <td>0</td>\n",
       "      <td>0</td>\n",
       "      <td>2</td>\n",
       "      <td>...</td>\n",
       "      <td>1080</td>\n",
       "      <td>0</td>\n",
       "      <td>1950</td>\n",
       "      <td>0</td>\n",
       "      <td>98168</td>\n",
       "      <td>47.5045</td>\n",
       "      <td>-122.33</td>\n",
       "      <td>1070</td>\n",
       "      <td>6250</td>\n",
       "      <td>157000</td>\n",
       "    </tr>\n",
       "  </tbody>\n",
       "</table>\n",
       "<p>3 rows × 21 columns</p>\n",
       "</div>"
      ],
      "text/plain": [
       "              id       date  bedrooms  bathrooms  sqft_living  sqft_lot  \\\n",
       "17588  795000620 2014-09-24         3        1.0         1080      6250   \n",
       "17589  795000620 2014-12-15         3        1.0         1080      6250   \n",
       "17590  795000620 2015-03-11         3        1.0         1080      6250   \n",
       "\n",
       "       floors  waterfront  view  condition  ...  sqft_above  sqft_basement  \\\n",
       "17588     1.0           0     0          2  ...        1080              0   \n",
       "17589     1.0           0     0          2  ...        1080              0   \n",
       "17590     1.0           0     0          2  ...        1080              0   \n",
       "\n",
       "       yr_built  yr_renovated  zipcode      lat    long  sqft_living15  \\\n",
       "17588      1950             0    98168  47.5045 -122.33           1070   \n",
       "17589      1950             0    98168  47.5045 -122.33           1070   \n",
       "17590      1950             0    98168  47.5045 -122.33           1070   \n",
       "\n",
       "       sqft_lot15   price  \n",
       "17588        6250  115000  \n",
       "17589        6250  124000  \n",
       "17590        6250  157000  \n",
       "\n",
       "[3 rows x 21 columns]"
      ]
     },
     "execution_count": 12,
     "metadata": {},
     "output_type": "execute_result"
    }
   ],
   "source": [
    "#Duplicate analysis -- is it valid and should I keep it? -- KEEP!!!\n",
    "df[df['id']==795000620]"
   ]
  },
  {
   "cell_type": "code",
   "execution_count": 13,
   "id": "262f56c8",
   "metadata": {},
   "outputs": [
    {
     "data": {
      "text/html": [
       "<div>\n",
       "<style scoped>\n",
       "    .dataframe tbody tr th:only-of-type {\n",
       "        vertical-align: middle;\n",
       "    }\n",
       "\n",
       "    .dataframe tbody tr th {\n",
       "        vertical-align: top;\n",
       "    }\n",
       "\n",
       "    .dataframe thead th {\n",
       "        text-align: right;\n",
       "    }\n",
       "</style>\n",
       "<table border=\"1\" class=\"dataframe\">\n",
       "  <thead>\n",
       "    <tr style=\"text-align: right;\">\n",
       "      <th></th>\n",
       "      <th>id</th>\n",
       "      <th>date</th>\n",
       "      <th>bedrooms</th>\n",
       "      <th>bathrooms</th>\n",
       "      <th>sqft_living</th>\n",
       "      <th>sqft_lot</th>\n",
       "      <th>floors</th>\n",
       "      <th>waterfront</th>\n",
       "      <th>view</th>\n",
       "      <th>condition</th>\n",
       "      <th>...</th>\n",
       "      <th>sqft_above</th>\n",
       "      <th>sqft_basement</th>\n",
       "      <th>yr_built</th>\n",
       "      <th>yr_renovated</th>\n",
       "      <th>zipcode</th>\n",
       "      <th>lat</th>\n",
       "      <th>long</th>\n",
       "      <th>sqft_living15</th>\n",
       "      <th>sqft_lot15</th>\n",
       "      <th>price</th>\n",
       "    </tr>\n",
       "  </thead>\n",
       "  <tbody>\n",
       "    <tr>\n",
       "      <th>2036</th>\n",
       "      <td>3395040550</td>\n",
       "      <td>2014-07-28</td>\n",
       "      <td>3</td>\n",
       "      <td>2.5</td>\n",
       "      <td>1530</td>\n",
       "      <td>2890</td>\n",
       "      <td>2.0</td>\n",
       "      <td>0</td>\n",
       "      <td>0</td>\n",
       "      <td>3</td>\n",
       "      <td>...</td>\n",
       "      <td>1530</td>\n",
       "      <td>0</td>\n",
       "      <td>2001</td>\n",
       "      <td>0</td>\n",
       "      <td>98108</td>\n",
       "      <td>47.5434</td>\n",
       "      <td>-122.293</td>\n",
       "      <td>1540</td>\n",
       "      <td>2890</td>\n",
       "      <td>250000</td>\n",
       "    </tr>\n",
       "    <tr>\n",
       "      <th>2037</th>\n",
       "      <td>3395040550</td>\n",
       "      <td>2015-04-29</td>\n",
       "      <td>3</td>\n",
       "      <td>2.5</td>\n",
       "      <td>1530</td>\n",
       "      <td>2890</td>\n",
       "      <td>2.0</td>\n",
       "      <td>0</td>\n",
       "      <td>0</td>\n",
       "      <td>3</td>\n",
       "      <td>...</td>\n",
       "      <td>1530</td>\n",
       "      <td>0</td>\n",
       "      <td>2001</td>\n",
       "      <td>0</td>\n",
       "      <td>98108</td>\n",
       "      <td>47.5434</td>\n",
       "      <td>-122.293</td>\n",
       "      <td>1540</td>\n",
       "      <td>2890</td>\n",
       "      <td>320000</td>\n",
       "    </tr>\n",
       "  </tbody>\n",
       "</table>\n",
       "<p>2 rows × 21 columns</p>\n",
       "</div>"
      ],
      "text/plain": [
       "              id       date  bedrooms  bathrooms  sqft_living  sqft_lot  \\\n",
       "2036  3395040550 2014-07-28         3        2.5         1530      2890   \n",
       "2037  3395040550 2015-04-29         3        2.5         1530      2890   \n",
       "\n",
       "      floors  waterfront  view  condition  ...  sqft_above  sqft_basement  \\\n",
       "2036     2.0           0     0          3  ...        1530              0   \n",
       "2037     2.0           0     0          3  ...        1530              0   \n",
       "\n",
       "      yr_built  yr_renovated  zipcode      lat     long  sqft_living15  \\\n",
       "2036      2001             0    98108  47.5434 -122.293           1540   \n",
       "2037      2001             0    98108  47.5434 -122.293           1540   \n",
       "\n",
       "      sqft_lot15   price  \n",
       "2036        2890  250000  \n",
       "2037        2890  320000  \n",
       "\n",
       "[2 rows x 21 columns]"
      ]
     },
     "execution_count": 13,
     "metadata": {},
     "output_type": "execute_result"
    }
   ],
   "source": [
    "df[df['id']==3395040550]"
   ]
  },
  {
   "cell_type": "code",
   "execution_count": 14,
   "id": "a107d9aa",
   "metadata": {},
   "outputs": [
    {
     "data": {
      "text/html": [
       "<div>\n",
       "<style scoped>\n",
       "    .dataframe tbody tr th:only-of-type {\n",
       "        vertical-align: middle;\n",
       "    }\n",
       "\n",
       "    .dataframe tbody tr th {\n",
       "        vertical-align: top;\n",
       "    }\n",
       "\n",
       "    .dataframe thead th {\n",
       "        text-align: right;\n",
       "    }\n",
       "</style>\n",
       "<table border=\"1\" class=\"dataframe\">\n",
       "  <thead>\n",
       "    <tr style=\"text-align: right;\">\n",
       "      <th></th>\n",
       "      <th>id</th>\n",
       "      <th>date</th>\n",
       "      <th>bedrooms</th>\n",
       "      <th>bathrooms</th>\n",
       "      <th>sqft_living</th>\n",
       "      <th>sqft_lot</th>\n",
       "      <th>floors</th>\n",
       "      <th>waterfront</th>\n",
       "      <th>view</th>\n",
       "      <th>condition</th>\n",
       "      <th>...</th>\n",
       "      <th>sqft_above</th>\n",
       "      <th>sqft_basement</th>\n",
       "      <th>yr_built</th>\n",
       "      <th>yr_renovated</th>\n",
       "      <th>zipcode</th>\n",
       "      <th>lat</th>\n",
       "      <th>long</th>\n",
       "      <th>sqft_living15</th>\n",
       "      <th>sqft_lot15</th>\n",
       "      <th>price</th>\n",
       "    </tr>\n",
       "  </thead>\n",
       "  <tbody>\n",
       "  </tbody>\n",
       "</table>\n",
       "<p>0 rows × 21 columns</p>\n",
       "</div>"
      ],
      "text/plain": [
       "Empty DataFrame\n",
       "Columns: [id, date, bedrooms, bathrooms, sqft_living, sqft_lot, floors, waterfront, view, condition, grade, sqft_above, sqft_basement, yr_built, yr_renovated, zipcode, lat, long, sqft_living15, sqft_lot15, price]\n",
       "Index: []\n",
       "\n",
       "[0 rows x 21 columns]"
      ]
     },
     "execution_count": 14,
     "metadata": {},
     "output_type": "execute_result"
    }
   ],
   "source": [
    "# Are there any duplicates where the id is the same and the date of sale is the same\n",
    "df[df.duplicated(['id','date'])]"
   ]
  },
  {
   "cell_type": "code",
   "execution_count": 15,
   "id": "a00fc32c",
   "metadata": {
    "scrolled": true
   },
   "outputs": [
    {
     "data": {
      "text/html": [
       "<div>\n",
       "<style scoped>\n",
       "    .dataframe tbody tr th:only-of-type {\n",
       "        vertical-align: middle;\n",
       "    }\n",
       "\n",
       "    .dataframe tbody tr th {\n",
       "        vertical-align: top;\n",
       "    }\n",
       "\n",
       "    .dataframe thead th {\n",
       "        text-align: right;\n",
       "    }\n",
       "</style>\n",
       "<table border=\"1\" class=\"dataframe\">\n",
       "  <thead>\n",
       "    <tr style=\"text-align: right;\">\n",
       "      <th></th>\n",
       "      <th>id</th>\n",
       "      <th>date</th>\n",
       "      <th>bedrooms</th>\n",
       "      <th>bathrooms</th>\n",
       "      <th>sqft_living</th>\n",
       "      <th>sqft_lot</th>\n",
       "      <th>floors</th>\n",
       "      <th>waterfront</th>\n",
       "      <th>view</th>\n",
       "      <th>condition</th>\n",
       "      <th>...</th>\n",
       "      <th>sqft_above</th>\n",
       "      <th>sqft_basement</th>\n",
       "      <th>yr_built</th>\n",
       "      <th>yr_renovated</th>\n",
       "      <th>zipcode</th>\n",
       "      <th>lat</th>\n",
       "      <th>long</th>\n",
       "      <th>sqft_living15</th>\n",
       "      <th>sqft_lot15</th>\n",
       "      <th>price</th>\n",
       "    </tr>\n",
       "  </thead>\n",
       "  <tbody>\n",
       "    <tr>\n",
       "      <th>15856</th>\n",
       "      <td>2402100895</td>\n",
       "      <td>2014-06-25</td>\n",
       "      <td>33</td>\n",
       "      <td>1.75</td>\n",
       "      <td>1620</td>\n",
       "      <td>6000</td>\n",
       "      <td>1.0</td>\n",
       "      <td>0</td>\n",
       "      <td>0</td>\n",
       "      <td>5</td>\n",
       "      <td>...</td>\n",
       "      <td>1040</td>\n",
       "      <td>580</td>\n",
       "      <td>1947</td>\n",
       "      <td>0</td>\n",
       "      <td>98103</td>\n",
       "      <td>47.6878</td>\n",
       "      <td>-122.331</td>\n",
       "      <td>1330</td>\n",
       "      <td>4700</td>\n",
       "      <td>640000</td>\n",
       "    </tr>\n",
       "  </tbody>\n",
       "</table>\n",
       "<p>1 rows × 21 columns</p>\n",
       "</div>"
      ],
      "text/plain": [
       "               id       date  bedrooms  bathrooms  sqft_living  sqft_lot  \\\n",
       "15856  2402100895 2014-06-25        33       1.75         1620      6000   \n",
       "\n",
       "       floors  waterfront  view  condition  ...  sqft_above  sqft_basement  \\\n",
       "15856     1.0           0     0          5  ...        1040            580   \n",
       "\n",
       "       yr_built  yr_renovated  zipcode      lat     long  sqft_living15  \\\n",
       "15856      1947             0    98103  47.6878 -122.331           1330   \n",
       "\n",
       "       sqft_lot15   price  \n",
       "15856        4700  640000  \n",
       "\n",
       "[1 rows x 21 columns]"
      ]
     },
     "execution_count": 15,
     "metadata": {},
     "output_type": "execute_result"
    }
   ],
   "source": [
    "df[df['bedrooms']==33]"
   ]
  },
  {
   "cell_type": "code",
   "execution_count": null,
   "id": "79372691",
   "metadata": {},
   "outputs": [],
   "source": []
  },
  {
   "cell_type": "code",
   "execution_count": 16,
   "id": "04ece121",
   "metadata": {},
   "outputs": [
    {
     "data": {
      "text/html": [
       "<div>\n",
       "<style scoped>\n",
       "    .dataframe tbody tr th:only-of-type {\n",
       "        vertical-align: middle;\n",
       "    }\n",
       "\n",
       "    .dataframe tbody tr th {\n",
       "        vertical-align: top;\n",
       "    }\n",
       "\n",
       "    .dataframe thead th {\n",
       "        text-align: right;\n",
       "    }\n",
       "</style>\n",
       "<table border=\"1\" class=\"dataframe\">\n",
       "  <thead>\n",
       "    <tr style=\"text-align: right;\">\n",
       "      <th></th>\n",
       "      <th>id</th>\n",
       "      <th>date</th>\n",
       "      <th>bedrooms</th>\n",
       "      <th>bathrooms</th>\n",
       "      <th>sqft_living</th>\n",
       "      <th>sqft_lot</th>\n",
       "      <th>floors</th>\n",
       "      <th>waterfront</th>\n",
       "      <th>view</th>\n",
       "      <th>condition</th>\n",
       "      <th>...</th>\n",
       "      <th>sqft_above</th>\n",
       "      <th>sqft_basement</th>\n",
       "      <th>yr_built</th>\n",
       "      <th>yr_renovated</th>\n",
       "      <th>zipcode</th>\n",
       "      <th>lat</th>\n",
       "      <th>long</th>\n",
       "      <th>sqft_living15</th>\n",
       "      <th>sqft_lot15</th>\n",
       "      <th>price</th>\n",
       "    </tr>\n",
       "  </thead>\n",
       "  <tbody>\n",
       "    <tr>\n",
       "      <th>8748</th>\n",
       "      <td>1773100755</td>\n",
       "      <td>2014-08-21</td>\n",
       "      <td>11</td>\n",
       "      <td>3.0</td>\n",
       "      <td>3000</td>\n",
       "      <td>4960</td>\n",
       "      <td>2.0</td>\n",
       "      <td>0</td>\n",
       "      <td>0</td>\n",
       "      <td>3</td>\n",
       "      <td>...</td>\n",
       "      <td>2400</td>\n",
       "      <td>600</td>\n",
       "      <td>1918</td>\n",
       "      <td>1999</td>\n",
       "      <td>98106</td>\n",
       "      <td>47.556</td>\n",
       "      <td>-122.363</td>\n",
       "      <td>1420</td>\n",
       "      <td>4960</td>\n",
       "      <td>520000</td>\n",
       "    </tr>\n",
       "  </tbody>\n",
       "</table>\n",
       "<p>1 rows × 21 columns</p>\n",
       "</div>"
      ],
      "text/plain": [
       "              id       date  bedrooms  bathrooms  sqft_living  sqft_lot  \\\n",
       "8748  1773100755 2014-08-21        11        3.0         3000      4960   \n",
       "\n",
       "      floors  waterfront  view  condition  ...  sqft_above  sqft_basement  \\\n",
       "8748     2.0           0     0          3  ...        2400            600   \n",
       "\n",
       "      yr_built  yr_renovated  zipcode     lat     long  sqft_living15  \\\n",
       "8748      1918          1999    98106  47.556 -122.363           1420   \n",
       "\n",
       "      sqft_lot15   price  \n",
       "8748        4960  520000  \n",
       "\n",
       "[1 rows x 21 columns]"
      ]
     },
     "execution_count": 16,
     "metadata": {},
     "output_type": "execute_result"
    }
   ],
   "source": [
    "df[df['bedrooms']==11]"
   ]
  },
  {
   "cell_type": "code",
   "execution_count": 17,
   "id": "c0cbcbc9",
   "metadata": {
    "scrolled": true
   },
   "outputs": [
    {
     "data": {
      "text/html": [
       "<div>\n",
       "<style scoped>\n",
       "    .dataframe tbody tr th:only-of-type {\n",
       "        vertical-align: middle;\n",
       "    }\n",
       "\n",
       "    .dataframe tbody tr th {\n",
       "        vertical-align: top;\n",
       "    }\n",
       "\n",
       "    .dataframe thead th {\n",
       "        text-align: right;\n",
       "    }\n",
       "</style>\n",
       "<table border=\"1\" class=\"dataframe\">\n",
       "  <thead>\n",
       "    <tr style=\"text-align: right;\">\n",
       "      <th></th>\n",
       "      <th>id</th>\n",
       "      <th>date</th>\n",
       "      <th>bedrooms</th>\n",
       "      <th>bathrooms</th>\n",
       "      <th>sqft_living</th>\n",
       "      <th>sqft_lot</th>\n",
       "      <th>floors</th>\n",
       "      <th>waterfront</th>\n",
       "      <th>view</th>\n",
       "      <th>condition</th>\n",
       "      <th>...</th>\n",
       "      <th>sqft_above</th>\n",
       "      <th>sqft_basement</th>\n",
       "      <th>yr_built</th>\n",
       "      <th>yr_renovated</th>\n",
       "      <th>zipcode</th>\n",
       "      <th>lat</th>\n",
       "      <th>long</th>\n",
       "      <th>sqft_living15</th>\n",
       "      <th>sqft_lot15</th>\n",
       "      <th>price</th>\n",
       "    </tr>\n",
       "  </thead>\n",
       "  <tbody>\n",
       "    <tr>\n",
       "      <th>7245</th>\n",
       "      <td>6762700020</td>\n",
       "      <td>2014-10-13</td>\n",
       "      <td>6</td>\n",
       "      <td>8.0</td>\n",
       "      <td>12050</td>\n",
       "      <td>27600</td>\n",
       "      <td>2.5</td>\n",
       "      <td>0</td>\n",
       "      <td>3</td>\n",
       "      <td>4</td>\n",
       "      <td>...</td>\n",
       "      <td>8570</td>\n",
       "      <td>3480</td>\n",
       "      <td>1910</td>\n",
       "      <td>1987</td>\n",
       "      <td>98102</td>\n",
       "      <td>47.6298</td>\n",
       "      <td>-122.323</td>\n",
       "      <td>3940</td>\n",
       "      <td>8800</td>\n",
       "      <td>7700000</td>\n",
       "    </tr>\n",
       "    <tr>\n",
       "      <th>12764</th>\n",
       "      <td>1225069038</td>\n",
       "      <td>2014-05-05</td>\n",
       "      <td>7</td>\n",
       "      <td>8.0</td>\n",
       "      <td>13540</td>\n",
       "      <td>307752</td>\n",
       "      <td>3.0</td>\n",
       "      <td>0</td>\n",
       "      <td>4</td>\n",
       "      <td>3</td>\n",
       "      <td>...</td>\n",
       "      <td>9410</td>\n",
       "      <td>4130</td>\n",
       "      <td>1999</td>\n",
       "      <td>0</td>\n",
       "      <td>98053</td>\n",
       "      <td>47.6675</td>\n",
       "      <td>-121.986</td>\n",
       "      <td>4850</td>\n",
       "      <td>217800</td>\n",
       "      <td>2280000</td>\n",
       "    </tr>\n",
       "  </tbody>\n",
       "</table>\n",
       "<p>2 rows × 21 columns</p>\n",
       "</div>"
      ],
      "text/plain": [
       "               id       date  bedrooms  bathrooms  sqft_living  sqft_lot  \\\n",
       "7245   6762700020 2014-10-13         6        8.0        12050     27600   \n",
       "12764  1225069038 2014-05-05         7        8.0        13540    307752   \n",
       "\n",
       "       floors  waterfront  view  condition  ...  sqft_above  sqft_basement  \\\n",
       "7245      2.5           0     3          4  ...        8570           3480   \n",
       "12764     3.0           0     4          3  ...        9410           4130   \n",
       "\n",
       "       yr_built  yr_renovated  zipcode      lat     long  sqft_living15  \\\n",
       "7245       1910          1987    98102  47.6298 -122.323           3940   \n",
       "12764      1999             0    98053  47.6675 -121.986           4850   \n",
       "\n",
       "       sqft_lot15    price  \n",
       "7245         8800  7700000  \n",
       "12764      217800  2280000  \n",
       "\n",
       "[2 rows x 21 columns]"
      ]
     },
     "execution_count": 17,
     "metadata": {},
     "output_type": "execute_result"
    }
   ],
   "source": [
    "df[df['bathrooms']==8]"
   ]
  },
  {
   "cell_type": "code",
   "execution_count": 18,
   "id": "d0c720b4",
   "metadata": {},
   "outputs": [
    {
     "data": {
      "text/plain": [
       "array([ 3,  2,  4,  5,  1,  6,  7,  8,  9, 11, 10, 33])"
      ]
     },
     "execution_count": 18,
     "metadata": {},
     "output_type": "execute_result"
    }
   ],
   "source": [
    "df['bedrooms'].unique()"
   ]
  },
  {
   "cell_type": "code",
   "execution_count": null,
   "id": "b85efecd",
   "metadata": {},
   "outputs": [],
   "source": []
  },
  {
   "cell_type": "code",
   "execution_count": 19,
   "id": "2acfb72d",
   "metadata": {},
   "outputs": [],
   "source": [
    "import pandas_profiling"
   ]
  },
  {
   "cell_type": "code",
   "execution_count": 20,
   "id": "bd44be68",
   "metadata": {},
   "outputs": [],
   "source": [
    "#df.profile_report()"
   ]
  },
  {
   "cell_type": "markdown",
   "id": "48db2db8",
   "metadata": {},
   "source": [
    "### histograms or boxplots\n",
    "\n",
    "1) identify how much rescaling might be needed and if any outliers or skewing will be a problem, per every numerical column. Remember that linear regression doesnt perform well with highly skewed data so normalisation method would be needed. \n",
    "\n",
    "2) bar charts for each categorical column to see the range and spread of that data too - remembering that linear regression requires all numeric data points for the training data set, we would have to later use OHE / get_dummies to convert categories. If we have too many unique values, is there a rationale for grouping them and therefore saving redundant columns?"
   ]
  },
  {
   "cell_type": "code",
   "execution_count": 21,
   "id": "97ffe825",
   "metadata": {},
   "outputs": [],
   "source": [
    "#Rescale, normalize the distribution, remove outliers, convert outliers into numericals, split data into columns\n"
   ]
  },
  {
   "cell_type": "code",
   "execution_count": 22,
   "id": "cccec3e8",
   "metadata": {},
   "outputs": [
    {
     "data": {
      "text/plain": [
       "array([[<AxesSubplot:title={'center':'id'}>,\n",
       "        <AxesSubplot:title={'center':'date'}>,\n",
       "        <AxesSubplot:title={'center':'bedrooms'}>,\n",
       "        <AxesSubplot:title={'center':'bathrooms'}>,\n",
       "        <AxesSubplot:title={'center':'sqft_living'}>],\n",
       "       [<AxesSubplot:title={'center':'sqft_lot'}>,\n",
       "        <AxesSubplot:title={'center':'floors'}>,\n",
       "        <AxesSubplot:title={'center':'waterfront'}>,\n",
       "        <AxesSubplot:title={'center':'view'}>,\n",
       "        <AxesSubplot:title={'center':'condition'}>],\n",
       "       [<AxesSubplot:title={'center':'grade'}>,\n",
       "        <AxesSubplot:title={'center':'sqft_above'}>,\n",
       "        <AxesSubplot:title={'center':'sqft_basement'}>,\n",
       "        <AxesSubplot:title={'center':'yr_built'}>,\n",
       "        <AxesSubplot:title={'center':'yr_renovated'}>],\n",
       "       [<AxesSubplot:title={'center':'zipcode'}>,\n",
       "        <AxesSubplot:title={'center':'lat'}>,\n",
       "        <AxesSubplot:title={'center':'long'}>,\n",
       "        <AxesSubplot:title={'center':'sqft_living15'}>,\n",
       "        <AxesSubplot:title={'center':'sqft_lot15'}>],\n",
       "       [<AxesSubplot:title={'center':'price'}>, <AxesSubplot:>,\n",
       "        <AxesSubplot:>, <AxesSubplot:>, <AxesSubplot:>]], dtype=object)"
      ]
     },
     "execution_count": 22,
     "metadata": {},
     "output_type": "execute_result"
    },
    {
     "data": {
      "image/png": "[encoded data removed]",
      "text/plain": [
       "<Figure size 1296x1080 with 25 Axes>"
      ]
     },
     "metadata": {
      "needs_background": "light"
     },
     "output_type": "display_data"
    }
   ],
   "source": [
    "df.hist(figsize=(18,15), bins='auto')\n"
   ]
  },
  {
   "cell_type": "markdown",
   "id": "d139d943",
   "metadata": {},
   "source": [
    "### Check for multicollinearity \n",
    "\n",
    "depending on the model chosen, multicollinearity can impact the accuracy of the model algoritm by giving too much importance to similar features. Reduce this risk by creating the correlation matrix, consider dropping any one of two very similar numerical features, judging by their correlation score (spearmans or pearsons) "
   ]
  },
  {
   "cell_type": "code",
   "execution_count": 23,
   "id": "0d7d7974",
   "metadata": {},
   "outputs": [
    {
     "data": {
      "image/png": "[encoded data removed]",
      "text/plain": [
       "<Figure size 1080x1080 with 2 Axes>"
      ]
     },
     "metadata": {
      "needs_background": "light"
     },
     "output_type": "display_data"
    }
   ],
   "source": [
    "fig, ax = plt.subplots(figsize=(15,15))\n",
    "\n",
    "mask=np.zeros_like(df.corr())\n",
    "\n",
    "mask[np.triu_indices_from(mask)]=True\n",
    "\n",
    "sns.heatmap(df.corr(), mask=mask, annot=True, cmap='coolwarm', center=0)\n",
    "\n",
    "plt.show()"
   ]
  },
  {
   "cell_type": "code",
   "execution_count": 24,
   "id": "4b78ead1",
   "metadata": {},
   "outputs": [],
   "source": [
    "df = df.drop(columns=['zipcode','sqft_above','id','date'])\n"
   ]
  },
  {
   "cell_type": "code",
   "execution_count": 25,
   "id": "0503d272",
   "metadata": {},
   "outputs": [
    {
     "data": {
      "image/png": "[encoded data removed]",
      "text/plain": [
       "<Figure size 1080x1080 with 2 Axes>"
      ]
     },
     "metadata": {
      "needs_background": "light"
     },
     "output_type": "display_data"
    }
   ],
   "source": [
    "fig, ax = plt.subplots(figsize=(15,15))\n",
    "\n",
    "mask=np.zeros_like(df.corr())\n",
    "\n",
    "mask[np.triu_indices_from(mask)]=True\n",
    "\n",
    "sns.heatmap(df.corr(), mask=mask, annot=True, cmap='coolwarm', center=0)\n",
    "\n",
    "plt.show()"
   ]
  },
  {
   "cell_type": "markdown",
   "id": "responsible-drive",
   "metadata": {},
   "source": [
    "### Clean and wrangling steps "
   ]
  },
  {
   "cell_type": "markdown",
   "id": "b5e500d8",
   "metadata": {},
   "source": [
    "#### List here any cleaning or wrangling steps to return to on a second iteration of your model \n",
    "\n",
    "\n",
    "+ \n",
    "+ \n",
    "+ \n",
    "+ \n",
    "+ \n",
    "+ "
   ]
  },
  {
   "cell_type": "markdown",
   "id": "79ad8910",
   "metadata": {},
   "source": [
    "def log_transform_clean(x):\n",
    "    x=np.log(x)\n",
    "    if np.isfinite(x):\n",
    "         return x\n",
    "    else:\n",
    "        return np.NAN\n",
    "    \n",
    "df['price']=list(map(log_transform_clean,df['price']))\n",
    "df['sqft_living']=list(map(log_transform_clean,df['sqft_living']))"
   ]
  },
  {
   "cell_type": "code",
   "execution_count": null,
   "id": "a0e29550",
   "metadata": {},
   "outputs": [],
   "source": []
  },
  {
   "cell_type": "code",
   "execution_count": null,
   "id": "6176687c",
   "metadata": {},
   "outputs": [],
   "source": []
  },
  {
   "cell_type": "code",
   "execution_count": null,
   "id": "b38cf2e1",
   "metadata": {},
   "outputs": [],
   "source": []
  },
  {
   "cell_type": "code",
   "execution_count": null,
   "id": "598ed037",
   "metadata": {},
   "outputs": [],
   "source": []
  },
  {
   "cell_type": "code",
   "execution_count": null,
   "id": "f3eea34a",
   "metadata": {},
   "outputs": [],
   "source": []
  },
  {
   "cell_type": "markdown",
   "id": "reduced-teaching",
   "metadata": {},
   "source": [
    "### split off the dependant variable (label)"
   ]
  },
  {
   "cell_type": "code",
   "execution_count": 26,
   "id": "8771bfff",
   "metadata": {},
   "outputs": [],
   "source": [
    "X = df.drop(columns=['price']) # X is all other columns\n",
    "y = df['price'] #y is price "
   ]
  },
  {
   "cell_type": "code",
   "execution_count": 27,
   "id": "6b179c84",
   "metadata": {},
   "outputs": [],
   "source": [
    "# X.shape and y.shape (same in number of rows)"
   ]
  },
  {
   "cell_type": "code",
   "execution_count": 28,
   "id": "8f1c1b76",
   "metadata": {},
   "outputs": [
    {
     "data": {
      "text/plain": [
       "(21597, 16)"
      ]
     },
     "execution_count": 28,
     "metadata": {},
     "output_type": "execute_result"
    }
   ],
   "source": [
    "X.shape"
   ]
  },
  {
   "cell_type": "code",
   "execution_count": 29,
   "id": "9c6863ea",
   "metadata": {},
   "outputs": [
    {
     "data": {
      "text/plain": [
       "(21597,)"
      ]
     },
     "execution_count": 29,
     "metadata": {},
     "output_type": "execute_result"
    }
   ],
   "source": [
    "y.shape"
   ]
  },
  {
   "cell_type": "markdown",
   "id": "0608477c",
   "metadata": {},
   "source": [
    "### Pre processing - iteration 1 "
   ]
  },
  {
   "cell_type": "markdown",
   "id": "326631f4",
   "metadata": {},
   "source": [
    "+ the minimum requirements here depend on the model chosen. ie, for linear regression you must label / encode any categorical (object type) columns, nulls must also have been eliminated at this stage - as the model only works with numbers. \n",
    "\n",
    "at this stage it is possible to proceed to your baseline (worst case) model\n",
    "\n",
    "---- \n",
    "OR \n",
    "\n",
    "+ you can consider applying a scaling method for the numerical features\n",
    "+ this is best applied after dealing with any extreme outlier values\n",
    "\n"
   ]
  },
  {
   "cell_type": "code",
   "execution_count": 30,
   "id": "e2f55b8f",
   "metadata": {},
   "outputs": [],
   "source": [
    "# one hot encoder, get_dummies, labelling method - to replace any categories with numbers\n"
   ]
  },
  {
   "cell_type": "code",
   "execution_count": 31,
   "id": "likely-motion",
   "metadata": {},
   "outputs": [],
   "source": [
    "from sklearn.preprocessing import MinMaxScaler\n",
    "\n",
    "transform = MinMaxScaler().fit(X)\n",
    "X_numscaled = transform.transform(X)"
   ]
  },
  {
   "cell_type": "code",
   "execution_count": 32,
   "id": "d64f7368",
   "metadata": {},
   "outputs": [],
   "source": [
    "scaled = pd.DataFrame(X_numscaled)"
   ]
  },
  {
   "cell_type": "code",
   "execution_count": 33,
   "id": "2e7b52c4",
   "metadata": {},
   "outputs": [
    {
     "data": {
      "text/html": [
       "<div>\n",
       "<style scoped>\n",
       "    .dataframe tbody tr th:only-of-type {\n",
       "        vertical-align: middle;\n",
       "    }\n",
       "\n",
       "    .dataframe tbody tr th {\n",
       "        vertical-align: top;\n",
       "    }\n",
       "\n",
       "    .dataframe thead th {\n",
       "        text-align: right;\n",
       "    }\n",
       "</style>\n",
       "<table border=\"1\" class=\"dataframe\">\n",
       "  <thead>\n",
       "    <tr style=\"text-align: right;\">\n",
       "      <th></th>\n",
       "      <th>0</th>\n",
       "      <th>1</th>\n",
       "      <th>2</th>\n",
       "      <th>3</th>\n",
       "      <th>4</th>\n",
       "      <th>5</th>\n",
       "      <th>6</th>\n",
       "      <th>7</th>\n",
       "      <th>8</th>\n",
       "      <th>9</th>\n",
       "      <th>10</th>\n",
       "      <th>11</th>\n",
       "      <th>12</th>\n",
       "      <th>13</th>\n",
       "      <th>14</th>\n",
       "      <th>15</th>\n",
       "    </tr>\n",
       "  </thead>\n",
       "  <tbody>\n",
       "    <tr>\n",
       "      <th>0</th>\n",
       "      <td>0.06250</td>\n",
       "      <td>0.066667</td>\n",
       "      <td>0.061503</td>\n",
       "      <td>0.003108</td>\n",
       "      <td>0.0</td>\n",
       "      <td>0.0</td>\n",
       "      <td>0.0</td>\n",
       "      <td>0.5</td>\n",
       "      <td>0.4</td>\n",
       "      <td>0.000000</td>\n",
       "      <td>0.478261</td>\n",
       "      <td>0.000000</td>\n",
       "      <td>0.571498</td>\n",
       "      <td>0.217608</td>\n",
       "      <td>0.161934</td>\n",
       "      <td>0.005742</td>\n",
       "    </tr>\n",
       "    <tr>\n",
       "      <th>1</th>\n",
       "      <td>0.06250</td>\n",
       "      <td>0.233333</td>\n",
       "      <td>0.167046</td>\n",
       "      <td>0.004072</td>\n",
       "      <td>0.4</td>\n",
       "      <td>0.0</td>\n",
       "      <td>0.0</td>\n",
       "      <td>0.5</td>\n",
       "      <td>0.4</td>\n",
       "      <td>0.082988</td>\n",
       "      <td>0.443478</td>\n",
       "      <td>0.988089</td>\n",
       "      <td>0.908959</td>\n",
       "      <td>0.166113</td>\n",
       "      <td>0.222165</td>\n",
       "      <td>0.008027</td>\n",
       "    </tr>\n",
       "    <tr>\n",
       "      <th>2</th>\n",
       "      <td>0.03125</td>\n",
       "      <td>0.066667</td>\n",
       "      <td>0.030372</td>\n",
       "      <td>0.005743</td>\n",
       "      <td>0.0</td>\n",
       "      <td>0.0</td>\n",
       "      <td>0.0</td>\n",
       "      <td>0.5</td>\n",
       "      <td>0.3</td>\n",
       "      <td>0.000000</td>\n",
       "      <td>0.286957</td>\n",
       "      <td>0.000000</td>\n",
       "      <td>0.936143</td>\n",
       "      <td>0.237542</td>\n",
       "      <td>0.399415</td>\n",
       "      <td>0.008513</td>\n",
       "    </tr>\n",
       "    <tr>\n",
       "      <th>3</th>\n",
       "      <td>0.09375</td>\n",
       "      <td>0.333333</td>\n",
       "      <td>0.120729</td>\n",
       "      <td>0.002714</td>\n",
       "      <td>0.0</td>\n",
       "      <td>0.0</td>\n",
       "      <td>0.0</td>\n",
       "      <td>1.0</td>\n",
       "      <td>0.4</td>\n",
       "      <td>0.188797</td>\n",
       "      <td>0.565217</td>\n",
       "      <td>0.000000</td>\n",
       "      <td>0.586939</td>\n",
       "      <td>0.104651</td>\n",
       "      <td>0.165376</td>\n",
       "      <td>0.004996</td>\n",
       "    </tr>\n",
       "    <tr>\n",
       "      <th>4</th>\n",
       "      <td>0.06250</td>\n",
       "      <td>0.200000</td>\n",
       "      <td>0.099468</td>\n",
       "      <td>0.004579</td>\n",
       "      <td>0.0</td>\n",
       "      <td>0.0</td>\n",
       "      <td>0.0</td>\n",
       "      <td>0.5</td>\n",
       "      <td>0.5</td>\n",
       "      <td>0.000000</td>\n",
       "      <td>0.756522</td>\n",
       "      <td>0.000000</td>\n",
       "      <td>0.741354</td>\n",
       "      <td>0.393688</td>\n",
       "      <td>0.241094</td>\n",
       "      <td>0.007871</td>\n",
       "    </tr>\n",
       "    <tr>\n",
       "      <th>...</th>\n",
       "      <td>...</td>\n",
       "      <td>...</td>\n",
       "      <td>...</td>\n",
       "      <td>...</td>\n",
       "      <td>...</td>\n",
       "      <td>...</td>\n",
       "      <td>...</td>\n",
       "      <td>...</td>\n",
       "      <td>...</td>\n",
       "      <td>...</td>\n",
       "      <td>...</td>\n",
       "      <td>...</td>\n",
       "      <td>...</td>\n",
       "      <td>...</td>\n",
       "      <td>...</td>\n",
       "      <td>...</td>\n",
       "    </tr>\n",
       "    <tr>\n",
       "      <th>21592</th>\n",
       "      <td>0.06250</td>\n",
       "      <td>0.266667</td>\n",
       "      <td>0.088079</td>\n",
       "      <td>0.000370</td>\n",
       "      <td>0.8</td>\n",
       "      <td>0.0</td>\n",
       "      <td>0.0</td>\n",
       "      <td>0.5</td>\n",
       "      <td>0.5</td>\n",
       "      <td>0.000000</td>\n",
       "      <td>0.947826</td>\n",
       "      <td>0.000000</td>\n",
       "      <td>0.874055</td>\n",
       "      <td>0.143688</td>\n",
       "      <td>0.194631</td>\n",
       "      <td>0.000986</td>\n",
       "    </tr>\n",
       "    <tr>\n",
       "      <th>21593</th>\n",
       "      <td>0.09375</td>\n",
       "      <td>0.266667</td>\n",
       "      <td>0.147304</td>\n",
       "      <td>0.003206</td>\n",
       "      <td>0.4</td>\n",
       "      <td>0.0</td>\n",
       "      <td>0.0</td>\n",
       "      <td>0.5</td>\n",
       "      <td>0.5</td>\n",
       "      <td>0.000000</td>\n",
       "      <td>0.991304</td>\n",
       "      <td>0.000000</td>\n",
       "      <td>0.570693</td>\n",
       "      <td>0.130399</td>\n",
       "      <td>0.246257</td>\n",
       "      <td>0.007523</td>\n",
       "    </tr>\n",
       "    <tr>\n",
       "      <th>21594</th>\n",
       "      <td>0.03125</td>\n",
       "      <td>0.033333</td>\n",
       "      <td>0.049355</td>\n",
       "      <td>0.000503</td>\n",
       "      <td>0.4</td>\n",
       "      <td>0.0</td>\n",
       "      <td>0.0</td>\n",
       "      <td>0.5</td>\n",
       "      <td>0.4</td>\n",
       "      <td>0.000000</td>\n",
       "      <td>0.947826</td>\n",
       "      <td>0.000000</td>\n",
       "      <td>0.705324</td>\n",
       "      <td>0.182724</td>\n",
       "      <td>0.106866</td>\n",
       "      <td>0.001558</td>\n",
       "    </tr>\n",
       "    <tr>\n",
       "      <th>21595</th>\n",
       "      <td>0.06250</td>\n",
       "      <td>0.266667</td>\n",
       "      <td>0.093394</td>\n",
       "      <td>0.001132</td>\n",
       "      <td>0.4</td>\n",
       "      <td>0.0</td>\n",
       "      <td>0.0</td>\n",
       "      <td>0.5</td>\n",
       "      <td>0.5</td>\n",
       "      <td>0.000000</td>\n",
       "      <td>0.904348</td>\n",
       "      <td>0.000000</td>\n",
       "      <td>0.608975</td>\n",
       "      <td>0.373754</td>\n",
       "      <td>0.173980</td>\n",
       "      <td>0.000731</td>\n",
       "    </tr>\n",
       "    <tr>\n",
       "      <th>21596</th>\n",
       "      <td>0.03125</td>\n",
       "      <td>0.033333</td>\n",
       "      <td>0.049355</td>\n",
       "      <td>0.000337</td>\n",
       "      <td>0.4</td>\n",
       "      <td>0.0</td>\n",
       "      <td>0.0</td>\n",
       "      <td>0.5</td>\n",
       "      <td>0.4</td>\n",
       "      <td>0.000000</td>\n",
       "      <td>0.939130</td>\n",
       "      <td>0.000000</td>\n",
       "      <td>0.704842</td>\n",
       "      <td>0.182724</td>\n",
       "      <td>0.106866</td>\n",
       "      <td>0.000811</td>\n",
       "    </tr>\n",
       "  </tbody>\n",
       "</table>\n",
       "<p>21597 rows × 16 columns</p>\n",
       "</div>"
      ],
      "text/plain": [
       "            0         1         2         3    4    5    6    7    8   \\\n",
       "0      0.06250  0.066667  0.061503  0.003108  0.0  0.0  0.0  0.5  0.4   \n",
       "1      0.06250  0.233333  0.167046  0.004072  0.4  0.0  0.0  0.5  0.4   \n",
       "2      0.03125  0.066667  0.030372  0.005743  0.0  0.0  0.0  0.5  0.3   \n",
       "3      0.09375  0.333333  0.120729  0.002714  0.0  0.0  0.0  1.0  0.4   \n",
       "4      0.06250  0.200000  0.099468  0.004579  0.0  0.0  0.0  0.5  0.5   \n",
       "...        ...       ...       ...       ...  ...  ...  ...  ...  ...   \n",
       "21592  0.06250  0.266667  0.088079  0.000370  0.8  0.0  0.0  0.5  0.5   \n",
       "21593  0.09375  0.266667  0.147304  0.003206  0.4  0.0  0.0  0.5  0.5   \n",
       "21594  0.03125  0.033333  0.049355  0.000503  0.4  0.0  0.0  0.5  0.4   \n",
       "21595  0.06250  0.266667  0.093394  0.001132  0.4  0.0  0.0  0.5  0.5   \n",
       "21596  0.03125  0.033333  0.049355  0.000337  0.4  0.0  0.0  0.5  0.4   \n",
       "\n",
       "             9         10        11        12        13        14        15  \n",
       "0      0.000000  0.478261  0.000000  0.571498  0.217608  0.161934  0.005742  \n",
       "1      0.082988  0.443478  0.988089  0.908959  0.166113  0.222165  0.008027  \n",
       "2      0.000000  0.286957  0.000000  0.936143  0.237542  0.399415  0.008513  \n",
       "3      0.188797  0.565217  0.000000  0.586939  0.104651  0.165376  0.004996  \n",
       "4      0.000000  0.756522  0.000000  0.741354  0.393688  0.241094  0.007871  \n",
       "...         ...       ...       ...       ...       ...       ...       ...  \n",
       "21592  0.000000  0.947826  0.000000  0.874055  0.143688  0.194631  0.000986  \n",
       "21593  0.000000  0.991304  0.000000  0.570693  0.130399  0.246257  0.007523  \n",
       "21594  0.000000  0.947826  0.000000  0.705324  0.182724  0.106866  0.001558  \n",
       "21595  0.000000  0.904348  0.000000  0.608975  0.373754  0.173980  0.000731  \n",
       "21596  0.000000  0.939130  0.000000  0.704842  0.182724  0.106866  0.000811  \n",
       "\n",
       "[21597 rows x 16 columns]"
      ]
     },
     "execution_count": 33,
     "metadata": {},
     "output_type": "execute_result"
    }
   ],
   "source": [
    "scaled"
   ]
  },
  {
   "cell_type": "markdown",
   "id": "af05d3fa",
   "metadata": {},
   "source": [
    "### import the chosen model "
   ]
  },
  {
   "cell_type": "code",
   "execution_count": 34,
   "id": "d9ba0f33",
   "metadata": {},
   "outputs": [],
   "source": [
    "#linear regression model"
   ]
  },
  {
   "cell_type": "code",
   "execution_count": 35,
   "id": "3b541d09",
   "metadata": {},
   "outputs": [],
   "source": [
    "from sklearn.linear_model import LinearRegression"
   ]
  },
  {
   "cell_type": "code",
   "execution_count": 36,
   "id": "6a84635b",
   "metadata": {},
   "outputs": [],
   "source": [
    "from sklearn.metrics import mean_squared_error, mean_absolute_error, r2_score\n",
    "import math\n"
   ]
  },
  {
   "cell_type": "code",
   "execution_count": 37,
   "id": "dd937f48",
   "metadata": {},
   "outputs": [],
   "source": [
    "ln = LinearRegression()"
   ]
  },
  {
   "cell_type": "markdown",
   "id": "improving-article",
   "metadata": {},
   "source": [
    "### train test split - select a % test data set and set your random seed "
   ]
  },
  {
   "cell_type": "code",
   "execution_count": 38,
   "id": "southwest-poster",
   "metadata": {},
   "outputs": [],
   "source": [
    "from sklearn.model_selection import train_test_split"
   ]
  },
  {
   "cell_type": "code",
   "execution_count": 39,
   "id": "91e5f9ba",
   "metadata": {},
   "outputs": [],
   "source": [
    "X_train, X_test, y_train, y_test = train_test_split(X_numscaled, y, test_size=0.2, random_state=40)\n"
   ]
  },
  {
   "cell_type": "code",
   "execution_count": null,
   "id": "accurate-moore",
   "metadata": {},
   "outputs": [],
   "source": []
  },
  {
   "cell_type": "markdown",
   "id": "ruled-management",
   "metadata": {},
   "source": [
    "### apply model and train model "
   ]
  },
  {
   "cell_type": "code",
   "execution_count": 40,
   "id": "b82f631f",
   "metadata": {},
   "outputs": [],
   "source": [
    "model = ln.fit(X_train, y_train)"
   ]
  },
  {
   "cell_type": "code",
   "execution_count": 41,
   "id": "36bfd6a0",
   "metadata": {},
   "outputs": [],
   "source": [
    "y_pred = ln.predict(X_test)"
   ]
  },
  {
   "cell_type": "code",
   "execution_count": null,
   "id": "e47151ab",
   "metadata": {},
   "outputs": [],
   "source": []
  },
  {
   "cell_type": "markdown",
   "id": "hydraulic-depth",
   "metadata": {},
   "source": [
    "### evaluate accuracy against test dataset  "
   ]
  },
  {
   "cell_type": "code",
   "execution_count": 42,
   "id": "accomplished-marker",
   "metadata": {},
   "outputs": [
    {
     "data": {
      "text/plain": [
       "0.7030571381406825"
      ]
     },
     "execution_count": 42,
     "metadata": {},
     "output_type": "execute_result"
    }
   ],
   "source": [
    "r2_score(y_test, y_pred)"
   ]
  },
  {
   "cell_type": "code",
   "execution_count": 43,
   "id": "matched-booking",
   "metadata": {},
   "outputs": [
    {
     "data": {
      "text/plain": [
       "123755.5985805711"
      ]
     },
     "execution_count": 43,
     "metadata": {},
     "output_type": "execute_result"
    }
   ],
   "source": [
    "mean_absolute_error(y_test,y_pred)"
   ]
  },
  {
   "cell_type": "code",
   "execution_count": 44,
   "id": "uniform-solid",
   "metadata": {},
   "outputs": [
    {
     "data": {
      "text/plain": [
       "2398      325000\n",
       "14724     295950\n",
       "20980    1270000\n",
       "12156     479900\n",
       "19485     229500\n",
       "          ...   \n",
       "4328      290000\n",
       "3379      783350\n",
       "10909     725000\n",
       "16015     455000\n",
       "3102      283200\n",
       "Name: price, Length: 4320, dtype: int64"
      ]
     },
     "execution_count": 44,
     "metadata": {},
     "output_type": "execute_result"
    }
   ],
   "source": [
    "y_test"
   ]
  },
  {
   "cell_type": "code",
   "execution_count": 45,
   "id": "ba2b1db9",
   "metadata": {},
   "outputs": [
    {
     "data": {
      "text/plain": [
       "array([ 186909.3732149 ,  464910.2667948 , 1314193.42006046, ...,\n",
       "        517317.34990552,  751031.33632688,  402011.2724916 ])"
      ]
     },
     "execution_count": 45,
     "metadata": {},
     "output_type": "execute_result"
    }
   ],
   "source": [
    "y_pred"
   ]
  },
  {
   "cell_type": "code",
   "execution_count": 46,
   "id": "7b9cc162",
   "metadata": {},
   "outputs": [
    {
     "data": {
      "text/plain": [
       "array([ 186909.3732149 ,  464910.2667948 , 1314193.42006046, ...,\n",
       "        517317.34990552,  751031.33632688,  402011.2724916 ])"
      ]
     },
     "execution_count": 46,
     "metadata": {},
     "output_type": "execute_result"
    }
   ],
   "source": [
    "ln.predict([[0.075,]])"
   ]
  },
  {
   "cell_type": "code",
   "execution_count": 47,
   "id": "68c8f3bf",
   "metadata": {},
   "outputs": [
    {
     "data": {
      "text/plain": [
       "array([[0.0625    , 0.06666667, 0.04403948, ..., 0.21096346, 0.12751678,\n",
       "        0.00442135],\n",
       "       [0.03125   , 0.06666667, 0.06226272, ..., 0.1486711 , 0.18430563,\n",
       "        0.00821206],\n",
       "       [0.09375   , 0.33333333, 0.39104024, ..., 0.32392027, 0.58010669,\n",
       "        0.00876114],\n",
       "       ...,\n",
       "       [0.09375   , 0.06666667, 0.09339408, ..., 0.16860465, 0.22732748,\n",
       "        0.00442135],\n",
       "       [0.09375   , 0.26666667, 0.2126044 , ..., 0.21760797, 0.46480812,\n",
       "        0.01373731],\n",
       "       [0.09375   , 0.16666667, 0.11085801, ..., 0.16196013, 0.27895371,\n",
       "        0.0136569 ]])"
      ]
     },
     "execution_count": 47,
     "metadata": {},
     "output_type": "execute_result"
    }
   ],
   "source": [
    "X_test"
   ]
  },
  {
   "cell_type": "markdown",
   "id": "faa370ec",
   "metadata": {},
   "source": [
    "#### next steps\n",
    "\n",
    "+ Consider the accuracy of predictions, especially the Rsquared and MAE (which in this case describes in dollars, how far away from predicting an accurate house price your model is)\n",
    "\n",
    "+ also think about - is there anything I could return to to improve my model accuracy?? "
   ]
  },
  {
   "cell_type": "code",
   "execution_count": null,
   "id": "a82b0878",
   "metadata": {},
   "outputs": [],
   "source": []
  },
  {
   "cell_type": "markdown",
   "id": "7aa7fb60",
   "metadata": {},
   "source": [
    "### Pre processing iteration 2 & 3 and ... \n",
    "\n",
    "It is best to attempt at least two more experimental rounds of pre processing in order to run the models and compare the results. This time, you could be more selective in your features, do more feature engineering or data wrangling, use a different method for imputing nulls/ dealing with outliers, apply a couple of different scaling method to numerical columns to normalise their distribution or convert numerical features to categories in a logical way "
   ]
  },
  {
   "cell_type": "code",
   "execution_count": null,
   "id": "749e230b",
   "metadata": {},
   "outputs": [],
   "source": []
  },
  {
   "cell_type": "code",
   "execution_count": null,
   "id": "57676002",
   "metadata": {},
   "outputs": [],
   "source": []
  },
  {
   "cell_type": "code",
   "execution_count": null,
   "id": "a1032256",
   "metadata": {},
   "outputs": [],
   "source": []
  },
  {
   "cell_type": "code",
   "execution_count": null,
   "id": "5896af40",
   "metadata": {},
   "outputs": [],
   "source": []
  },
  {
   "cell_type": "markdown",
   "id": "c0452e38",
   "metadata": {},
   "source": [
    "### train test split - select a % test data set and set your random seed "
   ]
  },
  {
   "cell_type": "code",
   "execution_count": null,
   "id": "91f8ee22",
   "metadata": {},
   "outputs": [],
   "source": []
  },
  {
   "cell_type": "code",
   "execution_count": null,
   "id": "13be341c",
   "metadata": {},
   "outputs": [],
   "source": []
  },
  {
   "cell_type": "code",
   "execution_count": null,
   "id": "dc476d36",
   "metadata": {},
   "outputs": [],
   "source": []
  },
  {
   "cell_type": "markdown",
   "id": "cb13ee83",
   "metadata": {},
   "source": [
    "### apply model and train model "
   ]
  },
  {
   "cell_type": "code",
   "execution_count": null,
   "id": "1c335eb0",
   "metadata": {},
   "outputs": [],
   "source": []
  },
  {
   "cell_type": "code",
   "execution_count": null,
   "id": "a03aafe5",
   "metadata": {},
   "outputs": [],
   "source": []
  },
  {
   "cell_type": "code",
   "execution_count": null,
   "id": "40f5d915",
   "metadata": {},
   "outputs": [],
   "source": []
  },
  {
   "cell_type": "markdown",
   "id": "739d033e",
   "metadata": {},
   "source": [
    "### evaluate accuracy against test dataset  "
   ]
  },
  {
   "cell_type": "code",
   "execution_count": null,
   "id": "e10c9803",
   "metadata": {},
   "outputs": [],
   "source": []
  },
  {
   "cell_type": "code",
   "execution_count": null,
   "id": "3b9cbba3",
   "metadata": {},
   "outputs": [],
   "source": []
  },
  {
   "cell_type": "code",
   "execution_count": null,
   "id": "25704331",
   "metadata": {},
   "outputs": [],
   "source": []
  },
  {
   "cell_type": "code",
   "execution_count": null,
   "id": "bbe0ae95",
   "metadata": {},
   "outputs": [],
   "source": []
  },
  {
   "cell_type": "markdown",
   "id": "4ab152f1",
   "metadata": {},
   "source": [
    "### Compare, visually or in a summary cell, your regression model metrics for each iteration. \n",
    "\n",
    "+ Which model and techniques combined worked best? "
   ]
  },
  {
   "cell_type": "code",
   "execution_count": null,
   "id": "441a1537",
   "metadata": {},
   "outputs": [],
   "source": []
  },
  {
   "cell_type": "code",
   "execution_count": null,
   "id": "a5fc1927",
   "metadata": {},
   "outputs": [],
   "source": []
  },
  {
   "cell_type": "code",
   "execution_count": null,
   "id": "d9ee719a",
   "metadata": {},
   "outputs": [],
   "source": []
  },
  {
   "cell_type": "code",
   "execution_count": null,
   "id": "264f2864",
   "metadata": {},
   "outputs": [],
   "source": []
  }
 ],
 "metadata": {
  "kernelspec": {
   "display_name": "Python 3",
   "language": "python",
   "name": "python3"
  },
  "language_info": {
   "codemirror_mode": {
    "name": "ipython",
    "version": 3
   },
   "file_extension": ".py",
   "mimetype": "text/x-python",
   "name": "python",
   "nbconvert_exporter": "python",
   "pygments_lexer": "ipython3",
   "version": "3.9.5"
  }
 },
 "nbformat": 4,
 "nbformat_minor": 5
}
