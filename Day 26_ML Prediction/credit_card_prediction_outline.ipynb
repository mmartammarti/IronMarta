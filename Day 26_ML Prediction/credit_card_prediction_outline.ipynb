{
 "cells": [
  {
   "cell_type": "markdown",
   "id": "343fc5f1",
   "metadata": {},
   "source": [
    "this is an outline notebook- sections are suggested steps, but more or less steps can be followed to reach your end goal"
   ]
  },
  {
   "cell_type": "markdown",
   "id": "extensive-candy",
   "metadata": {},
   "source": [
    "# Classification problem - predicting the take up of a credit card offer \n",
    "\n",
    "The bank wants to better understand the demographics and other characteristics of its customers that accept a credit card offer and that do not accept a credit card. You have been challenged to predict whether a customer will or wont accept the offer using a machine learning model. \n",
    "\n",
    "**Our main question is: <br/>**\n",
    "*Will the customer accept the credit card offer? Y/N*\n",
    "\n",
    "\n",
    "The **definition of the features** is the following:\n",
    "- **Customer Number:** A sequential number assigned to the customers (this column is hidden and excluded – this unique identifier will not be used directly).\n",
    "- **Offer Accepted:** Did the customer accept (Yes) or reject (No) the offer. Reward: The type of reward program offered for the card.\n",
    "- **Reward Type:** air miles, cash back or points... what type of credit card rewards the customer takes\n",
    "- **Mailer Type:** Letter or postcard.\n",
    "- **Income Level:** Low, Medium or High.\n",
    "- **#Bank Accounts Open:** How many non-credit-card accounts are held by the customer.\n",
    "- **Overdraft Protection:** Does the customer have overdraft protection on their checking account(s) (Yes or No).\n",
    "- **Credit Rating:** Low, Medium or High.\n",
    "- **#Credit Cards Held:** The number of credit cards held at the bank.\n",
    "- **#Homes Owned:** The number of homes owned by the customer.\n",
    "- **Household Size:** Number of individuals in the family.\n",
    "- **Own Your Home:** Does the customer own their home? (Yes or No).\n",
    "- **Average Balance:** Average account balance (across all accounts over time). Q1, Q2, Q3 and Q4\n",
    "- **Balance:** Average balance for each quarter in the last year\n",
    "\n",
    "\n",
    "Be careful- the data is imbalanced towards customers who say No to the offer. This imbalance would have to be managed with sampling methods. "
   ]
  },
  {
   "cell_type": "markdown",
   "id": "354aebff",
   "metadata": {},
   "source": [
    "## Import Libraries"
   ]
  },
  {
   "cell_type": "code",
   "execution_count": 1,
   "id": "36fa61a4",
   "metadata": {},
   "outputs": [],
   "source": [
    "import pandas as pd\n",
    "import numpy as np\n",
    "import seaborn as sns\n",
    "import matplotlib.pyplot as plt"
   ]
  },
  {
   "cell_type": "code",
   "execution_count": 2,
   "id": "e9aafc3d",
   "metadata": {},
   "outputs": [],
   "source": [
    "df = pd.read_csv('creditcardmarketing.csv')"
   ]
  },
  {
   "cell_type": "code",
   "execution_count": 4,
   "id": "06f1d297",
   "metadata": {},
   "outputs": [
    {
     "data": {
      "text/html": [
       "<div>\n",
       "<style scoped>\n",
       "    .dataframe tbody tr th:only-of-type {\n",
       "        vertical-align: middle;\n",
       "    }\n",
       "\n",
       "    .dataframe tbody tr th {\n",
       "        vertical-align: top;\n",
       "    }\n",
       "\n",
       "    .dataframe thead th {\n",
       "        text-align: right;\n",
       "    }\n",
       "</style>\n",
       "<table border=\"1\" class=\"dataframe\">\n",
       "  <thead>\n",
       "    <tr style=\"text-align: right;\">\n",
       "      <th></th>\n",
       "      <th>Customer_number</th>\n",
       "      <th>Offer_Accepted</th>\n",
       "      <th>Reward_Type</th>\n",
       "      <th>Mailer_Type</th>\n",
       "      <th>Income</th>\n",
       "      <th>No_open_bank_accounts</th>\n",
       "      <th>Overdraft_protection</th>\n",
       "      <th>Credit_rating</th>\n",
       "      <th>No_credit_cards</th>\n",
       "      <th>Homes_owned</th>\n",
       "      <th>Household_size</th>\n",
       "      <th>Own_your_home?</th>\n",
       "      <th>Average_Balance</th>\n",
       "      <th>Q1_balance</th>\n",
       "      <th>Q2_balance</th>\n",
       "      <th>Q3_balance</th>\n",
       "      <th>Q4_balance</th>\n",
       "    </tr>\n",
       "  </thead>\n",
       "  <tbody>\n",
       "    <tr>\n",
       "      <th>0</th>\n",
       "      <td>1</td>\n",
       "      <td>No</td>\n",
       "      <td>Air Miles</td>\n",
       "      <td>Letter</td>\n",
       "      <td>High</td>\n",
       "      <td>1</td>\n",
       "      <td>No</td>\n",
       "      <td>High</td>\n",
       "      <td>2</td>\n",
       "      <td>1</td>\n",
       "      <td>4</td>\n",
       "      <td>No</td>\n",
       "      <td>1160.75</td>\n",
       "      <td>1669.0</td>\n",
       "      <td>877.0</td>\n",
       "      <td>1095.0</td>\n",
       "      <td>1002.0</td>\n",
       "    </tr>\n",
       "    <tr>\n",
       "      <th>1</th>\n",
       "      <td>2</td>\n",
       "      <td>No</td>\n",
       "      <td>Air Miles</td>\n",
       "      <td>Letter</td>\n",
       "      <td>Medium</td>\n",
       "      <td>1</td>\n",
       "      <td>No</td>\n",
       "      <td>Medium</td>\n",
       "      <td>2</td>\n",
       "      <td>2</td>\n",
       "      <td>5</td>\n",
       "      <td>Yes</td>\n",
       "      <td>147.25</td>\n",
       "      <td>39.0</td>\n",
       "      <td>106.0</td>\n",
       "      <td>78.0</td>\n",
       "      <td>366.0</td>\n",
       "    </tr>\n",
       "    <tr>\n",
       "      <th>2</th>\n",
       "      <td>3</td>\n",
       "      <td>No</td>\n",
       "      <td>Air Miles</td>\n",
       "      <td>Postcard</td>\n",
       "      <td>High</td>\n",
       "      <td>2</td>\n",
       "      <td>No</td>\n",
       "      <td>Medium</td>\n",
       "      <td>2</td>\n",
       "      <td>1</td>\n",
       "      <td>2</td>\n",
       "      <td>Yes</td>\n",
       "      <td>276.50</td>\n",
       "      <td>367.0</td>\n",
       "      <td>352.0</td>\n",
       "      <td>145.0</td>\n",
       "      <td>242.0</td>\n",
       "    </tr>\n",
       "    <tr>\n",
       "      <th>3</th>\n",
       "      <td>4</td>\n",
       "      <td>No</td>\n",
       "      <td>Air Miles</td>\n",
       "      <td>Letter</td>\n",
       "      <td>Medium</td>\n",
       "      <td>2</td>\n",
       "      <td>No</td>\n",
       "      <td>High</td>\n",
       "      <td>1</td>\n",
       "      <td>1</td>\n",
       "      <td>4</td>\n",
       "      <td>No</td>\n",
       "      <td>1219.00</td>\n",
       "      <td>1578.0</td>\n",
       "      <td>1760.0</td>\n",
       "      <td>1119.0</td>\n",
       "      <td>419.0</td>\n",
       "    </tr>\n",
       "    <tr>\n",
       "      <th>4</th>\n",
       "      <td>5</td>\n",
       "      <td>No</td>\n",
       "      <td>Air Miles</td>\n",
       "      <td>Letter</td>\n",
       "      <td>Medium</td>\n",
       "      <td>1</td>\n",
       "      <td>No</td>\n",
       "      <td>Medium</td>\n",
       "      <td>2</td>\n",
       "      <td>1</td>\n",
       "      <td>6</td>\n",
       "      <td>Yes</td>\n",
       "      <td>1211.00</td>\n",
       "      <td>2140.0</td>\n",
       "      <td>1357.0</td>\n",
       "      <td>982.0</td>\n",
       "      <td>365.0</td>\n",
       "    </tr>\n",
       "    <tr>\n",
       "      <th>5</th>\n",
       "      <td>6</td>\n",
       "      <td>No</td>\n",
       "      <td>Air Miles</td>\n",
       "      <td>Letter</td>\n",
       "      <td>Medium</td>\n",
       "      <td>1</td>\n",
       "      <td>No</td>\n",
       "      <td>High</td>\n",
       "      <td>3</td>\n",
       "      <td>1</td>\n",
       "      <td>4</td>\n",
       "      <td>No</td>\n",
       "      <td>1114.75</td>\n",
       "      <td>1847.0</td>\n",
       "      <td>1365.0</td>\n",
       "      <td>750.0</td>\n",
       "      <td>497.0</td>\n",
       "    </tr>\n",
       "    <tr>\n",
       "      <th>6</th>\n",
       "      <td>7</td>\n",
       "      <td>No</td>\n",
       "      <td>Air Miles</td>\n",
       "      <td>Letter</td>\n",
       "      <td>Medium</td>\n",
       "      <td>1</td>\n",
       "      <td>No</td>\n",
       "      <td>Medium</td>\n",
       "      <td>2</td>\n",
       "      <td>1</td>\n",
       "      <td>3</td>\n",
       "      <td>No</td>\n",
       "      <td>283.75</td>\n",
       "      <td>468.0</td>\n",
       "      <td>188.0</td>\n",
       "      <td>347.0</td>\n",
       "      <td>132.0</td>\n",
       "    </tr>\n",
       "    <tr>\n",
       "      <th>7</th>\n",
       "      <td>8</td>\n",
       "      <td>No</td>\n",
       "      <td>Cash Back</td>\n",
       "      <td>Postcard</td>\n",
       "      <td>Low</td>\n",
       "      <td>1</td>\n",
       "      <td>No</td>\n",
       "      <td>Medium</td>\n",
       "      <td>4</td>\n",
       "      <td>1</td>\n",
       "      <td>4</td>\n",
       "      <td>Yes</td>\n",
       "      <td>278.50</td>\n",
       "      <td>132.0</td>\n",
       "      <td>391.0</td>\n",
       "      <td>285.0</td>\n",
       "      <td>306.0</td>\n",
       "    </tr>\n",
       "    <tr>\n",
       "      <th>8</th>\n",
       "      <td>9</td>\n",
       "      <td>No</td>\n",
       "      <td>Air Miles</td>\n",
       "      <td>Postcard</td>\n",
       "      <td>Medium</td>\n",
       "      <td>1</td>\n",
       "      <td>No</td>\n",
       "      <td>Low</td>\n",
       "      <td>2</td>\n",
       "      <td>1</td>\n",
       "      <td>4</td>\n",
       "      <td>Yes</td>\n",
       "      <td>1005.00</td>\n",
       "      <td>894.0</td>\n",
       "      <td>891.0</td>\n",
       "      <td>882.0</td>\n",
       "      <td>1353.0</td>\n",
       "    </tr>\n",
       "    <tr>\n",
       "      <th>9</th>\n",
       "      <td>10</td>\n",
       "      <td>No</td>\n",
       "      <td>Air Miles</td>\n",
       "      <td>Letter</td>\n",
       "      <td>High</td>\n",
       "      <td>2</td>\n",
       "      <td>No</td>\n",
       "      <td>Low</td>\n",
       "      <td>3</td>\n",
       "      <td>2</td>\n",
       "      <td>4</td>\n",
       "      <td>Yes</td>\n",
       "      <td>974.25</td>\n",
       "      <td>1814.0</td>\n",
       "      <td>1454.0</td>\n",
       "      <td>514.0</td>\n",
       "      <td>115.0</td>\n",
       "    </tr>\n",
       "  </tbody>\n",
       "</table>\n",
       "</div>"
      ],
      "text/plain": [
       "   Customer_number Offer_Accepted Reward_Type Mailer_Type  Income  \\\n",
       "0                1             No   Air Miles      Letter    High   \n",
       "1                2             No   Air Miles      Letter  Medium   \n",
       "2                3             No   Air Miles    Postcard    High   \n",
       "3                4             No   Air Miles      Letter  Medium   \n",
       "4                5             No   Air Miles      Letter  Medium   \n",
       "5                6             No   Air Miles      Letter  Medium   \n",
       "6                7             No   Air Miles      Letter  Medium   \n",
       "7                8             No   Cash Back    Postcard     Low   \n",
       "8                9             No   Air Miles    Postcard  Medium   \n",
       "9               10             No   Air Miles      Letter    High   \n",
       "\n",
       "   No_open_bank_accounts Overdraft_protection Credit_rating  No_credit_cards  \\\n",
       "0                      1                   No          High                2   \n",
       "1                      1                   No        Medium                2   \n",
       "2                      2                   No        Medium                2   \n",
       "3                      2                   No          High                1   \n",
       "4                      1                   No        Medium                2   \n",
       "5                      1                   No          High                3   \n",
       "6                      1                   No        Medium                2   \n",
       "7                      1                   No        Medium                4   \n",
       "8                      1                   No           Low                2   \n",
       "9                      2                   No           Low                3   \n",
       "\n",
       "   Homes_owned  Household_size Own_your_home?  Average_Balance  Q1_balance  \\\n",
       "0            1               4             No          1160.75      1669.0   \n",
       "1            2               5            Yes           147.25        39.0   \n",
       "2            1               2            Yes           276.50       367.0   \n",
       "3            1               4             No          1219.00      1578.0   \n",
       "4            1               6            Yes          1211.00      2140.0   \n",
       "5            1               4             No          1114.75      1847.0   \n",
       "6            1               3             No           283.75       468.0   \n",
       "7            1               4            Yes           278.50       132.0   \n",
       "8            1               4            Yes          1005.00       894.0   \n",
       "9            2               4            Yes           974.25      1814.0   \n",
       "\n",
       "   Q2_balance  Q3_balance  Q4_balance  \n",
       "0       877.0      1095.0      1002.0  \n",
       "1       106.0        78.0       366.0  \n",
       "2       352.0       145.0       242.0  \n",
       "3      1760.0      1119.0       419.0  \n",
       "4      1357.0       982.0       365.0  \n",
       "5      1365.0       750.0       497.0  \n",
       "6       188.0       347.0       132.0  \n",
       "7       391.0       285.0       306.0  \n",
       "8       891.0       882.0      1353.0  \n",
       "9      1454.0       514.0       115.0  "
      ]
     },
     "execution_count": 4,
     "metadata": {},
     "output_type": "execute_result"
    }
   ],
   "source": [
    "df.head(10)"
   ]
  },
  {
   "cell_type": "markdown",
   "id": "3dbb7a59",
   "metadata": {},
   "source": [
    "## Read data as a pandas data frame, preview top 10 rows"
   ]
  },
  {
   "cell_type": "code",
   "execution_count": null,
   "id": "d138725d",
   "metadata": {},
   "outputs": [],
   "source": []
  },
  {
   "cell_type": "code",
   "execution_count": null,
   "id": "aaa3093e",
   "metadata": {},
   "outputs": [],
   "source": []
  },
  {
   "cell_type": "code",
   "execution_count": null,
   "id": "c88e329b",
   "metadata": {},
   "outputs": [],
   "source": []
  },
  {
   "cell_type": "code",
   "execution_count": null,
   "id": "2374cbe1",
   "metadata": {},
   "outputs": [],
   "source": []
  },
  {
   "cell_type": "markdown",
   "id": "suffering-clarity",
   "metadata": {},
   "source": [
    "# Exploratory Data Analysis"
   ]
  },
  {
   "cell_type": "markdown",
   "id": "english-mediterranean",
   "metadata": {},
   "source": [
    "In this part we want to familirize ourselves with the data set. We are going to look at the following steps:\n",
    "- assess dataframe \n",
    "- shape, dtypes, summary statistics\n",
    "- null values, white spaces, duplicates, (amount)unique values per col /unique(written same), mislabeled classes (male ≠ Male), typos/inconsistent capitalisation, irrelevant columns\n",
    "- missing data\n",
    "- outliers "
   ]
  },
  {
   "cell_type": "code",
   "execution_count": null,
   "id": "35f0c674",
   "metadata": {},
   "outputs": [],
   "source": []
  },
  {
   "cell_type": "code",
   "execution_count": null,
   "id": "5de830d2",
   "metadata": {},
   "outputs": [],
   "source": []
  },
  {
   "cell_type": "code",
   "execution_count": null,
   "id": "e19d1224",
   "metadata": {},
   "outputs": [],
   "source": []
  },
  {
   "cell_type": "code",
   "execution_count": null,
   "id": "fe4a8bf9",
   "metadata": {},
   "outputs": [],
   "source": []
  },
  {
   "cell_type": "code",
   "execution_count": null,
   "id": "aaec8360",
   "metadata": {},
   "outputs": [],
   "source": []
  },
  {
   "cell_type": "code",
   "execution_count": null,
   "id": "c7396872",
   "metadata": {},
   "outputs": [],
   "source": []
  },
  {
   "cell_type": "markdown",
   "id": "popular-diploma",
   "metadata": {},
   "source": [
    "## Visualisations"
   ]
  },
  {
   "cell_type": "markdown",
   "id": "united-protest",
   "metadata": {},
   "source": [
    "We want to visualise the relationships between between the different features in the data."
   ]
  },
  {
   "cell_type": "code",
   "execution_count": null,
   "id": "sapphire-worse",
   "metadata": {},
   "outputs": [],
   "source": [
    "# how many accepted the offer vs who didn't\n"
   ]
  },
  {
   "cell_type": "code",
   "execution_count": null,
   "id": "digital-garlic",
   "metadata": {},
   "outputs": [],
   "source": [
    "# what's the avg balance of customers who accepted the offer vs who didn't\n"
   ]
  },
  {
   "cell_type": "code",
   "execution_count": null,
   "id": "threaded-weapon",
   "metadata": {},
   "outputs": [],
   "source": [
    "# how do the different income levels of who accepted the offer compare with those who didn't\n"
   ]
  },
  {
   "cell_type": "code",
   "execution_count": null,
   "id": "written-classics",
   "metadata": {},
   "outputs": [],
   "source": [
    "# how does yes/no look with the number of homes owned\n"
   ]
  },
  {
   "cell_type": "markdown",
   "id": "broad-rwanda",
   "metadata": {},
   "source": [
    "Let's see the relationship between the quarters and offer accepted."
   ]
  },
  {
   "cell_type": "code",
   "execution_count": null,
   "id": "agreed-spoke",
   "metadata": {},
   "outputs": [],
   "source": [
    "# what's the q1 balance of customers who accepted the offer vs who didn't\n"
   ]
  },
  {
   "cell_type": "code",
   "execution_count": null,
   "id": "christian-convention",
   "metadata": {},
   "outputs": [],
   "source": [
    "# what's the q2 balance of customers who accepted the offer vs who didn't\n"
   ]
  },
  {
   "cell_type": "code",
   "execution_count": null,
   "id": "automatic-bones",
   "metadata": {},
   "outputs": [],
   "source": [
    "# what's the q3 balance of customers who accepted the offer vs who didn't\n"
   ]
  },
  {
   "cell_type": "code",
   "execution_count": null,
   "id": "golden-decade",
   "metadata": {},
   "outputs": [],
   "source": [
    "# what's the q4 balance of customers who accepted the offer vs who didn't\n"
   ]
  },
  {
   "cell_type": "markdown",
   "id": "destroyed-corrections",
   "metadata": {},
   "source": [
    "\n",
    "# Cleaning & Wrangling"
   ]
  },
  {
   "cell_type": "markdown",
   "id": "registered-romantic",
   "metadata": {},
   "source": [
    "**Tasks**\n",
    "- drop 'customer_number' column\n",
    "- drop null values\n",
    "- convert float columns to int"
   ]
  },
  {
   "cell_type": "code",
   "execution_count": null,
   "id": "induced-wealth",
   "metadata": {},
   "outputs": [],
   "source": [
    "# before cleaning, create a copy of the dataframe\n"
   ]
  },
  {
   "cell_type": "code",
   "execution_count": null,
   "id": "turkish-bailey",
   "metadata": {},
   "outputs": [],
   "source": [
    "# drop customer_number column\n"
   ]
  },
  {
   "cell_type": "code",
   "execution_count": null,
   "id": "young-sarah",
   "metadata": {},
   "outputs": [],
   "source": [
    "# drop rows with missing values\n"
   ]
  },
  {
   "cell_type": "code",
   "execution_count": null,
   "id": "detected-label",
   "metadata": {},
   "outputs": [],
   "source": [
    "# converting columns from float to int\n"
   ]
  },
  {
   "cell_type": "code",
   "execution_count": null,
   "id": "5036989e",
   "metadata": {},
   "outputs": [],
   "source": [
    "# test using info()"
   ]
  },
  {
   "cell_type": "markdown",
   "id": "informal-necessity",
   "metadata": {},
   "source": [
    "\n",
    "# Preprocessing"
   ]
  },
  {
   "cell_type": "markdown",
   "id": "sharing-binding",
   "metadata": {},
   "source": [
    "**Tasks:**\n",
    "- num vs cat data (split)\n",
    "- multicollinearity\n",
    "- imbalance\n",
    "- distribution plots (normalising, scaling, outlier detection)\n",
    "- normalizer\n",
    "- encoding into dummies"
   ]
  },
  {
   "cell_type": "code",
   "execution_count": null,
   "id": "israeli-reception",
   "metadata": {},
   "outputs": [],
   "source": [
    "# split numerical and categorical data into two dataframes\n"
   ]
  },
  {
   "cell_type": "code",
   "execution_count": null,
   "id": "molecular-camera",
   "metadata": {},
   "outputs": [],
   "source": []
  },
  {
   "cell_type": "code",
   "execution_count": null,
   "id": "induced-orchestra",
   "metadata": {},
   "outputs": [],
   "source": [
    "#correlation matrix for numerical columns -any highly correlated pairs we should drop ? \n"
   ]
  },
  {
   "cell_type": "code",
   "execution_count": null,
   "id": "chief-biodiversity",
   "metadata": {},
   "outputs": [],
   "source": [
    "#scaling numerical columns with normalizer if needed \n"
   ]
  },
  {
   "cell_type": "code",
   "execution_count": null,
   "id": "98889c7e",
   "metadata": {},
   "outputs": [],
   "source": []
  },
  {
   "cell_type": "code",
   "execution_count": null,
   "id": "cf214a87",
   "metadata": {},
   "outputs": [],
   "source": []
  },
  {
   "cell_type": "code",
   "execution_count": null,
   "id": "interim-credits",
   "metadata": {},
   "outputs": [],
   "source": [
    "#encoding categorical features if needed \n"
   ]
  },
  {
   "cell_type": "code",
   "execution_count": null,
   "id": "7e387c7c",
   "metadata": {},
   "outputs": [],
   "source": []
  },
  {
   "cell_type": "code",
   "execution_count": null,
   "id": "bfb2ce03",
   "metadata": {},
   "outputs": [],
   "source": []
  },
  {
   "cell_type": "markdown",
   "id": "f2acdd27",
   "metadata": {},
   "source": [
    "# split off the dependant class (label)\n"
   ]
  },
  {
   "cell_type": "code",
   "execution_count": null,
   "id": "e95063ff",
   "metadata": {},
   "outputs": [],
   "source": [
    "# drop target class from X "
   ]
  },
  {
   "cell_type": "code",
   "execution_count": null,
   "id": "amateur-colors",
   "metadata": {},
   "outputs": [],
   "source": [
    "# define the target y\n"
   ]
  },
  {
   "cell_type": "code",
   "execution_count": null,
   "id": "worse-confidentiality",
   "metadata": {},
   "outputs": [],
   "source": [
    "#checking the len of x_normalized & cat_clean before merging back together in X\n"
   ]
  },
  {
   "cell_type": "code",
   "execution_count": null,
   "id": "bizarre-astrology",
   "metadata": {},
   "outputs": [],
   "source": [
    "# bring the numerical data (scaled)in with the categorical using concat\n"
   ]
  },
  {
   "cell_type": "markdown",
   "id": "touched-courtesy",
   "metadata": {},
   "source": [
    "\n",
    "# Modelling"
   ]
  },
  {
   "cell_type": "markdown",
   "id": "classified-circumstances",
   "metadata": {},
   "source": [
    "**- iteration 1 (X)**\n",
    "\n",
    "In our first iteration we only used preprocessing and encoding, we use this as a benchmark for the next iterations to compare to.\n",
    "\n",
    "**- iteration 2 (X_i2)**\n",
    "\n",
    "SMOTE sampling to improve the imbalance of the target\n",
    "drop some selected columns \n",
    "\n",
    "**- iteration 3 (X_i3)**\n",
    "\n",
    "example - dropping quarterly balance columns to reduce noise, encode numerical features to categories as appropriate \n",
    "implementing KNN or decision tree\n",
    "\n"
   ]
  },
  {
   "cell_type": "markdown",
   "id": "boring-mission",
   "metadata": {},
   "source": [
    "## Modeling (X)"
   ]
  },
  {
   "cell_type": "code",
   "execution_count": null,
   "id": "muslim-collection",
   "metadata": {},
   "outputs": [],
   "source": [
    "#import model\n"
   ]
  },
  {
   "cell_type": "markdown",
   "id": "shaped-fight",
   "metadata": {},
   "source": [
    "### Test & Train"
   ]
  },
  {
   "cell_type": "code",
   "execution_count": null,
   "id": "light-qualification",
   "metadata": {},
   "outputs": [],
   "source": [
    "#train test split - splitting X and y each into 2 data sets(train data and test data)\n"
   ]
  },
  {
   "cell_type": "code",
   "execution_count": null,
   "id": "waiting-adult",
   "metadata": {},
   "outputs": [],
   "source": [
    "#model development\n",
    "#create a Logistic Regression classifier (classification) object using LogisticRegression() function\n",
    "#fit model on the train set using fit()\n",
    "\n"
   ]
  },
  {
   "cell_type": "code",
   "execution_count": null,
   "id": "abroad-healing",
   "metadata": {},
   "outputs": [],
   "source": [
    "#perform prediction on the test set using predict()\n"
   ]
  },
  {
   "cell_type": "code",
   "execution_count": null,
   "id": "surprising-continuity",
   "metadata": {},
   "outputs": [],
   "source": [
    "#check the predictions array\n"
   ]
  },
  {
   "cell_type": "markdown",
   "id": "understood-davis",
   "metadata": {},
   "source": [
    "### Accuracy metrics and visuals"
   ]
  },
  {
   "cell_type": "code",
   "execution_count": null,
   "id": "parallel-vitamin",
   "metadata": {},
   "outputs": [],
   "source": [
    "#calculating the accuracy score\n"
   ]
  },
  {
   "cell_type": "markdown",
   "id": "collectible-delaware",
   "metadata": {},
   "source": [
    "#### Confusion matrix"
   ]
  },
  {
   "cell_type": "code",
   "execution_count": null,
   "id": "decent-chile",
   "metadata": {},
   "outputs": [],
   "source": [
    "\n"
   ]
  },
  {
   "cell_type": "code",
   "execution_count": null,
   "id": "8c53d2d2",
   "metadata": {},
   "outputs": [],
   "source": []
  },
  {
   "cell_type": "code",
   "execution_count": null,
   "id": "ab830fbc",
   "metadata": {},
   "outputs": [],
   "source": []
  },
  {
   "cell_type": "code",
   "execution_count": null,
   "id": "68f3ba06",
   "metadata": {},
   "outputs": [],
   "source": []
  },
  {
   "cell_type": "markdown",
   "id": "atomic-smooth",
   "metadata": {},
   "source": [
    "#### ROC/AUC"
   ]
  },
  {
   "cell_type": "code",
   "execution_count": null,
   "id": "subsequent-identification",
   "metadata": {
    "scrolled": true
   },
   "outputs": [],
   "source": []
  },
  {
   "cell_type": "code",
   "execution_count": null,
   "id": "a65fe69b",
   "metadata": {},
   "outputs": [],
   "source": []
  },
  {
   "cell_type": "markdown",
   "id": "suspended-cathedral",
   "metadata": {},
   "source": [
    "**ROC Curve**\n",
    "Receiver Operating Characteristic(ROC) curve is a plot of the true positive rate against the false positive rate. It shows the tradeoff between sensitivity and specificity.\n",
    "\n",
    "- the closer to left hand corner the better\n",
    "- should not be below 0.5 (random) 'red' line\n",
    "\n",
    "**AUC** - area under the curve the bigger the area under the curve the better the model\n",
    "1 represents perfect classifier, and 0.5 represents a worthless classifier.<br/>\n",
    "\n"
   ]
  },
  {
   "cell_type": "markdown",
   "id": "signal-million",
   "metadata": {},
   "source": [
    "## Modeling (X_i2)"
   ]
  },
  {
   "cell_type": "code",
   "execution_count": null,
   "id": "280dd2be",
   "metadata": {},
   "outputs": [],
   "source": [
    "#drop selected columns \n",
    "\n"
   ]
  },
  {
   "cell_type": "code",
   "execution_count": null,
   "id": "ceramic-sewing",
   "metadata": {},
   "outputs": [],
   "source": [
    "# import needed libraries\n"
   ]
  },
  {
   "cell_type": "code",
   "execution_count": null,
   "id": "necessary-dragon",
   "metadata": {},
   "outputs": [],
   "source": [
    "#define smote variable\n"
   ]
  },
  {
   "cell_type": "code",
   "execution_count": null,
   "id": "designing-library",
   "metadata": {},
   "outputs": [],
   "source": [
    "#recreate X and y applying smote\n"
   ]
  },
  {
   "cell_type": "markdown",
   "id": "latter-petite",
   "metadata": {},
   "source": [
    "### Test & Train"
   ]
  },
  {
   "cell_type": "code",
   "execution_count": null,
   "id": "amended-manual",
   "metadata": {},
   "outputs": [],
   "source": [
    "#redo train test split it2\n"
   ]
  },
  {
   "cell_type": "code",
   "execution_count": null,
   "id": "instrumental-player",
   "metadata": {},
   "outputs": [],
   "source": [
    "#apply model it2 \n"
   ]
  },
  {
   "cell_type": "markdown",
   "id": "informative-harrison",
   "metadata": {},
   "source": [
    "### Accuracy metrics and visuals"
   ]
  },
  {
   "cell_type": "code",
   "execution_count": null,
   "id": "a039a6b9",
   "metadata": {},
   "outputs": [],
   "source": []
  },
  {
   "cell_type": "code",
   "execution_count": null,
   "id": "3c7249b8",
   "metadata": {},
   "outputs": [],
   "source": []
  },
  {
   "cell_type": "markdown",
   "id": "sorted-ghost",
   "metadata": {},
   "source": [
    "#### Confusion matrix"
   ]
  },
  {
   "cell_type": "code",
   "execution_count": null,
   "id": "2d0f5e64",
   "metadata": {},
   "outputs": [],
   "source": []
  },
  {
   "cell_type": "code",
   "execution_count": null,
   "id": "e054d21f",
   "metadata": {},
   "outputs": [],
   "source": []
  },
  {
   "cell_type": "code",
   "execution_count": null,
   "id": "b1f6b805",
   "metadata": {},
   "outputs": [],
   "source": []
  },
  {
   "cell_type": "markdown",
   "id": "cross-imaging",
   "metadata": {},
   "source": [
    "#### ROC"
   ]
  },
  {
   "cell_type": "code",
   "execution_count": null,
   "id": "c8fd5e60",
   "metadata": {},
   "outputs": [],
   "source": []
  },
  {
   "cell_type": "code",
   "execution_count": null,
   "id": "0bacddf7",
   "metadata": {},
   "outputs": [],
   "source": []
  },
  {
   "cell_type": "code",
   "execution_count": null,
   "id": "fb72d7c3",
   "metadata": {},
   "outputs": [],
   "source": []
  },
  {
   "cell_type": "markdown",
   "id": "brave-terminology",
   "metadata": {},
   "source": [
    "**Comparision accuracy and recall it1 and it2**\n",
    "\n",
    "accuracy it1 = \n",
    "accuracy it2 = \n",
    "\n"
   ]
  },
  {
   "cell_type": "markdown",
   "id": "recorded-specific",
   "metadata": {},
   "source": [
    "## Modeling (X_i3)"
   ]
  },
  {
   "cell_type": "code",
   "execution_count": null,
   "id": "growing-calcium",
   "metadata": {},
   "outputs": [],
   "source": []
  },
  {
   "cell_type": "code",
   "execution_count": null,
   "id": "confidential-habitat",
   "metadata": {},
   "outputs": [],
   "source": []
  },
  {
   "cell_type": "code",
   "execution_count": null,
   "id": "ca5cbde8",
   "metadata": {},
   "outputs": [],
   "source": []
  },
  {
   "cell_type": "code",
   "execution_count": null,
   "id": "3b82f076",
   "metadata": {},
   "outputs": [],
   "source": []
  },
  {
   "cell_type": "code",
   "execution_count": null,
   "id": "bb10a85d",
   "metadata": {},
   "outputs": [],
   "source": []
  },
  {
   "cell_type": "markdown",
   "id": "625bbd55",
   "metadata": {},
   "source": [
    "### Test and Train "
   ]
  },
  {
   "cell_type": "code",
   "execution_count": null,
   "id": "different-sodium",
   "metadata": {},
   "outputs": [],
   "source": []
  },
  {
   "cell_type": "code",
   "execution_count": null,
   "id": "3f80a857",
   "metadata": {},
   "outputs": [],
   "source": []
  },
  {
   "cell_type": "code",
   "execution_count": null,
   "id": "6e3f81dd",
   "metadata": {},
   "outputs": [],
   "source": []
  },
  {
   "cell_type": "markdown",
   "id": "pressing-premiere",
   "metadata": {},
   "source": [
    "### Accuracy metrics and visuals"
   ]
  },
  {
   "cell_type": "code",
   "execution_count": null,
   "id": "a0a37deb",
   "metadata": {},
   "outputs": [],
   "source": []
  },
  {
   "cell_type": "code",
   "execution_count": null,
   "id": "acba67af",
   "metadata": {},
   "outputs": [],
   "source": []
  },
  {
   "cell_type": "code",
   "execution_count": null,
   "id": "b96687f2",
   "metadata": {},
   "outputs": [],
   "source": []
  },
  {
   "cell_type": "markdown",
   "id": "pursuant-lecture",
   "metadata": {},
   "source": [
    "#### Confusion matrix"
   ]
  },
  {
   "cell_type": "code",
   "execution_count": null,
   "id": "paperback-contract",
   "metadata": {},
   "outputs": [],
   "source": []
  },
  {
   "cell_type": "code",
   "execution_count": null,
   "id": "significant-excellence",
   "metadata": {},
   "outputs": [],
   "source": []
  },
  {
   "cell_type": "markdown",
   "id": "suburban-difference",
   "metadata": {},
   "source": [
    "**Comparision confusion matrix it1, it2, it3\n",
    "\n",
    "\n"
   ]
  },
  {
   "cell_type": "markdown",
   "id": "random-bacon",
   "metadata": {},
   "source": [
    "#### ROC"
   ]
  },
  {
   "cell_type": "code",
   "execution_count": null,
   "id": "employed-rouge",
   "metadata": {},
   "outputs": [],
   "source": []
  },
  {
   "cell_type": "markdown",
   "id": "pointed-internship",
   "metadata": {},
   "source": [
    "**Comparision ROC & AUC it1, it2 and it3 \n",
    "\n"
   ]
  },
  {
   "cell_type": "markdown",
   "id": "collect-sessions",
   "metadata": {},
   "source": [
    "# Findings and Conclusion\n",
    "\n",
    "\n"
   ]
  },
  {
   "cell_type": "code",
   "execution_count": null,
   "id": "bearing-direction",
   "metadata": {},
   "outputs": [],
   "source": [
    "\n",
    "\n",
    "\n"
   ]
  }
 ],
 "metadata": {
  "kernelspec": {
   "display_name": "Python 3",
   "language": "python",
   "name": "python3"
  },
  "language_info": {
   "codemirror_mode": {
    "name": "ipython",
    "version": 3
   },
   "file_extension": ".py",
   "mimetype": "text/x-python",
   "name": "python",
   "nbconvert_exporter": "python",
   "pygments_lexer": "ipython3",
   "version": "3.9.5"
  },
  "toc": {
   "base_numbering": 1,
   "nav_menu": {},
   "number_sections": true,
   "sideBar": true,
   "skip_h1_title": false,
   "title_cell": "Table of Contents",
   "title_sidebar": "Contents",
   "toc_cell": false,
   "toc_position": {},
   "toc_section_display": true,
   "toc_window_display": false
  },
  "varInspector": {
   "cols": {
    "lenName": 16,
    "lenType": 16,
    "lenVar": 40
   },
   "kernels_config": {
    "python": {
     "delete_cmd_postfix": "",
     "delete_cmd_prefix": "del ",
     "library": "var_list.py",
     "varRefreshCmd": "print(var_dic_list())"
    },
    "r": {
     "delete_cmd_postfix": ") ",
     "delete_cmd_prefix": "rm(",
     "library": "var_list.r",
     "varRefreshCmd": "cat(var_dic_list()) "
    }
   },
   "types_to_exclude": [
    "module",
    "function",
    "builtin_function_or_method",
    "instance",
    "_Feature"
   ],
   "window_display": false
  }
 },
 "nbformat": 4,
 "nbformat_minor": 5
}
