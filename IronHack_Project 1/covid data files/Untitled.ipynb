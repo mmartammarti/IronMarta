{
 "cells": [
  {
   "cell_type": "code",
   "execution_count": 1,
   "id": "78940b84",
   "metadata": {},
   "outputs": [],
   "source": [
    "import pandas as pd\n",
    "import numpy as np"
   ]
  },
  {
   "cell_type": "code",
   "execution_count": 2,
   "id": "a7998584",
   "metadata": {},
   "outputs": [],
   "source": [
    "discharges=pd.read_csv('ccaa_covid19_altas_long.csv')"
   ]
  },
  {
   "cell_type": "code",
   "execution_count": 3,
   "id": "6bc188de",
   "metadata": {},
   "outputs": [],
   "source": [
    "cases=pd.read_csv('ccaa_covid19_casos_long.csv')"
   ]
  },
  {
   "cell_type": "code",
   "execution_count": 4,
   "id": "e8fc7424",
   "metadata": {},
   "outputs": [],
   "source": [
    "deaths=pd.read_csv('ccaa_covid19_fallecidos_long.csv')"
   ]
  },
  {
   "cell_type": "code",
   "execution_count": 5,
   "id": "f64e46d9",
   "metadata": {},
   "outputs": [],
   "source": [
    "hospitalized=pd.read_csv('ccaa_covid19_hospitalizados_long.csv')"
   ]
  },
  {
   "cell_type": "code",
   "execution_count": 6,
   "id": "3fe1e406",
   "metadata": {},
   "outputs": [],
   "source": [
    "ICU=pd.read_csv('ccaa_covid19_uci_long.csv')"
   ]
  },
  {
   "cell_type": "code",
   "execution_count": 7,
   "id": "f30b85cb",
   "metadata": {},
   "outputs": [],
   "source": [
    "masks=pd.read_csv('ccaa_covid19_mascarillas.csv')"
   ]
  },
  {
   "cell_type": "code",
   "execution_count": 8,
   "id": "0c450ed9",
   "metadata": {},
   "outputs": [],
   "source": [
    "ICU_beds_2017=pd.read_csv('ccaa_camas_uci_2017.csv')"
   ]
  },
  {
   "cell_type": "code",
   "execution_count": 9,
   "id": "753eccd4",
   "metadata": {},
   "outputs": [],
   "source": [
    "national_covid19=pd.read_csv('nacional_covid19.csv')"
   ]
  },
  {
   "cell_type": "code",
   "execution_count": 10,
   "id": "f60221f5",
   "metadata": {},
   "outputs": [],
   "source": [
    "national_age_gender=pd.read_csv('nacional_covid19_rango_edad.csv')"
   ]
  },
  {
   "cell_type": "code",
   "execution_count": 11,
   "id": "0bbbdca4",
   "metadata": {},
   "outputs": [
    {
     "data": {
      "text/html": [
       "<div>\n",
       "<style scoped>\n",
       "    .dataframe tbody tr th:only-of-type {\n",
       "        vertical-align: middle;\n",
       "    }\n",
       "\n",
       "    .dataframe tbody tr th {\n",
       "        vertical-align: top;\n",
       "    }\n",
       "\n",
       "    .dataframe thead th {\n",
       "        text-align: right;\n",
       "    }\n",
       "</style>\n",
       "<table border=\"1\" class=\"dataframe\">\n",
       "  <thead>\n",
       "    <tr style=\"text-align: right;\">\n",
       "      <th></th>\n",
       "      <th>fecha</th>\n",
       "      <th>cod_ine</th>\n",
       "      <th>CCAA</th>\n",
       "      <th>total</th>\n",
       "    </tr>\n",
       "  </thead>\n",
       "  <tbody>\n",
       "    <tr>\n",
       "      <th>0</th>\n",
       "      <td>2020-03-01</td>\n",
       "      <td>1</td>\n",
       "      <td>Andalucía</td>\n",
       "      <td>NaN</td>\n",
       "    </tr>\n",
       "    <tr>\n",
       "      <th>1</th>\n",
       "      <td>2020-03-09</td>\n",
       "      <td>1</td>\n",
       "      <td>Andalucía</td>\n",
       "      <td>11.0</td>\n",
       "    </tr>\n",
       "    <tr>\n",
       "      <th>2</th>\n",
       "      <td>2020-03-10</td>\n",
       "      <td>1</td>\n",
       "      <td>Andalucía</td>\n",
       "      <td>11.0</td>\n",
       "    </tr>\n",
       "    <tr>\n",
       "      <th>3</th>\n",
       "      <td>2020-03-11</td>\n",
       "      <td>1</td>\n",
       "      <td>Andalucía</td>\n",
       "      <td>11.0</td>\n",
       "    </tr>\n",
       "    <tr>\n",
       "      <th>4</th>\n",
       "      <td>2020-03-12</td>\n",
       "      <td>1</td>\n",
       "      <td>Andalucía</td>\n",
       "      <td>11.0</td>\n",
       "    </tr>\n",
       "  </tbody>\n",
       "</table>\n",
       "</div>"
      ],
      "text/plain": [
       "        fecha  cod_ine       CCAA  total\n",
       "0  2020-03-01        1  Andalucía    NaN\n",
       "1  2020-03-09        1  Andalucía   11.0\n",
       "2  2020-03-10        1  Andalucía   11.0\n",
       "3  2020-03-11        1  Andalucía   11.0\n",
       "4  2020-03-12        1  Andalucía   11.0"
      ]
     },
     "execution_count": 11,
     "metadata": {},
     "output_type": "execute_result"
    }
   ],
   "source": [
    "discharges.head()"
   ]
  },
  {
   "cell_type": "code",
   "execution_count": 12,
   "id": "be99462e",
   "metadata": {},
   "outputs": [
    {
     "name": "stdout",
     "output_type": "stream",
     "text": [
      "<class 'pandas.core.frame.DataFrame'>\n",
      "RangeIndex: 1368 entries, 0 to 1367\n",
      "Data columns (total 4 columns):\n",
      " #   Column   Non-Null Count  Dtype  \n",
      "---  ------   --------------  -----  \n",
      " 0   fecha    1368 non-null   object \n",
      " 1   cod_ine  1368 non-null   int64  \n",
      " 2   CCAA     1368 non-null   object \n",
      " 3   total    1344 non-null   float64\n",
      "dtypes: float64(1), int64(1), object(2)\n",
      "memory usage: 42.9+ KB\n"
     ]
    }
   ],
   "source": [
    "discharges.info()"
   ]
  },
  {
   "cell_type": "code",
   "execution_count": 13,
   "id": "f90b9358",
   "metadata": {},
   "outputs": [
    {
     "data": {
      "text/html": [
       "<div>\n",
       "<style scoped>\n",
       "    .dataframe tbody tr th:only-of-type {\n",
       "        vertical-align: middle;\n",
       "    }\n",
       "\n",
       "    .dataframe tbody tr th {\n",
       "        vertical-align: top;\n",
       "    }\n",
       "\n",
       "    .dataframe thead th {\n",
       "        text-align: right;\n",
       "    }\n",
       "</style>\n",
       "<table border=\"1\" class=\"dataframe\">\n",
       "  <thead>\n",
       "    <tr style=\"text-align: right;\">\n",
       "      <th></th>\n",
       "      <th>fecha</th>\n",
       "      <th>cod_ine</th>\n",
       "      <th>CCAA</th>\n",
       "      <th>total</th>\n",
       "    </tr>\n",
       "  </thead>\n",
       "  <tbody>\n",
       "    <tr>\n",
       "      <th>0</th>\n",
       "      <td>2020-02-21</td>\n",
       "      <td>1</td>\n",
       "      <td>Andalucía</td>\n",
       "      <td>0</td>\n",
       "    </tr>\n",
       "    <tr>\n",
       "      <th>1</th>\n",
       "      <td>2020-02-22</td>\n",
       "      <td>1</td>\n",
       "      <td>Andalucía</td>\n",
       "      <td>0</td>\n",
       "    </tr>\n",
       "    <tr>\n",
       "      <th>2</th>\n",
       "      <td>2020-02-23</td>\n",
       "      <td>1</td>\n",
       "      <td>Andalucía</td>\n",
       "      <td>0</td>\n",
       "    </tr>\n",
       "    <tr>\n",
       "      <th>3</th>\n",
       "      <td>2020-02-24</td>\n",
       "      <td>1</td>\n",
       "      <td>Andalucía</td>\n",
       "      <td>0</td>\n",
       "    </tr>\n",
       "    <tr>\n",
       "      <th>4</th>\n",
       "      <td>2020-02-25</td>\n",
       "      <td>1</td>\n",
       "      <td>Andalucía</td>\n",
       "      <td>0</td>\n",
       "    </tr>\n",
       "  </tbody>\n",
       "</table>\n",
       "</div>"
      ],
      "text/plain": [
       "        fecha  cod_ine       CCAA  total\n",
       "0  2020-02-21        1  Andalucía      0\n",
       "1  2020-02-22        1  Andalucía      0\n",
       "2  2020-02-23        1  Andalucía      0\n",
       "3  2020-02-24        1  Andalucía      0\n",
       "4  2020-02-25        1  Andalucía      0"
      ]
     },
     "execution_count": 13,
     "metadata": {},
     "output_type": "execute_result"
    }
   ],
   "source": [
    "cases.head()"
   ]
  },
  {
   "cell_type": "code",
   "execution_count": 14,
   "id": "618a8a47",
   "metadata": {},
   "outputs": [
    {
     "name": "stdout",
     "output_type": "stream",
     "text": [
      "<class 'pandas.core.frame.DataFrame'>\n",
      "RangeIndex: 1729 entries, 0 to 1728\n",
      "Data columns (total 4 columns):\n",
      " #   Column   Non-Null Count  Dtype \n",
      "---  ------   --------------  ----- \n",
      " 0   fecha    1729 non-null   object\n",
      " 1   cod_ine  1729 non-null   int64 \n",
      " 2   CCAA     1729 non-null   object\n",
      " 3   total    1729 non-null   int64 \n",
      "dtypes: int64(2), object(2)\n",
      "memory usage: 54.2+ KB\n"
     ]
    }
   ],
   "source": [
    "cases.info()"
   ]
  },
  {
   "cell_type": "code",
   "execution_count": 15,
   "id": "ec419974",
   "metadata": {},
   "outputs": [
    {
     "data": {
      "text/html": [
       "<div>\n",
       "<style scoped>\n",
       "    .dataframe tbody tr th:only-of-type {\n",
       "        vertical-align: middle;\n",
       "    }\n",
       "\n",
       "    .dataframe tbody tr th {\n",
       "        vertical-align: top;\n",
       "    }\n",
       "\n",
       "    .dataframe thead th {\n",
       "        text-align: right;\n",
       "    }\n",
       "</style>\n",
       "<table border=\"1\" class=\"dataframe\">\n",
       "  <thead>\n",
       "    <tr style=\"text-align: right;\">\n",
       "      <th></th>\n",
       "      <th>fecha</th>\n",
       "      <th>cod_ine</th>\n",
       "      <th>CCAA</th>\n",
       "      <th>total</th>\n",
       "    </tr>\n",
       "  </thead>\n",
       "  <tbody>\n",
       "    <tr>\n",
       "      <th>0</th>\n",
       "      <td>2020-03-04</td>\n",
       "      <td>1</td>\n",
       "      <td>Andalucía</td>\n",
       "      <td>0</td>\n",
       "    </tr>\n",
       "    <tr>\n",
       "      <th>1</th>\n",
       "      <td>2020-03-05</td>\n",
       "      <td>1</td>\n",
       "      <td>Andalucía</td>\n",
       "      <td>0</td>\n",
       "    </tr>\n",
       "    <tr>\n",
       "      <th>2</th>\n",
       "      <td>2020-03-06</td>\n",
       "      <td>1</td>\n",
       "      <td>Andalucía</td>\n",
       "      <td>0</td>\n",
       "    </tr>\n",
       "    <tr>\n",
       "      <th>3</th>\n",
       "      <td>2020-03-07</td>\n",
       "      <td>1</td>\n",
       "      <td>Andalucía</td>\n",
       "      <td>0</td>\n",
       "    </tr>\n",
       "    <tr>\n",
       "      <th>4</th>\n",
       "      <td>2020-03-08</td>\n",
       "      <td>1</td>\n",
       "      <td>Andalucía</td>\n",
       "      <td>0</td>\n",
       "    </tr>\n",
       "  </tbody>\n",
       "</table>\n",
       "</div>"
      ],
      "text/plain": [
       "        fecha  cod_ine       CCAA  total\n",
       "0  2020-03-04        1  Andalucía      0\n",
       "1  2020-03-05        1  Andalucía      0\n",
       "2  2020-03-06        1  Andalucía      0\n",
       "3  2020-03-07        1  Andalucía      0\n",
       "4  2020-03-08        1  Andalucía      0"
      ]
     },
     "execution_count": 15,
     "metadata": {},
     "output_type": "execute_result"
    }
   ],
   "source": [
    "deaths.head()"
   ]
  },
  {
   "cell_type": "code",
   "execution_count": 10,
   "id": "6f2ff3ea",
   "metadata": {},
   "outputs": [
    {
     "name": "stdout",
     "output_type": "stream",
     "text": [
      "<class 'pandas.core.frame.DataFrame'>\n",
      "RangeIndex: 1558 entries, 0 to 1557\n",
      "Data columns (total 4 columns):\n",
      " #   Column   Non-Null Count  Dtype \n",
      "---  ------   --------------  ----- \n",
      " 0   fecha    1558 non-null   object\n",
      " 1   cod_ine  1558 non-null   int64 \n",
      " 2   CCAA     1558 non-null   object\n",
      " 3   total    1558 non-null   int64 \n",
      "dtypes: int64(2), object(2)\n",
      "memory usage: 48.8+ KB\n"
     ]
    }
   ],
   "source": [
    "deaths.info()"
   ]
  },
  {
   "cell_type": "code",
   "execution_count": 16,
   "id": "e662a794",
   "metadata": {},
   "outputs": [
    {
     "data": {
      "text/html": [
       "<div>\n",
       "<style scoped>\n",
       "    .dataframe tbody tr th:only-of-type {\n",
       "        vertical-align: middle;\n",
       "    }\n",
       "\n",
       "    .dataframe tbody tr th {\n",
       "        vertical-align: top;\n",
       "    }\n",
       "\n",
       "    .dataframe thead th {\n",
       "        text-align: right;\n",
       "    }\n",
       "</style>\n",
       "<table border=\"1\" class=\"dataframe\">\n",
       "  <thead>\n",
       "    <tr style=\"text-align: right;\">\n",
       "      <th></th>\n",
       "      <th>fecha</th>\n",
       "      <th>cod_ine</th>\n",
       "      <th>CCAA</th>\n",
       "      <th>total</th>\n",
       "    </tr>\n",
       "  </thead>\n",
       "  <tbody>\n",
       "    <tr>\n",
       "      <th>0</th>\n",
       "      <td>2020-02-21</td>\n",
       "      <td>1</td>\n",
       "      <td>Andalucía</td>\n",
       "      <td>NaN</td>\n",
       "    </tr>\n",
       "    <tr>\n",
       "      <th>1</th>\n",
       "      <td>2020-02-22</td>\n",
       "      <td>1</td>\n",
       "      <td>Andalucía</td>\n",
       "      <td>NaN</td>\n",
       "    </tr>\n",
       "    <tr>\n",
       "      <th>2</th>\n",
       "      <td>2020-02-23</td>\n",
       "      <td>1</td>\n",
       "      <td>Andalucía</td>\n",
       "      <td>NaN</td>\n",
       "    </tr>\n",
       "    <tr>\n",
       "      <th>3</th>\n",
       "      <td>2020-02-24</td>\n",
       "      <td>1</td>\n",
       "      <td>Andalucía</td>\n",
       "      <td>NaN</td>\n",
       "    </tr>\n",
       "    <tr>\n",
       "      <th>4</th>\n",
       "      <td>2020-02-25</td>\n",
       "      <td>1</td>\n",
       "      <td>Andalucía</td>\n",
       "      <td>NaN</td>\n",
       "    </tr>\n",
       "  </tbody>\n",
       "</table>\n",
       "</div>"
      ],
      "text/plain": [
       "        fecha  cod_ine       CCAA  total\n",
       "0  2020-02-21        1  Andalucía    NaN\n",
       "1  2020-02-22        1  Andalucía    NaN\n",
       "2  2020-02-23        1  Andalucía    NaN\n",
       "3  2020-02-24        1  Andalucía    NaN\n",
       "4  2020-02-25        1  Andalucía    NaN"
      ]
     },
     "execution_count": 16,
     "metadata": {},
     "output_type": "execute_result"
    }
   ],
   "source": [
    "hospitalized.head()"
   ]
  },
  {
   "cell_type": "code",
   "execution_count": 13,
   "id": "3fc12ff7",
   "metadata": {},
   "outputs": [
    {
     "name": "stdout",
     "output_type": "stream",
     "text": [
      "<class 'pandas.core.frame.DataFrame'>\n",
      "RangeIndex: 1786 entries, 0 to 1785\n",
      "Data columns (total 4 columns):\n",
      " #   Column   Non-Null Count  Dtype  \n",
      "---  ------   --------------  -----  \n",
      " 0   fecha    1786 non-null   object \n",
      " 1   cod_ine  1786 non-null   int64  \n",
      " 2   CCAA     1786 non-null   object \n",
      " 3   total    1458 non-null   float64\n",
      "dtypes: float64(1), int64(1), object(2)\n",
      "memory usage: 55.9+ KB\n"
     ]
    }
   ],
   "source": [
    "hospitalized.info()"
   ]
  },
  {
   "cell_type": "code",
   "execution_count": 17,
   "id": "dc89d7b2",
   "metadata": {},
   "outputs": [
    {
     "data": {
      "text/html": [
       "<div>\n",
       "<style scoped>\n",
       "    .dataframe tbody tr th:only-of-type {\n",
       "        vertical-align: middle;\n",
       "    }\n",
       "\n",
       "    .dataframe tbody tr th {\n",
       "        vertical-align: top;\n",
       "    }\n",
       "\n",
       "    .dataframe thead th {\n",
       "        text-align: right;\n",
       "    }\n",
       "</style>\n",
       "<table border=\"1\" class=\"dataframe\">\n",
       "  <thead>\n",
       "    <tr style=\"text-align: right;\">\n",
       "      <th></th>\n",
       "      <th>fecha</th>\n",
       "      <th>cod_ine</th>\n",
       "      <th>CCAA</th>\n",
       "      <th>total</th>\n",
       "    </tr>\n",
       "  </thead>\n",
       "  <tbody>\n",
       "    <tr>\n",
       "      <th>0</th>\n",
       "      <td>2020-02-21</td>\n",
       "      <td>1</td>\n",
       "      <td>Andalucía</td>\n",
       "      <td>NaN</td>\n",
       "    </tr>\n",
       "    <tr>\n",
       "      <th>1</th>\n",
       "      <td>2020-02-22</td>\n",
       "      <td>1</td>\n",
       "      <td>Andalucía</td>\n",
       "      <td>NaN</td>\n",
       "    </tr>\n",
       "    <tr>\n",
       "      <th>2</th>\n",
       "      <td>2020-02-23</td>\n",
       "      <td>1</td>\n",
       "      <td>Andalucía</td>\n",
       "      <td>NaN</td>\n",
       "    </tr>\n",
       "    <tr>\n",
       "      <th>3</th>\n",
       "      <td>2020-02-24</td>\n",
       "      <td>1</td>\n",
       "      <td>Andalucía</td>\n",
       "      <td>NaN</td>\n",
       "    </tr>\n",
       "    <tr>\n",
       "      <th>4</th>\n",
       "      <td>2020-02-25</td>\n",
       "      <td>1</td>\n",
       "      <td>Andalucía</td>\n",
       "      <td>NaN</td>\n",
       "    </tr>\n",
       "  </tbody>\n",
       "</table>\n",
       "</div>"
      ],
      "text/plain": [
       "        fecha  cod_ine       CCAA  total\n",
       "0  2020-02-21        1  Andalucía    NaN\n",
       "1  2020-02-22        1  Andalucía    NaN\n",
       "2  2020-02-23        1  Andalucía    NaN\n",
       "3  2020-02-24        1  Andalucía    NaN\n",
       "4  2020-02-25        1  Andalucía    NaN"
      ]
     },
     "execution_count": 17,
     "metadata": {},
     "output_type": "execute_result"
    }
   ],
   "source": [
    "ICU.head()"
   ]
  },
  {
   "cell_type": "code",
   "execution_count": 16,
   "id": "6722ba3f",
   "metadata": {},
   "outputs": [
    {
     "name": "stdout",
     "output_type": "stream",
     "text": [
      "<class 'pandas.core.frame.DataFrame'>\n",
      "RangeIndex: 1786 entries, 0 to 1785\n",
      "Data columns (total 4 columns):\n",
      " #   Column   Non-Null Count  Dtype  \n",
      "---  ------   --------------  -----  \n",
      " 0   fecha    1786 non-null   object \n",
      " 1   cod_ine  1786 non-null   int64  \n",
      " 2   CCAA     1786 non-null   object \n",
      " 3   total    1488 non-null   float64\n",
      "dtypes: float64(1), int64(1), object(2)\n",
      "memory usage: 55.9+ KB\n"
     ]
    }
   ],
   "source": [
    "ICU.info()"
   ]
  },
  {
   "cell_type": "code",
   "execution_count": 18,
   "id": "c1f0f9e8",
   "metadata": {},
   "outputs": [
    {
     "data": {
      "text/html": [
       "<div>\n",
       "<style scoped>\n",
       "    .dataframe tbody tr th:only-of-type {\n",
       "        vertical-align: middle;\n",
       "    }\n",
       "\n",
       "    .dataframe tbody tr th {\n",
       "        vertical-align: top;\n",
       "    }\n",
       "\n",
       "    .dataframe thead th {\n",
       "        text-align: right;\n",
       "    }\n",
       "</style>\n",
       "<table border=\"1\" class=\"dataframe\">\n",
       "  <thead>\n",
       "    <tr style=\"text-align: right;\">\n",
       "      <th></th>\n",
       "      <th>fecha</th>\n",
       "      <th>cod_ine</th>\n",
       "      <th>CCAA</th>\n",
       "      <th>mascarillas_acumulado_desde_2020-03-10</th>\n",
       "    </tr>\n",
       "  </thead>\n",
       "  <tbody>\n",
       "    <tr>\n",
       "      <th>0</th>\n",
       "      <td>2020-03-22</td>\n",
       "      <td>1.0</td>\n",
       "      <td>ANDALUCÍA</td>\n",
       "      <td>444083</td>\n",
       "    </tr>\n",
       "    <tr>\n",
       "      <th>1</th>\n",
       "      <td>2020-03-22</td>\n",
       "      <td>2.0</td>\n",
       "      <td>ARAGÓN</td>\n",
       "      <td>72455</td>\n",
       "    </tr>\n",
       "    <tr>\n",
       "      <th>2</th>\n",
       "      <td>2020-03-22</td>\n",
       "      <td>3.0</td>\n",
       "      <td>ASTURIAS</td>\n",
       "      <td>60229</td>\n",
       "    </tr>\n",
       "    <tr>\n",
       "      <th>3</th>\n",
       "      <td>2020-03-22</td>\n",
       "      <td>4.0</td>\n",
       "      <td>BALEARES</td>\n",
       "      <td>49476</td>\n",
       "    </tr>\n",
       "    <tr>\n",
       "      <th>4</th>\n",
       "      <td>2020-03-22</td>\n",
       "      <td>5.0</td>\n",
       "      <td>CANARIAS</td>\n",
       "      <td>124165</td>\n",
       "    </tr>\n",
       "  </tbody>\n",
       "</table>\n",
       "</div>"
      ],
      "text/plain": [
       "        fecha  cod_ine       CCAA  mascarillas_acumulado_desde_2020-03-10\n",
       "0  2020-03-22      1.0  ANDALUCÍA                                  444083\n",
       "1  2020-03-22      2.0     ARAGÓN                                   72455\n",
       "2  2020-03-22      3.0   ASTURIAS                                   60229\n",
       "3  2020-03-22      4.0   BALEARES                                   49476\n",
       "4  2020-03-22      5.0   CANARIAS                                  124165"
      ]
     },
     "execution_count": 18,
     "metadata": {},
     "output_type": "execute_result"
    }
   ],
   "source": [
    "masks.head()"
   ]
  },
  {
   "cell_type": "code",
   "execution_count": 19,
   "id": "789fed03",
   "metadata": {},
   "outputs": [
    {
     "name": "stdout",
     "output_type": "stream",
     "text": [
      "<class 'pandas.core.frame.DataFrame'>\n",
      "RangeIndex: 58 entries, 0 to 57\n",
      "Data columns (total 4 columns):\n",
      " #   Column                                  Non-Null Count  Dtype  \n",
      "---  ------                                  --------------  -----  \n",
      " 0   fecha                                   58 non-null     object \n",
      " 1   cod_ine                                 57 non-null     float64\n",
      " 2   CCAA                                    58 non-null     object \n",
      " 3   mascarillas_acumulado_desde_2020-03-10  58 non-null     int64  \n",
      "dtypes: float64(1), int64(1), object(2)\n",
      "memory usage: 1.9+ KB\n"
     ]
    }
   ],
   "source": [
    "masks.info()"
   ]
  },
  {
   "cell_type": "code",
   "execution_count": 19,
   "id": "669a4543",
   "metadata": {},
   "outputs": [
    {
     "data": {
      "text/html": [
       "<div>\n",
       "<style scoped>\n",
       "    .dataframe tbody tr th:only-of-type {\n",
       "        vertical-align: middle;\n",
       "    }\n",
       "\n",
       "    .dataframe tbody tr th {\n",
       "        vertical-align: top;\n",
       "    }\n",
       "\n",
       "    .dataframe thead th {\n",
       "        text-align: right;\n",
       "    }\n",
       "</style>\n",
       "<table border=\"1\" class=\"dataframe\">\n",
       "  <thead>\n",
       "    <tr style=\"text-align: right;\">\n",
       "      <th></th>\n",
       "      <th>cod_ine</th>\n",
       "      <th>CCAA</th>\n",
       "      <th>Públicos</th>\n",
       "      <th>Privados</th>\n",
       "      <th>Total</th>\n",
       "    </tr>\n",
       "  </thead>\n",
       "  <tbody>\n",
       "    <tr>\n",
       "      <th>0</th>\n",
       "      <td>1</td>\n",
       "      <td>ANDALUCÍA</td>\n",
       "      <td>572</td>\n",
       "      <td>162</td>\n",
       "      <td>734</td>\n",
       "    </tr>\n",
       "    <tr>\n",
       "      <th>1</th>\n",
       "      <td>2</td>\n",
       "      <td>ARAGÓN</td>\n",
       "      <td>113</td>\n",
       "      <td>22</td>\n",
       "      <td>135</td>\n",
       "    </tr>\n",
       "    <tr>\n",
       "      <th>2</th>\n",
       "      <td>3</td>\n",
       "      <td>ASTURIAS</td>\n",
       "      <td>86</td>\n",
       "      <td>7</td>\n",
       "      <td>93</td>\n",
       "    </tr>\n",
       "    <tr>\n",
       "      <th>3</th>\n",
       "      <td>15</td>\n",
       "      <td>C. FORAL DE NAVARRA</td>\n",
       "      <td>46</td>\n",
       "      <td>19</td>\n",
       "      <td>65</td>\n",
       "    </tr>\n",
       "    <tr>\n",
       "      <th>4</th>\n",
       "      <td>5</td>\n",
       "      <td>CANARIAS</td>\n",
       "      <td>187</td>\n",
       "      <td>50</td>\n",
       "      <td>237</td>\n",
       "    </tr>\n",
       "  </tbody>\n",
       "</table>\n",
       "</div>"
      ],
      "text/plain": [
       "   cod_ine                 CCAA  Públicos  Privados  Total\n",
       "0        1            ANDALUCÍA       572       162    734\n",
       "1        2               ARAGÓN       113        22    135\n",
       "2        3             ASTURIAS        86         7     93\n",
       "3       15  C. FORAL DE NAVARRA        46        19     65\n",
       "4        5             CANARIAS       187        50    237"
      ]
     },
     "execution_count": 19,
     "metadata": {},
     "output_type": "execute_result"
    }
   ],
   "source": [
    "ICU_beds_2017.head()"
   ]
  },
  {
   "cell_type": "code",
   "execution_count": 22,
   "id": "76096397",
   "metadata": {},
   "outputs": [
    {
     "name": "stdout",
     "output_type": "stream",
     "text": [
      "<class 'pandas.core.frame.DataFrame'>\n",
      "RangeIndex: 17 entries, 0 to 16\n",
      "Data columns (total 5 columns):\n",
      " #   Column    Non-Null Count  Dtype \n",
      "---  ------    --------------  ----- \n",
      " 0   cod_ine   17 non-null     int64 \n",
      " 1   CCAA      17 non-null     object\n",
      " 2   Públicos  17 non-null     int64 \n",
      " 3   Privados  17 non-null     int64 \n",
      " 4   Total     17 non-null     int64 \n",
      "dtypes: int64(4), object(1)\n",
      "memory usage: 808.0+ bytes\n"
     ]
    }
   ],
   "source": [
    "ICU_beds_2017.info()"
   ]
  },
  {
   "cell_type": "code",
   "execution_count": 20,
   "id": "a0b55083",
   "metadata": {},
   "outputs": [
    {
     "data": {
      "text/html": [
       "<div>\n",
       "<style scoped>\n",
       "    .dataframe tbody tr th:only-of-type {\n",
       "        vertical-align: middle;\n",
       "    }\n",
       "\n",
       "    .dataframe tbody tr th {\n",
       "        vertical-align: top;\n",
       "    }\n",
       "\n",
       "    .dataframe thead th {\n",
       "        text-align: right;\n",
       "    }\n",
       "</style>\n",
       "<table border=\"1\" class=\"dataframe\">\n",
       "  <thead>\n",
       "    <tr style=\"text-align: right;\">\n",
       "      <th></th>\n",
       "      <th>fecha</th>\n",
       "      <th>casos_total</th>\n",
       "      <th>casos_pcr</th>\n",
       "      <th>casos_test_ac</th>\n",
       "      <th>altas</th>\n",
       "      <th>fallecimientos</th>\n",
       "      <th>ingresos_uci</th>\n",
       "      <th>hospitalizados</th>\n",
       "    </tr>\n",
       "  </thead>\n",
       "  <tbody>\n",
       "    <tr>\n",
       "      <th>0</th>\n",
       "      <td>2020-02-21</td>\n",
       "      <td>3.0</td>\n",
       "      <td>3</td>\n",
       "      <td>NaN</td>\n",
       "      <td>NaN</td>\n",
       "      <td>NaN</td>\n",
       "      <td>NaN</td>\n",
       "      <td>NaN</td>\n",
       "    </tr>\n",
       "    <tr>\n",
       "      <th>1</th>\n",
       "      <td>2020-02-22</td>\n",
       "      <td>3.0</td>\n",
       "      <td>3</td>\n",
       "      <td>NaN</td>\n",
       "      <td>NaN</td>\n",
       "      <td>NaN</td>\n",
       "      <td>NaN</td>\n",
       "      <td>NaN</td>\n",
       "    </tr>\n",
       "    <tr>\n",
       "      <th>2</th>\n",
       "      <td>2020-02-23</td>\n",
       "      <td>3.0</td>\n",
       "      <td>3</td>\n",
       "      <td>NaN</td>\n",
       "      <td>NaN</td>\n",
       "      <td>NaN</td>\n",
       "      <td>NaN</td>\n",
       "      <td>NaN</td>\n",
       "    </tr>\n",
       "    <tr>\n",
       "      <th>3</th>\n",
       "      <td>2020-02-24</td>\n",
       "      <td>3.0</td>\n",
       "      <td>3</td>\n",
       "      <td>NaN</td>\n",
       "      <td>NaN</td>\n",
       "      <td>NaN</td>\n",
       "      <td>NaN</td>\n",
       "      <td>NaN</td>\n",
       "    </tr>\n",
       "    <tr>\n",
       "      <th>4</th>\n",
       "      <td>2020-02-25</td>\n",
       "      <td>4.0</td>\n",
       "      <td>4</td>\n",
       "      <td>NaN</td>\n",
       "      <td>NaN</td>\n",
       "      <td>NaN</td>\n",
       "      <td>NaN</td>\n",
       "      <td>NaN</td>\n",
       "    </tr>\n",
       "  </tbody>\n",
       "</table>\n",
       "</div>"
      ],
      "text/plain": [
       "        fecha  casos_total  casos_pcr  casos_test_ac  altas  fallecimientos  \\\n",
       "0  2020-02-21          3.0          3            NaN    NaN             NaN   \n",
       "1  2020-02-22          3.0          3            NaN    NaN             NaN   \n",
       "2  2020-02-23          3.0          3            NaN    NaN             NaN   \n",
       "3  2020-02-24          3.0          3            NaN    NaN             NaN   \n",
       "4  2020-02-25          4.0          4            NaN    NaN             NaN   \n",
       "\n",
       "   ingresos_uci  hospitalizados  \n",
       "0           NaN             NaN  \n",
       "1           NaN             NaN  \n",
       "2           NaN             NaN  \n",
       "3           NaN             NaN  \n",
       "4           NaN             NaN  "
      ]
     },
     "execution_count": 20,
     "metadata": {},
     "output_type": "execute_result"
    }
   ],
   "source": [
    "national_covid19.head()"
   ]
  },
  {
   "cell_type": "code",
   "execution_count": 25,
   "id": "5ecf5d4b",
   "metadata": {},
   "outputs": [
    {
     "name": "stdout",
     "output_type": "stream",
     "text": [
      "<class 'pandas.core.frame.DataFrame'>\n",
      "RangeIndex: 263 entries, 0 to 262\n",
      "Data columns (total 8 columns):\n",
      " #   Column          Non-Null Count  Dtype  \n",
      "---  ------          --------------  -----  \n",
      " 0   fecha           263 non-null    object \n",
      " 1   casos_total     91 non-null     float64\n",
      " 2   casos_pcr       263 non-null    int64  \n",
      " 3   casos_test_ac   48 non-null     float64\n",
      " 4   altas           71 non-null     float64\n",
      " 5   fallecimientos  251 non-null    float64\n",
      " 6   ingresos_uci    193 non-null    float64\n",
      " 7   hospitalizados  195 non-null    float64\n",
      "dtypes: float64(6), int64(1), object(1)\n",
      "memory usage: 16.6+ KB\n"
     ]
    }
   ],
   "source": [
    "national_covid19.info()"
   ]
  },
  {
   "cell_type": "code",
   "execution_count": 21,
   "id": "d2072bb8",
   "metadata": {},
   "outputs": [
    {
     "data": {
      "text/html": [
       "<div>\n",
       "<style scoped>\n",
       "    .dataframe tbody tr th:only-of-type {\n",
       "        vertical-align: middle;\n",
       "    }\n",
       "\n",
       "    .dataframe tbody tr th {\n",
       "        vertical-align: top;\n",
       "    }\n",
       "\n",
       "    .dataframe thead th {\n",
       "        text-align: right;\n",
       "    }\n",
       "</style>\n",
       "<table border=\"1\" class=\"dataframe\">\n",
       "  <thead>\n",
       "    <tr style=\"text-align: right;\">\n",
       "      <th></th>\n",
       "      <th>fecha</th>\n",
       "      <th>rango_edad</th>\n",
       "      <th>sexo</th>\n",
       "      <th>casos_confirmados</th>\n",
       "      <th>hospitalizados</th>\n",
       "      <th>ingresos_uci</th>\n",
       "      <th>fallecidos</th>\n",
       "    </tr>\n",
       "  </thead>\n",
       "  <tbody>\n",
       "    <tr>\n",
       "      <th>0</th>\n",
       "      <td>2020-03-23</td>\n",
       "      <td>0-9</td>\n",
       "      <td>ambos</td>\n",
       "      <td>129</td>\n",
       "      <td>34</td>\n",
       "      <td>1</td>\n",
       "      <td>0</td>\n",
       "    </tr>\n",
       "    <tr>\n",
       "      <th>1</th>\n",
       "      <td>2020-03-23</td>\n",
       "      <td>10-19</td>\n",
       "      <td>ambos</td>\n",
       "      <td>221</td>\n",
       "      <td>15</td>\n",
       "      <td>0</td>\n",
       "      <td>1</td>\n",
       "    </tr>\n",
       "    <tr>\n",
       "      <th>2</th>\n",
       "      <td>2020-03-23</td>\n",
       "      <td>20-29</td>\n",
       "      <td>ambos</td>\n",
       "      <td>1285</td>\n",
       "      <td>183</td>\n",
       "      <td>8</td>\n",
       "      <td>4</td>\n",
       "    </tr>\n",
       "    <tr>\n",
       "      <th>3</th>\n",
       "      <td>2020-03-23</td>\n",
       "      <td>30-39</td>\n",
       "      <td>ambos</td>\n",
       "      <td>2208</td>\n",
       "      <td>365</td>\n",
       "      <td>15</td>\n",
       "      <td>3</td>\n",
       "    </tr>\n",
       "    <tr>\n",
       "      <th>4</th>\n",
       "      <td>2020-03-23</td>\n",
       "      <td>40-49</td>\n",
       "      <td>ambos</td>\n",
       "      <td>2919</td>\n",
       "      <td>663</td>\n",
       "      <td>40</td>\n",
       "      <td>9</td>\n",
       "    </tr>\n",
       "  </tbody>\n",
       "</table>\n",
       "</div>"
      ],
      "text/plain": [
       "        fecha rango_edad   sexo  casos_confirmados  hospitalizados  \\\n",
       "0  2020-03-23        0-9  ambos                129              34   \n",
       "1  2020-03-23      10-19  ambos                221              15   \n",
       "2  2020-03-23      20-29  ambos               1285             183   \n",
       "3  2020-03-23      30-39  ambos               2208             365   \n",
       "4  2020-03-23      40-49  ambos               2919             663   \n",
       "\n",
       "   ingresos_uci  fallecidos  \n",
       "0             1           0  \n",
       "1             0           1  \n",
       "2             8           4  \n",
       "3            15           3  \n",
       "4            40           9  "
      ]
     },
     "execution_count": 21,
     "metadata": {},
     "output_type": "execute_result"
    }
   ],
   "source": [
    "national_age_gender.head()"
   ]
  },
  {
   "cell_type": "code",
   "execution_count": 28,
   "id": "69f33ba9",
   "metadata": {},
   "outputs": [
    {
     "name": "stdout",
     "output_type": "stream",
     "text": [
      "<class 'pandas.core.frame.DataFrame'>\n",
      "RangeIndex: 1878 entries, 0 to 1877\n",
      "Data columns (total 7 columns):\n",
      " #   Column             Non-Null Count  Dtype \n",
      "---  ------             --------------  ----- \n",
      " 0   fecha              1878 non-null   object\n",
      " 1   rango_edad         1878 non-null   object\n",
      " 2   sexo               1878 non-null   object\n",
      " 3   casos_confirmados  1878 non-null   int64 \n",
      " 4   hospitalizados     1878 non-null   int64 \n",
      " 5   ingresos_uci       1878 non-null   int64 \n",
      " 6   fallecidos         1878 non-null   int64 \n",
      "dtypes: int64(4), object(3)\n",
      "memory usage: 102.8+ KB\n"
     ]
    }
   ],
   "source": [
    "national_age_gender.info()"
   ]
  },
  {
   "cell_type": "code",
   "execution_count": 22,
   "id": "15f0c1e6",
   "metadata": {},
   "outputs": [
    {
     "data": {
      "text/plain": [
       "Index(['fecha', 'cod_ine', 'CCAA', 'total'], dtype='object')"
      ]
     },
     "execution_count": 22,
     "metadata": {},
     "output_type": "execute_result"
    }
   ],
   "source": [
    "discharges.columns"
   ]
  },
  {
   "cell_type": "code",
   "execution_count": 30,
   "id": "496825fd",
   "metadata": {},
   "outputs": [
    {
     "data": {
      "text/html": [
       "<div>\n",
       "<style scoped>\n",
       "    .dataframe tbody tr th:only-of-type {\n",
       "        vertical-align: middle;\n",
       "    }\n",
       "\n",
       "    .dataframe tbody tr th {\n",
       "        vertical-align: top;\n",
       "    }\n",
       "\n",
       "    .dataframe thead th {\n",
       "        text-align: right;\n",
       "    }\n",
       "</style>\n",
       "<table border=\"1\" class=\"dataframe\">\n",
       "  <thead>\n",
       "    <tr style=\"text-align: right;\">\n",
       "      <th></th>\n",
       "      <th>date</th>\n",
       "      <th>cod_ine</th>\n",
       "      <th>region</th>\n",
       "      <th>total</th>\n",
       "    </tr>\n",
       "  </thead>\n",
       "  <tbody>\n",
       "    <tr>\n",
       "      <th>0</th>\n",
       "      <td>2020-03-01</td>\n",
       "      <td>1</td>\n",
       "      <td>Andalucía</td>\n",
       "      <td>NaN</td>\n",
       "    </tr>\n",
       "    <tr>\n",
       "      <th>1</th>\n",
       "      <td>2020-03-09</td>\n",
       "      <td>1</td>\n",
       "      <td>Andalucía</td>\n",
       "      <td>11.0</td>\n",
       "    </tr>\n",
       "    <tr>\n",
       "      <th>2</th>\n",
       "      <td>2020-03-10</td>\n",
       "      <td>1</td>\n",
       "      <td>Andalucía</td>\n",
       "      <td>11.0</td>\n",
       "    </tr>\n",
       "    <tr>\n",
       "      <th>3</th>\n",
       "      <td>2020-03-11</td>\n",
       "      <td>1</td>\n",
       "      <td>Andalucía</td>\n",
       "      <td>11.0</td>\n",
       "    </tr>\n",
       "    <tr>\n",
       "      <th>4</th>\n",
       "      <td>2020-03-12</td>\n",
       "      <td>1</td>\n",
       "      <td>Andalucía</td>\n",
       "      <td>11.0</td>\n",
       "    </tr>\n",
       "    <tr>\n",
       "      <th>...</th>\n",
       "      <td>...</td>\n",
       "      <td>...</td>\n",
       "      <td>...</td>\n",
       "      <td>...</td>\n",
       "    </tr>\n",
       "    <tr>\n",
       "      <th>1363</th>\n",
       "      <td>2020-05-14</td>\n",
       "      <td>17</td>\n",
       "      <td>La Rioja</td>\n",
       "      <td>2867.0</td>\n",
       "    </tr>\n",
       "    <tr>\n",
       "      <th>1364</th>\n",
       "      <td>2020-05-15</td>\n",
       "      <td>17</td>\n",
       "      <td>La Rioja</td>\n",
       "      <td>2927.0</td>\n",
       "    </tr>\n",
       "    <tr>\n",
       "      <th>1365</th>\n",
       "      <td>2020-05-16</td>\n",
       "      <td>17</td>\n",
       "      <td>La Rioja</td>\n",
       "      <td>2990.0</td>\n",
       "    </tr>\n",
       "    <tr>\n",
       "      <th>1366</th>\n",
       "      <td>2020-05-17</td>\n",
       "      <td>17</td>\n",
       "      <td>La Rioja</td>\n",
       "      <td>3048.0</td>\n",
       "    </tr>\n",
       "    <tr>\n",
       "      <th>1367</th>\n",
       "      <td>2020-05-18</td>\n",
       "      <td>17</td>\n",
       "      <td>La Rioja</td>\n",
       "      <td>3107.0</td>\n",
       "    </tr>\n",
       "  </tbody>\n",
       "</table>\n",
       "<p>1368 rows × 4 columns</p>\n",
       "</div>"
      ],
      "text/plain": [
       "            date  cod_ine     region   total\n",
       "0     2020-03-01        1  Andalucía     NaN\n",
       "1     2020-03-09        1  Andalucía    11.0\n",
       "2     2020-03-10        1  Andalucía    11.0\n",
       "3     2020-03-11        1  Andalucía    11.0\n",
       "4     2020-03-12        1  Andalucía    11.0\n",
       "...          ...      ...        ...     ...\n",
       "1363  2020-05-14       17   La Rioja  2867.0\n",
       "1364  2020-05-15       17   La Rioja  2927.0\n",
       "1365  2020-05-16       17   La Rioja  2990.0\n",
       "1366  2020-05-17       17   La Rioja  3048.0\n",
       "1367  2020-05-18       17   La Rioja  3107.0\n",
       "\n",
       "[1368 rows x 4 columns]"
      ]
     },
     "execution_count": 30,
     "metadata": {},
     "output_type": "execute_result"
    }
   ],
   "source": [
    "rename_dct = {'fecha': 'date',\n",
    "             'rango_edad': 'age',\n",
    "             'sexo': 'gender',\n",
    "             'casos_confirmados': 'confirmed_cases',\n",
    "             'hospitalizados': 'hospitalized', \n",
    "             'fallecidos': 'deceed',\n",
    "             'ingresos_uci': 'ICU_new_entrances',\n",
    "             'casos_total': 'total_cases',\n",
    "             'casos_pcr': 'pcr_cases',\n",
    "             'altas': 'discharges',\n",
    "             'casos_test_ac': 'ACtest_cases',\n",
    "             'fallecimientos': 'deceed',\n",
    "             'CCAA': 'region',\n",
    "             'Públicos': 'public',\n",
    "             'Privados': 'private',\n",
    "             'mascarillas_acumulado_desde_2020-03-10': 'masks_available_since200310',\n",
    "             }\n",
    "\n",
    "#df = df.rename(columns=rename_dct)\n",
    "\n",
    "def rename_dfs(dfs_lst, rename_dct):\n",
    "    return [df.rename(columns=rename_dct) for df in dfs_lst]\n",
    "\n",
    "dfs_lst = [discharges, cases, deaths, hospitalized, ICU, masks, ICU_beds_2017, national_covid19, national_age_gender]\n",
    "\n",
    "discharges_renamed, cases_renamed, deaths_renamed, hospitalized_renamed, ICU_renamed, masks_renamed, ICU_beds_2017_renamed, national_covid19_renamed, national_age_gender_renamed = rename_dfs(dfs_lst, rename_dct)\n",
    "\n",
    "discharges_renamed"
   ]
  },
  {
   "cell_type": "code",
   "execution_count": 33,
   "id": "c0b57162",
   "metadata": {},
   "outputs": [],
   "source": [
    "discharges_renamed.to_csv(\"./discharges_renamed.csv\")"
   ]
  },
  {
   "cell_type": "code",
   "execution_count": 34,
   "id": "e68e9155",
   "metadata": {},
   "outputs": [],
   "source": [
    "deaths_renamed.to_csv(\"./deaths_renamed.csv\")"
   ]
  },
  {
   "cell_type": "code",
   "execution_count": 39,
   "id": "7f8c6caa",
   "metadata": {},
   "outputs": [
    {
     "data": {
      "text/html": [
       "<div>\n",
       "<style scoped>\n",
       "    .dataframe tbody tr th:only-of-type {\n",
       "        vertical-align: middle;\n",
       "    }\n",
       "\n",
       "    .dataframe tbody tr th {\n",
       "        vertical-align: top;\n",
       "    }\n",
       "\n",
       "    .dataframe thead th {\n",
       "        text-align: right;\n",
       "    }\n",
       "</style>\n",
       "<table border=\"1\" class=\"dataframe\">\n",
       "  <thead>\n",
       "    <tr style=\"text-align: right;\">\n",
       "      <th></th>\n",
       "      <th>date</th>\n",
       "      <th>cod_ine</th>\n",
       "      <th>region</th>\n",
       "      <th>total</th>\n",
       "    </tr>\n",
       "  </thead>\n",
       "  <tbody>\n",
       "    <tr>\n",
       "      <th>0</th>\n",
       "      <td>2020-02-21</td>\n",
       "      <td>1</td>\n",
       "      <td>Andalucía</td>\n",
       "      <td>0</td>\n",
       "    </tr>\n",
       "    <tr>\n",
       "      <th>1</th>\n",
       "      <td>2020-02-22</td>\n",
       "      <td>1</td>\n",
       "      <td>Andalucía</td>\n",
       "      <td>0</td>\n",
       "    </tr>\n",
       "    <tr>\n",
       "      <th>2</th>\n",
       "      <td>2020-02-23</td>\n",
       "      <td>1</td>\n",
       "      <td>Andalucía</td>\n",
       "      <td>0</td>\n",
       "    </tr>\n",
       "    <tr>\n",
       "      <th>3</th>\n",
       "      <td>2020-02-24</td>\n",
       "      <td>1</td>\n",
       "      <td>Andalucía</td>\n",
       "      <td>0</td>\n",
       "    </tr>\n",
       "    <tr>\n",
       "      <th>4</th>\n",
       "      <td>2020-02-25</td>\n",
       "      <td>1</td>\n",
       "      <td>Andalucía</td>\n",
       "      <td>0</td>\n",
       "    </tr>\n",
       "  </tbody>\n",
       "</table>\n",
       "</div>"
      ],
      "text/plain": [
       "         date  cod_ine     region  total\n",
       "0  2020-02-21        1  Andalucía      0\n",
       "1  2020-02-22        1  Andalucía      0\n",
       "2  2020-02-23        1  Andalucía      0\n",
       "3  2020-02-24        1  Andalucía      0\n",
       "4  2020-02-25        1  Andalucía      0"
      ]
     },
     "execution_count": 39,
     "metadata": {},
     "output_type": "execute_result"
    }
   ],
   "source": [
    "cases_renamed.head ()"
   ]
  },
  {
   "cell_type": "code",
   "execution_count": 40,
   "id": "fb3b644c",
   "metadata": {},
   "outputs": [],
   "source": [
    "cases_renamed.to_csv(\"./cases_renamed.csv\")"
   ]
  }
 ],
 "metadata": {
  "kernelspec": {
   "display_name": "Python 3",
   "language": "python",
   "name": "python3"
  },
  "language_info": {
   "codemirror_mode": {
    "name": "ipython",
    "version": 3
   },
   "file_extension": ".py",
   "mimetype": "text/x-python",
   "name": "python",
   "nbconvert_exporter": "python",
   "pygments_lexer": "ipython3",
   "version": "3.8.8"
  }
 },
 "nbformat": 4,
 "nbformat_minor": 5
}
