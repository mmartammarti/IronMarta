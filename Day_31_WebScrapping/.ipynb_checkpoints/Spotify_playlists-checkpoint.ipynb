{
 "cells": [
  {
   "cell_type": "markdown",
   "id": "58a743b0",
   "metadata": {},
   "source": [
    "# Spotify playlists"
   ]
  },
  {
   "cell_type": "markdown",
   "id": "d35fd736",
   "metadata": {},
   "source": [
    "### libraries"
   ]
  },
  {
   "cell_type": "code",
   "execution_count": 1,
   "id": "7431d98e",
   "metadata": {},
   "outputs": [],
   "source": [
    "import spotipy # install if needed\n",
    "from spotipy.oauth2 import SpotifyClientCredentials\n",
    "import getpass\n",
    "import pandas as pd\n",
    "#from time import sleep"
   ]
  },
  {
   "cell_type": "markdown",
   "id": "5057aa3b",
   "metadata": {},
   "source": [
    "### getting lists id"
   ]
  },
  {
   "cell_type": "code",
   "execution_count": 2,
   "id": "89562be4",
   "metadata": {},
   "outputs": [
    {
     "name": "stdout",
     "output_type": "stream",
     "text": [
      "client_id?········\n",
      "client_secret?········\n"
     ]
    }
   ],
   "source": [
    "client_id=str(getpass.getpass('client_id?'))\n",
    "client_secret=str(getpass.getpass('client_secret?'))"
   ]
  },
  {
   "cell_type": "code",
   "execution_count": 3,
   "id": "2b598782",
   "metadata": {},
   "outputs": [],
   "source": [
    "sp = spotipy.Spotify(auth_manager=SpotifyClientCredentials(client_id=client_id, client_secret=client_secret))"
   ]
  },
  {
   "cell_type": "raw",
   "id": "4a2ed64c",
   "metadata": {},
   "source": [
    "# Ángela list_1 = https://open.spotify.com/playlist/5S8SJdl1BDc0ugpkEvFsIL?si=uBt53b73Sp-oqWKq-abxdQ&nd=1\n",
    "# Julia list_2 = https://open.spotify.com/playlist/7I6XVNQVayB46Zzh4GNPoU?si=FlWm1-RqQ02RmD0UOUirfg&utm_source=copy-link&nd=1\n",
    "## corta list_3 = https://open.spotify.com/playlist/532F1h299qKD894BlPfJJF?si=3e11fbe3703b427f&nd=1\n",
    "# Dàmaris list_4 = https://open.spotify.com/playlist/3WWv2APRYe9jR8L1YnK1Up?si=1_tp9afpT2Oz1AIEJ2zClg&nd=1"
   ]
  },
  {
   "cell_type": "code",
   "execution_count": 42,
   "id": "27806270",
   "metadata": {},
   "outputs": [],
   "source": [
    "pl_id_1 = \"5S8SJdl1BDc0ugpkEvFsIL\"\n",
    "pl_id_2 = \"7I6XVNQVayB46Zzh4GNPoU\"\n",
    "pl_id_3 = \"532F1h299qKD894BlPfJJF\"\n",
    "pl_id_4 = \"3WWv2APRYe9jR8L1YnK1Up\""
   ]
  },
  {
   "cell_type": "markdown",
   "id": "49ba3e61",
   "metadata": {},
   "source": [
    "### getting a single list from each playlist"
   ]
  },
  {
   "cell_type": "code",
   "execution_count": 43,
   "id": "a7897c39",
   "metadata": {},
   "outputs": [],
   "source": [
    "\n",
    "def get_playlist_tracks(playlist_id):\n",
    "    results = sp.user_playlist_tracks(\"spotify\", playlist_id)\n",
    "    tracks = results['items']\n",
    "    while results['next']:\n",
    "        results = sp.next(results)\n",
    "        tracks.extend(results['items'])\n",
    "    return tracks\n"
   ]
  },
  {
   "cell_type": "code",
   "execution_count": 45,
   "id": "ce22a2f2",
   "metadata": {},
   "outputs": [],
   "source": [
    "playlist_1 = get_playlist_tracks(pl_id_1)"
   ]
  },
  {
   "cell_type": "code",
   "execution_count": 46,
   "id": "8254eaf9",
   "metadata": {},
   "outputs": [],
   "source": [
    "playlist_2 = get_playlist_tracks(pl_id_2)"
   ]
  },
  {
   "cell_type": "code",
   "execution_count": 47,
   "id": "549f5be8",
   "metadata": {},
   "outputs": [],
   "source": [
    "playlist_3 = get_playlist_tracks(pl_id_3)"
   ]
  },
  {
   "cell_type": "code",
   "execution_count": 48,
   "id": "f9841a49",
   "metadata": {},
   "outputs": [],
   "source": [
    "playlist_4 = get_playlist_tracks(pl_id_4)"
   ]
  },
  {
   "cell_type": "markdown",
   "id": "ba99f91a",
   "metadata": {},
   "source": [
    "### looking for id, title and artist for a single song"
   ]
  },
  {
   "cell_type": "raw",
   "id": "5d96429d",
   "metadata": {},
   "source": [
    "playlist_2[0]"
   ]
  },
  {
   "cell_type": "raw",
   "id": "99076b14",
   "metadata": {},
   "source": [
    "playlist_2[0]['track']"
   ]
  },
  {
   "cell_type": "raw",
   "id": "08077a27",
   "metadata": {},
   "source": [
    "playlist_2[0]['track']['id']   # id"
   ]
  },
  {
   "cell_type": "raw",
   "id": "570b0ae7",
   "metadata": {},
   "source": [
    "playlist_2[0]['track']['artists']  "
   ]
  },
  {
   "cell_type": "raw",
   "id": "3b230870",
   "metadata": {},
   "source": [
    "playlist_2[0]['track']['artists'][0]"
   ]
  },
  {
   "cell_type": "raw",
   "id": "ce06a29a",
   "metadata": {},
   "source": [
    "playlist_2[0]['track']['artists'][0]['name']   # artist"
   ]
  },
  {
   "cell_type": "raw",
   "id": "ce940232",
   "metadata": {},
   "source": [
    "playlist_2[0]['track']['name']   # title"
   ]
  },
  {
   "cell_type": "markdown",
   "id": "370048e3",
   "metadata": {},
   "source": [
    "### listing id, title and artist"
   ]
  },
  {
   "cell_type": "code",
   "execution_count": 49,
   "id": "b7922bef",
   "metadata": {},
   "outputs": [],
   "source": [
    "_id = []\n",
    "title = []\n",
    "artist = []"
   ]
  },
  {
   "cell_type": "code",
   "execution_count": 50,
   "id": "3cff64df",
   "metadata": {},
   "outputs": [],
   "source": [
    "def get_id_title_artist(pl):\n",
    "    for item in range(len(pl)):\n",
    "        _id.append(pl[item]['track']['id'])\n",
    "        title.append(pl[item]['track']['name'])\n",
    "        artist.append(pl[item]['track']['artists'][0]['name'])"
   ]
  },
  {
   "cell_type": "code",
   "execution_count": 51,
   "id": "b352397b",
   "metadata": {},
   "outputs": [],
   "source": [
    "get_id_title_artist(playlist_1)\n",
    "get_id_title_artist(playlist_2)\n",
    "get_id_title_artist(playlist_3)\n",
    "get_id_title_artist(playlist_4)"
   ]
  },
  {
   "cell_type": "code",
   "execution_count": 52,
   "id": "f45f18e2",
   "metadata": {},
   "outputs": [
    {
     "name": "stdout",
     "output_type": "stream",
     "text": [
      "35647\n"
     ]
    }
   ],
   "source": [
    "print(len(_id))"
   ]
  },
  {
   "cell_type": "markdown",
   "id": "37d75314",
   "metadata": {},
   "source": [
    "### getting audio features"
   ]
  },
  {
   "cell_type": "code",
   "execution_count": null,
   "id": "d71c5c6e",
   "metadata": {},
   "outputs": [],
   "source": [
    "features = []\n",
    "\n",
    "for song in _id[2000:4000]:\n",
    "    #sleep(0.25)\n",
    "    audio = sp.audio_features(tracks=song)\n",
    "    features.append(audio[0])"
   ]
  },
  {
   "cell_type": "code",
   "execution_count": null,
   "id": "d9dfa867",
   "metadata": {},
   "outputs": [],
   "source": [
    "features\n",
    "    "
   ]
  },
  {
   "cell_type": "code",
   "execution_count": null,
   "id": "9e971c6a",
   "metadata": {},
   "outputs": [],
   "source": [
    "#feat = \n",
    "pd.DataFrame(features)\n",
    "#feat.head()"
   ]
  },
  {
   "cell_type": "code",
   "execution_count": null,
   "id": "994c6aa2",
   "metadata": {},
   "outputs": [],
   "source": [
    "feat.to_csv('df_2_2.csv')"
   ]
  },
  {
   "cell_type": "code",
   "execution_count": 13,
   "id": "a685b83e",
   "metadata": {},
   "outputs": [],
   "source": [
    "get_id_title_artist(playlist_1)\n",
    "get_id_title_artist(playlist_3)\n",
    "get_id_title_artist(playlist_4)"
   ]
  },
  {
   "cell_type": "code",
   "execution_count": 20,
   "id": "4268a5dd",
   "metadata": {},
   "outputs": [
    {
     "data": {
      "text/plain": [
       "35647"
      ]
     },
     "execution_count": 20,
     "metadata": {},
     "output_type": "execute_result"
    }
   ],
   "source": [
    "len(artist)"
   ]
  },
  {
   "cell_type": "markdown",
   "id": "97735579",
   "metadata": {},
   "source": [
    "- link 1 : 1-4400\n",
    "- link 2 : 1-2000 + 4000-8000\n",
    "- link 3 : 5xxx todo!\n",
    "- link 4 : 9999 todo!"
   ]
  },
  {
   "cell_type": "code",
   "execution_count": 53,
   "id": "dbc422e3",
   "metadata": {},
   "outputs": [],
   "source": [
    "info = pd.DataFrame({'id' : _id, 'title' : title, 'artist' : artist})"
   ]
  },
  {
   "cell_type": "code",
   "execution_count": 57,
   "id": "f0bcab9c",
   "metadata": {},
   "outputs": [
    {
     "data": {
      "text/plain": [
       "(35647, 3)"
      ]
     },
     "execution_count": 57,
     "metadata": {},
     "output_type": "execute_result"
    }
   ],
   "source": [
    "info.shape"
   ]
  },
  {
   "cell_type": "code",
   "execution_count": 58,
   "id": "7b428261",
   "metadata": {},
   "outputs": [
    {
     "data": {
      "text/html": [
       "<div>\n",
       "<style scoped>\n",
       "    .dataframe tbody tr th:only-of-type {\n",
       "        vertical-align: middle;\n",
       "    }\n",
       "\n",
       "    .dataframe tbody tr th {\n",
       "        vertical-align: top;\n",
       "    }\n",
       "\n",
       "    .dataframe thead th {\n",
       "        text-align: right;\n",
       "    }\n",
       "</style>\n",
       "<table border=\"1\" class=\"dataframe\">\n",
       "  <thead>\n",
       "    <tr style=\"text-align: right;\">\n",
       "      <th></th>\n",
       "      <th>id</th>\n",
       "      <th>title</th>\n",
       "      <th>artist</th>\n",
       "    </tr>\n",
       "  </thead>\n",
       "  <tbody>\n",
       "    <tr>\n",
       "      <th>0</th>\n",
       "      <td>7zgqtptZvhf8GEmdsM2vp2</td>\n",
       "      <td>...Ready For It?</td>\n",
       "      <td>Taylor Swift</td>\n",
       "    </tr>\n",
       "    <tr>\n",
       "      <th>1</th>\n",
       "      <td>4Vxu50qVrQcycjRyJQaZLC</td>\n",
       "      <td>Life Changes</td>\n",
       "      <td>Thomas Rhett</td>\n",
       "    </tr>\n",
       "    <tr>\n",
       "      <th>2</th>\n",
       "      <td>6b8Be6ljOzmkOmFslEb23P</td>\n",
       "      <td>24K Magic</td>\n",
       "      <td>Bruno Mars</td>\n",
       "    </tr>\n",
       "    <tr>\n",
       "      <th>3</th>\n",
       "      <td>0afhq8XCExXpqazXczTSve</td>\n",
       "      <td>Galway Girl</td>\n",
       "      <td>Ed Sheeran</td>\n",
       "    </tr>\n",
       "    <tr>\n",
       "      <th>4</th>\n",
       "      <td>1HNkqx9Ahdgi1Ixy2xkKkL</td>\n",
       "      <td>Photograph</td>\n",
       "      <td>Ed Sheeran</td>\n",
       "    </tr>\n",
       "    <tr>\n",
       "      <th>...</th>\n",
       "      <td>...</td>\n",
       "      <td>...</td>\n",
       "      <td>...</td>\n",
       "    </tr>\n",
       "    <tr>\n",
       "      <th>35642</th>\n",
       "      <td>3kOl8elYophLlBuDIaH8gb</td>\n",
       "      <td>Pyretta Blaze</td>\n",
       "      <td>Type O Negative</td>\n",
       "    </tr>\n",
       "    <tr>\n",
       "      <th>35643</th>\n",
       "      <td>6jTpj6yGuX2Bp8L21GD4pf</td>\n",
       "      <td>All Hallows Eve</td>\n",
       "      <td>Type O Negative</td>\n",
       "    </tr>\n",
       "    <tr>\n",
       "      <th>35644</th>\n",
       "      <td>2PPCAZ1iB0a2lS1NeWU1f9</td>\n",
       "      <td>Day Tripper - Medley</td>\n",
       "      <td>Type O Negative</td>\n",
       "    </tr>\n",
       "    <tr>\n",
       "      <th>35645</th>\n",
       "      <td>4FR4Fcyd8JNdhsHKSTUpnR</td>\n",
       "      <td>Neverland</td>\n",
       "      <td>Van Canto</td>\n",
       "    </tr>\n",
       "    <tr>\n",
       "      <th>35646</th>\n",
       "      <td>2iSiU7MJuiVw3aUsJoZy15</td>\n",
       "      <td>Mind Control</td>\n",
       "      <td>Tantric</td>\n",
       "    </tr>\n",
       "  </tbody>\n",
       "</table>\n",
       "<p>34597 rows × 3 columns</p>\n",
       "</div>"
      ],
      "text/plain": [
       "                           id                 title           artist\n",
       "0      7zgqtptZvhf8GEmdsM2vp2      ...Ready For It?     Taylor Swift\n",
       "1      4Vxu50qVrQcycjRyJQaZLC          Life Changes     Thomas Rhett\n",
       "2      6b8Be6ljOzmkOmFslEb23P             24K Magic       Bruno Mars\n",
       "3      0afhq8XCExXpqazXczTSve           Galway Girl       Ed Sheeran\n",
       "4      1HNkqx9Ahdgi1Ixy2xkKkL            Photograph       Ed Sheeran\n",
       "...                       ...                   ...              ...\n",
       "35642  3kOl8elYophLlBuDIaH8gb         Pyretta Blaze  Type O Negative\n",
       "35643  6jTpj6yGuX2Bp8L21GD4pf       All Hallows Eve  Type O Negative\n",
       "35644  2PPCAZ1iB0a2lS1NeWU1f9  Day Tripper - Medley  Type O Negative\n",
       "35645  4FR4Fcyd8JNdhsHKSTUpnR             Neverland        Van Canto\n",
       "35646  2iSiU7MJuiVw3aUsJoZy15          Mind Control          Tantric\n",
       "\n",
       "[34597 rows x 3 columns]"
      ]
     },
     "execution_count": 58,
     "metadata": {},
     "output_type": "execute_result"
    }
   ],
   "source": [
    "info.drop_duplicates()"
   ]
  },
  {
   "cell_type": "code",
   "execution_count": 60,
   "id": "2d19cf4a",
   "metadata": {},
   "outputs": [
    {
     "data": {
      "text/plain": [
       "(35647, 3)"
      ]
     },
     "execution_count": 60,
     "metadata": {},
     "output_type": "execute_result"
    }
   ],
   "source": [
    "info.shape"
   ]
  },
  {
   "cell_type": "code",
   "execution_count": 61,
   "id": "98224fa5",
   "metadata": {},
   "outputs": [],
   "source": [
    "info.to_csv('info_df.csv', index=False)"
   ]
  },
  {
   "cell_type": "raw",
   "id": "ca7a6763",
   "metadata": {},
   "source": [
    "features = []\n",
    "\n",
    "for song in _id[3000:6000]:\n",
    "    sleep(0.5)\n",
    "    audio = sp.audio_features(tracks=song)\n",
    "    features.append(audio[0])\n",
    "\n",
    "audio_feat = pd.DataFrame(features)\n",
    "audio_feat.head()"
   ]
  },
  {
   "cell_type": "code",
   "execution_count": null,
   "id": "ca273a3a",
   "metadata": {},
   "outputs": [],
   "source": []
  },
  {
   "cell_type": "raw",
   "id": "fdaec4b2",
   "metadata": {},
   "source": [
    "audio"
   ]
  },
  {
   "cell_type": "code",
   "execution_count": null,
   "id": "e7fc6782",
   "metadata": {},
   "outputs": [],
   "source": []
  }
 ],
 "metadata": {
  "kernelspec": {
   "display_name": "Python 3",
   "language": "python",
   "name": "python3"
  },
  "language_info": {
   "codemirror_mode": {
    "name": "ipython",
    "version": 3
   },
   "file_extension": ".py",
   "mimetype": "text/x-python",
   "name": "python",
   "nbconvert_exporter": "python",
   "pygments_lexer": "ipython3",
   "version": "3.9.5"
  }
 },
 "nbformat": 4,
 "nbformat_minor": 5
}
