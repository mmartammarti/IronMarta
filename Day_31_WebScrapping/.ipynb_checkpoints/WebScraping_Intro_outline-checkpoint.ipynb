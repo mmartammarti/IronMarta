{
 "cells": [
  {
   "cell_type": "markdown",
   "id": "273dc65e",
   "metadata": {},
   "source": [
    "# Webscraping one page using beautiful soup \n",
    "\n",
    "### Tools for scraping \n",
    "\n",
    "+ https://www.crummy.com/software/BeautifulSoup/bs4/doc/  (this is what we will use in lectures)\n",
    "\n",
    "+ https://scrapy.org/\n",
    "\n",
    "+ https://selenium-python.readthedocs.io/\n",
    "\n"
   ]
  },
  {
   "cell_type": "markdown",
   "id": "official-driving",
   "metadata": {},
   "source": [
    "## Dormouse HTML Code \n"
   ]
  },
  {
   "cell_type": "code",
   "execution_count": null,
   "id": "disturbed-debate",
   "metadata": {},
   "outputs": [],
   "source": [
    "#create the variable\n",
    "\n",
    "html_doc =\"\"\"\n",
    "\n",
    "\"\"\""
   ]
  },
  {
   "cell_type": "code",
   "execution_count": null,
   "id": "0997bb3f",
   "metadata": {},
   "outputs": [],
   "source": [
    "# after installing as conda install -c anaconda beautifulsoup4\n",
    "\n",
    "#Import needed libraries - BeautifulSoup\n",
    "\n",
    "\n"
   ]
  },
  {
   "cell_type": "code",
   "execution_count": null,
   "id": "removed-bishop",
   "metadata": {},
   "outputs": [],
   "source": [
    "# parse (create) the soup \n"
   ]
  },
  {
   "cell_type": "code",
   "execution_count": null,
   "id": "outstanding-relation",
   "metadata": {},
   "outputs": [],
   "source": [
    "# prettify the soup \n"
   ]
  },
  {
   "cell_type": "markdown",
   "id": "5e2acd66",
   "metadata": {},
   "source": [
    "## Option 1 - using beautiful soup the \"HTML\" way  "
   ]
  },
  {
   "cell_type": "code",
   "execution_count": null,
   "id": "1e715f94",
   "metadata": {},
   "outputs": [],
   "source": [
    "# using basic tree navigation to access single elements\n"
   ]
  },
  {
   "cell_type": "code",
   "execution_count": null,
   "id": "3ef54e0c",
   "metadata": {},
   "outputs": [],
   "source": []
  },
  {
   "cell_type": "code",
   "execution_count": null,
   "id": "1ceac952",
   "metadata": {},
   "outputs": [],
   "source": [
    "# find elements of the tag using find_all()"
   ]
  },
  {
   "cell_type": "code",
   "execution_count": null,
   "id": "18223cf4",
   "metadata": {},
   "outputs": [],
   "source": []
  },
  {
   "cell_type": "markdown",
   "id": "conscious-alabama",
   "metadata": {},
   "source": [
    "## Option 2 - using beautiful soup the \"CSS\" way"
   ]
  },
  {
   "cell_type": "markdown",
   "id": "ddffb58d",
   "metadata": {},
   "source": [
    "As we will be be using css selectors, let's learn first the syntax of css selectors playing this game: https://flukeout.github.io/\n",
    "\n",
    "Everyone should reach level 12!"
   ]
  },
  {
   "cell_type": "code",
   "execution_count": null,
   "id": "20ace1d2",
   "metadata": {},
   "outputs": [],
   "source": [
    "# using select()"
   ]
  },
  {
   "cell_type": "markdown",
   "id": "e6b93616",
   "metadata": {},
   "source": [
    "We can combine the `select()` method with other bs4 methods, such as `get_text()`.\n",
    "\n",
    "`get_text()`, however, can only be applied to single elements, while `select()` might return multiple elements. It's common to iterate through the output of `select()`"
   ]
  },
  {
   "cell_type": "code",
   "execution_count": null,
   "id": "ea9e53c2",
   "metadata": {},
   "outputs": [],
   "source": []
  },
  {
   "cell_type": "code",
   "execution_count": null,
   "id": "bf842d58",
   "metadata": {},
   "outputs": [],
   "source": []
  },
  {
   "cell_type": "markdown",
   "id": "protected-provision",
   "metadata": {},
   "source": [
    "useful links for the lecture : \n",
    "    \n",
    "    https://www.w3schools.com/cssref/css_selectors.asp\n",
    "    https://www.w3schools.com/tags/default.asp\n",
    "    https://www.w3schools.com/css/css_syntax.ASP\n",
    "    https://www.imdb.com/chart/top/"
   ]
  },
  {
   "cell_type": "markdown",
   "id": "8c8a9c87",
   "metadata": {},
   "source": [
    "## Activity \n",
    "\n",
    "Write code to extract and print the following contents (not including the html tags, only human-readable text): \n",
    "\n",
    "1. All the \"fun facts\"\n",
    "\n",
    "2. The names of all the places\n",
    "\n",
    "3. The content (name and fact) of all the cities (only cities, not countries) \n",
    "\n",
    "4. The names (not facts!) of all the cities (not countries)\n"
   ]
  },
  {
   "cell_type": "code",
   "execution_count": null,
   "id": "b085766e",
   "metadata": {},
   "outputs": [],
   "source": [
    "geography = \"\"\"\n",
    "<!DOCTYPE html>\n",
    "<html>\n",
    "<head> Geography</head>\n",
    "<body>\n",
    "\n",
    "<div class=\"city\">\n",
    "  <h2>London</h2>\n",
    "  <p>London is the most popular tourist destination in the world.</p>\n",
    "</div>\n",
    "\n",
    "<div class=\"city\">\n",
    "  <h2>Paris</h2>\n",
    "  <p>Paris was originally a Roman City called Lutetia.</p>\n",
    "</div>\n",
    "\n",
    "<div class=\"country\">\n",
    "  <h2>Spain</h2>\n",
    "  <p>Spain produces 43,8% of all the world's Olive Oil.</p>\n",
    "</div>\n",
    "\n",
    "</body>\n",
    "</html>\n",
    "\"\"\""
   ]
  },
  {
   "cell_type": "code",
   "execution_count": null,
   "id": "e098240a",
   "metadata": {},
   "outputs": [],
   "source": []
  },
  {
   "cell_type": "code",
   "execution_count": null,
   "id": "33bb9a80",
   "metadata": {},
   "outputs": [],
   "source": []
  },
  {
   "cell_type": "code",
   "execution_count": null,
   "id": "b3426d22",
   "metadata": {},
   "outputs": [],
   "source": [
    "# 1. All the \"fun facts\"\n",
    "\n"
   ]
  },
  {
   "cell_type": "markdown",
   "id": "75b9771b",
   "metadata": {},
   "source": [
    "example : \n",
    "    \n",
    "\n",
    "**Paris was originally a Roman City called Lutetia**\n"
   ]
  },
  {
   "cell_type": "code",
   "execution_count": null,
   "id": "4deaf42a",
   "metadata": {},
   "outputs": [],
   "source": [
    "# 2. The names of all the places.\n",
    "\n"
   ]
  },
  {
   "cell_type": "markdown",
   "id": "090d6185",
   "metadata": {},
   "source": [
    "example: \n",
    "\n",
    "**Paris**"
   ]
  },
  {
   "cell_type": "code",
   "execution_count": null,
   "id": "5c479a6b",
   "metadata": {},
   "outputs": [],
   "source": [
    "# 3. All the content (name and fact) of all the cities (only cities, not countries!)\n",
    "\n"
   ]
  },
  {
   "cell_type": "markdown",
   "id": "2d1a3774",
   "metadata": {},
   "source": [
    "example: \n",
    "    \n",
    "**Paris**\n",
    "\n",
    "**Paris was originally a Roman City called Lutetia.**"
   ]
  },
  {
   "cell_type": "code",
   "execution_count": null,
   "id": "dbe5ccb5",
   "metadata": {},
   "outputs": [],
   "source": [
    "# 4. The names (not facts!) of all the cities (not countries!)\n",
    "\n"
   ]
  },
  {
   "cell_type": "code",
   "execution_count": null,
   "id": "b86d077e",
   "metadata": {},
   "outputs": [],
   "source": []
  },
  {
   "cell_type": "code",
   "execution_count": null,
   "id": "96ad65f9",
   "metadata": {},
   "outputs": [],
   "source": []
  },
  {
   "cell_type": "markdown",
   "id": "2802fb64",
   "metadata": {},
   "source": [
    "## Scraping the IMDB top 250\n",
    "\n",
    "Let's go to https://www.imdb.com/chart/top, where we'll see the top 250 movies according to IMDb ratings.\n",
    "\n",
    "Notice how each movie has the following elements:\n",
    "\n",
    "- Title\n",
    "\n",
    "- Release Year\n",
    "\n",
    "- IMDb rating\n",
    "\n",
    "- Director & main stars (they appear when you hover over the title)\n",
    "\n",
    "Our objective is going to be to scrape this information and store it in a pandas dataframe."
   ]
  },
  {
   "cell_type": "code",
   "execution_count": null,
   "id": "00a710ee",
   "metadata": {},
   "outputs": [],
   "source": [
    "# 1. importing libraries- BeautifulSoup, requests, pandas\n",
    "\n",
    "\n",
    "# 2. find url and store it in avariable\n",
    "url = \"https://www.imdb.com/chart/top\"\n",
    "\n",
    "# 3. download html with a get request\n",
    "response = requests.get(url)"
   ]
  },
  {
   "cell_type": "code",
   "execution_count": null,
   "id": "0f5c8333",
   "metadata": {},
   "outputs": [],
   "source": [
    "#check response status code \n"
   ]
  },
  {
   "cell_type": "code",
   "execution_count": null,
   "id": "2497ab30",
   "metadata": {},
   "outputs": [],
   "source": [
    "#parse and store the contents of the url call\n"
   ]
  },
  {
   "cell_type": "code",
   "execution_count": null,
   "id": "falling-helicopter",
   "metadata": {},
   "outputs": [],
   "source": [
    "#prettify the soup \n"
   ]
  },
  {
   "cell_type": "markdown",
   "id": "dd045694",
   "metadata": {},
   "source": [
    "### Query the soup to get movie title, actors, director, year \n"
   ]
  },
  {
   "cell_type": "code",
   "execution_count": null,
   "id": "e943384d",
   "metadata": {},
   "outputs": [],
   "source": []
  },
  {
   "cell_type": "code",
   "execution_count": null,
   "id": "04bb26b7",
   "metadata": {},
   "outputs": [],
   "source": []
  },
  {
   "cell_type": "code",
   "execution_count": null,
   "id": "6f0fc53a",
   "metadata": {},
   "outputs": [],
   "source": [
    "# the director and main stars are in the same tag, but as a value of the attribute \"title\"\n",
    "# we can access attributes as key-value pairs of dictionaries: using [\"key\"] to get the value:\n",
    "\n",
    "# instead of [\"title\"] we could use .get(\"title\"): choose whatever you prefer"
   ]
  },
  {
   "cell_type": "code",
   "execution_count": null,
   "id": "b8a55e1b",
   "metadata": {},
   "outputs": [],
   "source": []
  },
  {
   "cell_type": "code",
   "execution_count": null,
   "id": "a480696f",
   "metadata": {},
   "outputs": [],
   "source": [
    "# the years are inside a 'span' tag with the 'secondaryInfo' class\n",
    "# we also specify the parent tag and its class, which is the same we used before\n",
    "# the years are inside parentheses, but we'll take care of that later"
   ]
  },
  {
   "cell_type": "code",
   "execution_count": null,
   "id": "0d29f6fb",
   "metadata": {},
   "outputs": [],
   "source": []
  },
  {
   "cell_type": "code",
   "execution_count": null,
   "id": "9e911d2b",
   "metadata": {},
   "outputs": [],
   "source": []
  },
  {
   "cell_type": "code",
   "execution_count": null,
   "id": "cc112bf0",
   "metadata": {},
   "outputs": [],
   "source": []
  },
  {
   "cell_type": "markdown",
   "id": "violent-acquisition",
   "metadata": {},
   "source": [
    "### Once we have a method working for one movie, we can apply it for all the movies\n",
    "\n",
    "- loop through movies\n",
    "- pick up title, director, actors, year\n",
    "\n",
    "+ store in a list\n",
    "\n",
    "- for example \n",
    "\n",
    "**movie_lst = soup.select(\"td.titleColumn a\")**\n",
    "\n",
    "**yr_lst = soup.select(\"td.titleColumn span.secondaryInfo\")**"
   ]
  },
  {
   "cell_type": "code",
   "execution_count": null,
   "id": "2aaba711",
   "metadata": {},
   "outputs": [],
   "source": [
    "## install tqqm.notebook using conda install -c conda-forge tqdm\n"
   ]
  },
  {
   "cell_type": "code",
   "execution_count": null,
   "id": "5743d9b5",
   "metadata": {},
   "outputs": [],
   "source": []
  },
  {
   "cell_type": "code",
   "execution_count": null,
   "id": "af8accb4",
   "metadata": {},
   "outputs": [],
   "source": []
  },
  {
   "cell_type": "code",
   "execution_count": null,
   "id": "9ad67912",
   "metadata": {},
   "outputs": [],
   "source": []
  },
  {
   "cell_type": "markdown",
   "id": "e812d759",
   "metadata": {},
   "source": [
    "### Cleaning / Wrangling steps for the scraped data \n",
    "\n",
    "An inherent part of web scraping is data cleaning. We managed to get the information we needed, but for it to be useful, we still need some extra steps:\n",
    "\n",
    "- Take the year out of the parentheses: we know we can do that with regex, but string methods such as str.replace() might be simpler to use.\n",
    "\n",
    "- Split dir_stars into 3 columns, one for each person: \"director\", \"star_1\", \"star_2\". This could have been done by filtering when extracting the data from the html document, but it looks easier afterwards:\n",
    "\n",
    "    - The \"(dir.)\" pattern can be removed\n",
    "    - We can split the string at each comma\n",
    "    \n",
    "- Change the data type of the year column to integer.\n"
   ]
  },
  {
   "cell_type": "code",
   "execution_count": null,
   "id": "636355d8",
   "metadata": {},
   "outputs": [],
   "source": []
  },
  {
   "cell_type": "code",
   "execution_count": null,
   "id": "4bda9a69",
   "metadata": {},
   "outputs": [],
   "source": []
  },
  {
   "cell_type": "code",
   "execution_count": null,
   "id": "55a0aa1d",
   "metadata": {},
   "outputs": [],
   "source": []
  },
  {
   "cell_type": "markdown",
   "id": "32cbb20d",
   "metadata": {},
   "source": [
    "### Create data frame from results and preview "
   ]
  },
  {
   "cell_type": "code",
   "execution_count": null,
   "id": "48392c55",
   "metadata": {},
   "outputs": [],
   "source": []
  },
  {
   "cell_type": "code",
   "execution_count": null,
   "id": "679984f5",
   "metadata": {},
   "outputs": [],
   "source": []
  },
  {
   "cell_type": "code",
   "execution_count": null,
   "id": "31a6744f",
   "metadata": {},
   "outputs": [],
   "source": []
  }
 ],
 "metadata": {
  "kernelspec": {
   "display_name": "Python 3",
   "language": "python",
   "name": "python3"
  },
  "language_info": {
   "codemirror_mode": {
    "name": "ipython",
    "version": 3
   },
   "file_extension": ".py",
   "mimetype": "text/x-python",
   "name": "python",
   "nbconvert_exporter": "python",
   "pygments_lexer": "ipython3",
   "version": "3.9.5"
  }
 },
 "nbformat": 4,
 "nbformat_minor": 5
}
